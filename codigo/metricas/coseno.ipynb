{
  "cells": [
    {
      "cell_type": "markdown",
      "metadata": {
        "id": "view-in-github",
        "colab_type": "text"
      },
      "source": [
        "<a href=\"https://colab.research.google.com/github/veiro/tesis-imputacion-datos/blob/main/codigo/metricas/coseno.ipynb\" target=\"_parent\"><img src=\"https://colab.research.google.com/assets/colab-badge.svg\" alt=\"Open In Colab\"/></a>"
      ]
    },
    {
      "cell_type": "markdown",
      "metadata": {
        "id": "D4AZA9YvY2In"
      },
      "source": [
        "\n",
        "# Similiridad semantica, similutd del coseno\n",
        "- el objetivo es ver que tan similares son semanticamente las tuplas utilizadas en la tarea de prediccion\n"
      ]
    },
    {
      "cell_type": "markdown",
      "source": [
        "# Configuracion"
      ],
      "metadata": {
        "id": "UraF-sgJV04u"
      }
    },
    {
      "cell_type": "code",
      "source": [
        "USAR_GOOGLE_DRIVE =  True\n",
        "MODO_DESARROLLO = False\n",
        "\n"
      ],
      "metadata": {
        "id": "bS0FK7kCWEbE"
      },
      "execution_count": null,
      "outputs": []
    },
    {
      "cell_type": "code",
      "source": [
        "!pip install \"pandas<2.0.0\"\n",
        "!pip install \"joblib==1.3.2\"\n",
        "!pip install \"scikit-learn==1-4-2\""
      ],
      "metadata": {
        "colab": {
          "base_uri": "https://localhost:8080/"
        },
        "id": "J8tqXYUE6cxb",
        "outputId": "e5f56a9a-8338-492c-99c4-979aac1e6a09"
      },
      "execution_count": null,
      "outputs": [
        {
          "output_type": "stream",
          "name": "stdout",
          "text": [
            "Requirement already satisfied: pandas<2.0.0 in /usr/local/lib/python3.10/dist-packages (1.5.3)\n",
            "Requirement already satisfied: python-dateutil>=2.8.1 in /usr/local/lib/python3.10/dist-packages (from pandas<2.0.0) (2.8.2)\n",
            "Requirement already satisfied: pytz>=2020.1 in /usr/local/lib/python3.10/dist-packages (from pandas<2.0.0) (2023.4)\n",
            "Requirement already satisfied: numpy>=1.21.0 in /usr/local/lib/python3.10/dist-packages (from pandas<2.0.0) (1.25.2)\n",
            "Requirement already satisfied: six>=1.5 in /usr/local/lib/python3.10/dist-packages (from python-dateutil>=2.8.1->pandas<2.0.0) (1.16.0)\n",
            "Requirement already satisfied: joblib==1.3.2 in /usr/local/lib/python3.10/dist-packages (1.3.2)\n",
            "\u001b[31mERROR: Could not find a version that satisfies the requirement scikit-learn==1-4-2 (from versions: 0.9, 0.10, 0.11, 0.12, 0.12.1, 0.13, 0.13.1, 0.14, 0.14.1, 0.15.0, 0.15.1, 0.15.2, 0.16.0, 0.16.1, 0.17, 0.17.1, 0.18, 0.18.1, 0.18.2, 0.19.0, 0.19.1, 0.19.2, 0.20.0, 0.20.1, 0.20.2, 0.20.3, 0.20.4, 0.21.1, 0.21.2, 0.21.3, 0.22, 0.22.1, 0.22.2.post1, 0.23.0, 0.23.1, 0.23.2, 0.24.0, 0.24.1, 0.24.2, 1.0, 1.0.1, 1.0.2, 1.1.0, 1.1.1, 1.1.2, 1.1.3, 1.2.0rc1, 1.2.0, 1.2.1, 1.2.2, 1.3.0rc1, 1.3.0, 1.3.1, 1.3.2, 1.4.0rc1, 1.4.0, 1.4.1.post1, 1.4.2, 1.5.0rc1, 1.5.0)\u001b[0m\u001b[31m\n",
            "\u001b[0m\u001b[31mERROR: No matching distribution found for scikit-learn==1-4-2\u001b[0m\u001b[31m\n",
            "\u001b[0m"
          ]
        }
      ]
    },
    {
      "cell_type": "code",
      "source": [
        "import os\n",
        "import sys\n",
        "import random\n",
        "import numpy as np\n",
        "import pandas as pd\n",
        "from math import sqrt\n",
        "\n",
        "from sklearn.metrics import mean_squared_error\n",
        "from sklearn.preprocessing import MinMaxScaler\n",
        "\n",
        "from google.colab import drive\n",
        "from sklearn.preprocessing import OneHotEncoder\n",
        "from sklearn.preprocessing import LabelEncoder\n",
        "from sklearn.model_selection import train_test_split\n",
        "from tqdm import tqdm\n",
        "from sklearn.metrics.pairwise import cosine_similarity\n",
        "\n"
      ],
      "metadata": {
        "id": "suHPHErCV4mt"
      },
      "execution_count": null,
      "outputs": []
    },
    {
      "cell_type": "markdown",
      "metadata": {
        "id": "LOxAfHIgY2I7"
      },
      "source": [
        "#Descarga de datos y preprocesamiento\n",
        "\n",
        "\n",
        "\n"
      ]
    },
    {
      "cell_type": "code",
      "source": [
        "%%time\n",
        "if (USAR_GOOGLE_DRIVE):\n",
        "  drive.mount('/content/gdrive')\n",
        "  PATH_DATA_PROCESADA = \"/content/gdrive/MyDrive/Maestria/Tesis/Codigo/data/data-procesada\"\n",
        "  sys.path.append('/content/gdrive/MyDrive/Maestria/Tesis/Codigo/utils')\n",
        "\n",
        "else:\n",
        "  PATH_DATA_PROCESADA = \"/mnt\"\n",
        "\n",
        "\n",
        "import utils as utils\n",
        "import importlib\n",
        "importlib.reload(utils)\n",
        "\n",
        "if (30 ==  utils.version()):\n",
        "  print(\"version correcta\")\n",
        "else:\n",
        "  raise Exception(\"Version de Util vieja\")\n",
        "\n",
        "data_full = pd.read_csv(PATH_DATA_PROCESADA + '/csse_covid_19_data_test_decode=False_missing=False_' + 'Desarrollo=False' + '.csv')\n",
        "\n",
        "\n",
        "data_sin_null = data_full.dropna(subset=['Province_State', 'Lat', 'Long_', 'Incident_Rate', 'Case_Fatality_Ratio'])\n",
        "\n",
        "if(MODO_DESARROLLO):\n",
        "   data_utilizar = data_sin_null.sample(n=10000, random_state=1)\n",
        "else:\n",
        "  data_utilizar = data_sin_null\n",
        "\n",
        "df_test_encoded, df_test_encoded_missing, mask_test_open = utils.obtenerDatosTest(MODO_DESARROLLO, PATH_DATA_PROCESADA)\n",
        "\n"
      ],
      "metadata": {
        "colab": {
          "base_uri": "https://localhost:8080/"
        },
        "id": "oFnqiu2XVqyV",
        "outputId": "d123200e-e60d-4948-93d1-f547ea6620c2"
      },
      "execution_count": null,
      "outputs": [
        {
          "output_type": "stream",
          "name": "stdout",
          "text": [
            "Drive already mounted at /content/gdrive; to attempt to forcibly remount, call drive.mount(\"/content/gdrive\", force_remount=True).\n",
            "version correcta\n",
            "CPU times: user 8.22 s, sys: 782 ms, total: 9 s\n",
            "Wall time: 12.2 s\n"
          ]
        }
      ]
    },
    {
      "cell_type": "markdown",
      "source": [
        "# Utils"
      ],
      "metadata": {
        "id": "2TqDlHUt8JV-"
      }
    },
    {
      "cell_type": "code",
      "source": [
        "df_resultados = pd.DataFrame(columns=['Strategy', 'sim_coseno_promedio' ])\n",
        "\n",
        "def guardoResultados(strat, sim_coseno_promedio):\n",
        "  global df_resultados\n",
        "  print(\"Strategy: \" + utils.prettyPrintName(strat) + ' - sim_coseno_promedio: ' + str(sim_coseno_promedio) )\n",
        "  df_resultados = pd.concat([df_resultados , pd.DataFrame([{ 'Strategy':utils.prettyPrintName(strat),'sim_coseno_promedio':sim_coseno_promedio}])])\n",
        "\n",
        "def calcularMetricas(data, imputed_data, strat):\n",
        "\n",
        "  data, imputed_data  = utils.obtener_df_imputados(data, imputed_data, mask_test_open)\n",
        "\n",
        "  imputed_data.to_csv(PATH_DATA_PROCESADA+'/cod_imp_'+strat, index=False)\n",
        "  sim_coseno_promedio = utils.calcular_similitud_cosine_promedio(data, imputed_data)\n",
        "  guardoResultados(strat, sim_coseno_promedio)"
      ],
      "metadata": {
        "id": "TvIPE_o88Lu4"
      },
      "execution_count": null,
      "outputs": []
    },
    {
      "cell_type": "code",
      "source": [
        "# el tema es que el encoding ya guardaba cosas, entocnes me traje el codigo y lo modifique para codificar nomas.\n",
        "def encoding(dataset, PATH_DATA_PROCESADA):\n",
        "  global encoderOHE\n",
        "  global encoderLE1\n",
        "  global encoderLE2\n",
        "  global encoderLE3\n",
        "  global encoded_df_Country_Region_cols\n",
        "\n",
        "  # ENCODING\n",
        "  # 1- onehotenconding de Country_Region\n",
        "  df=dataset\n",
        "\n",
        "  encoded_data = encoderOHE.fit_transform( df[['Country_Region']])\n",
        "  encoded_df_Country_Region = pd.DataFrame(encoded_data, columns=encoderOHE.get_feature_names_out(['Country_Region']))\n",
        "  encoded_df_Country_Region_cols = encoded_df_Country_Region.shape[1]\n",
        "\n",
        "  df = df.drop(['Country_Region'], axis=1)\n",
        "\n",
        "  # hice este concat horrible por que por alguna razon no me andaba bien el concant ordinario\n",
        "  pos = encoded_df_Country_Region_cols\n",
        "  for col in df.columns:\n",
        "    encoded_df_Country_Region.insert( pos, col, df[col].to_numpy(), True)\n",
        "    pos=pos+1\n",
        "\n",
        "  df = encoded_df_Country_Region\n",
        "\n",
        "  # 2 Province_State, Last_Update, date\n",
        "  df['Province_State_encoded'] = encoderLE1.fit_transform(df['Province_State'])\n",
        "  df = df.drop(['Province_State'], axis=1)\n",
        "\n",
        "  df['Last_Update_encoded'] = encoderLE2.fit_transform(df['Last_Update'])\n",
        "  df = df.drop(['Last_Update'], axis=1)\n",
        "\n",
        "  df['date_encoded'] = encoderLE3.fit_transform(df['date'])\n",
        "  df = df.drop(['date'], axis=1)\n",
        "\n",
        "  df.reset_index(drop=True)\n",
        "\n",
        "  # guardo los modelos utilizados:\n",
        "  #save_pickle_model('encoderOHE',encoderOHE, PATH_DATA_PROCESADA )\n",
        "  #save_pickle_model('encoderLE1',encoderLE1, PATH_DATA_PROCESADA)\n",
        "  #save_pickle_model('encoderLE2',encoderLE1, PATH_DATA_PROCESADA)\n",
        "  #save_pickle_model('encoderLE3',encoderLE1, PATH_DATA_PROCESADA)\n",
        "  #save_pickle_model('encoded_df_Country_Region_cols',encoderLE1, PATH_DATA_PROCESADA)\n",
        "  return df\n",
        "\n",
        "import pickle\n",
        "def save_pickle_model(name, model, PATH_DATA_PROCESADA):\n",
        " with open(PATH_DATA_PROCESADA + '/' + name , 'wb') as handle:\n",
        "    pickle.dump(model, handle, protocol=pickle.HIGHEST_PROTOCOL)\n",
        "\n",
        "def load_pickle_model(name, PATH_DATA_PROCESADA):\n",
        "  with open(PATH_DATA_PROCESADA + '/' + name, 'rb') as handle:\n",
        "      model = pickle.load(handle)\n",
        "  return model\n",
        "  # variables gloables\n",
        "encoded_df_Country_Region_cols = 0\n",
        "encoderOHE = OneHotEncoder(handle_unknown='ignore')\n",
        "encoderLE1 = LabelEncoder()\n",
        "encoderLE2 = LabelEncoder()\n",
        "encoderLE3 = LabelEncoder()\n",
        "\n",
        "\n",
        "\n",
        "encoderOHE = load_pickle_model('encoderOHE', PATH_DATA_PROCESADA)\n",
        "encoderLE1 = load_pickle_model('encoderLE1', PATH_DATA_PROCESADA)\n",
        "encoderLE2 = load_pickle_model('encoderLE2', PATH_DATA_PROCESADA)\n",
        "encoderLE3 = load_pickle_model('encoderLE3', PATH_DATA_PROCESADA)\n",
        "encoded_df_Country_Region_cols = load_pickle_model('encoded_df_Country_Region_cols', PATH_DATA_PROCESADA)"
      ],
      "metadata": {
        "id": "XBwC-WFn6tZL"
      },
      "execution_count": null,
      "outputs": []
    },
    {
      "cell_type": "markdown",
      "source": [
        "# calcular similtudes coseno con la codificacion de pycaret para prediccion numerico\n",
        "\n"
      ],
      "metadata": {
        "id": "4QTOU5RT4TBv"
      }
    },
    {
      "cell_type": "code",
      "source": [
        "files=[\n",
        "       'csse_covid_19_data_strategy=constant_Desarrollo='+str(MODO_DESARROLLO)+'.csv',\n",
        "       'csse_covid_19_data_strategy=most_frequent_Desarrollo='+str(MODO_DESARROLLO)+'.csv',\n",
        "       'csse_covid_19_data_strategy=mean_Desarrollo='+str(MODO_DESARROLLO)+'.csv',\n",
        "       'csse_covid_19_data_strategy=median_Desarrollo='+str(MODO_DESARROLLO)+'.csv',\n",
        "       'csse_covid_19_data_strategy=IterativeImputer_Desarrollo='+str(MODO_DESARROLLO)+'.csv',\n",
        "       'csse_covid_19_data_MIDASpy_Desarrollo='+str(MODO_DESARROLLO)+'.csv',\n",
        "       'csse_covid_19_data_GAIN._Desarrollo='+str(MODO_DESARROLLO)+'.csv',\n",
        "       'csse_covid_19_data_Transformer_final_Desarrollo='+str(MODO_DESARROLLO)+'.csv',\n",
        "       'csse_covid_19_data_XGBoost_full_Desarrollo='+str(MODO_DESARROLLO)+'.csv',\n",
        "       'csse_covid_19_data_Knn_full_Desarrollo='+str(MODO_DESARROLLO)+'.csv']\n",
        "\n",
        "\n",
        "\n",
        "\n",
        "#ruta_modelo = PATH_DATA_PROCESADA + '/modelo_prediccion/' + 'regresion_deaths_Desarrollo=False'\n",
        "#loaded_best_pipeline = load_model(ruta_modelo)\n",
        "#s = setup(data_utilizar, target = 'Deaths', session_id = 123, verbose = False)\n",
        "#prep_pipe = get_config('pipeline')\n",
        "#data_original_encoded =  prep_pipe.transform(data_utilizar)\n",
        "\n",
        "data_original_encoded =  encoding(data_utilizar, PATH_DATA_PROCESADA).reset_index(drop=True)\n",
        "## esto es por que debo comprar misma dimension\n",
        "if(MODO_DESARROLLO):\n",
        "  data_original_encoded =  data_original_encoded.sample(n=10000, random_state=1,replace=True)\n",
        "\n"
      ],
      "metadata": {
        "id": "gRJDXCjv4Wf6"
      },
      "execution_count": null,
      "outputs": []
    },
    {
      "cell_type": "code",
      "source": [
        "for fp in  files:\n",
        "  print(\"Inicio \" + fp)\n",
        "  data_imputed_full = pd.read_csv(PATH_DATA_PROCESADA+'/'+fp)\n",
        "  if(MODO_DESARROLLO):\n",
        "    data_imputed =  data_imputed_full.sample(n=10000, random_state=1,replace=True ).reset_index(drop=True)\n",
        "  else:\n",
        "    data_imputed = data_imputed_full\n",
        "\n",
        "\n",
        "  #data_imputed_encoded = prep_pipe.transform(data_imputed)\n",
        "  data_imputed_encoded = encoding(data_imputed, PATH_DATA_PROCESADA).reset_index(drop=True)\n",
        "\n",
        "  calcularMetricas(data_original_encoded, data_imputed_encoded, fp)\n",
        "\n",
        "  del data_imputed_encoded\n",
        "  del data_imputed_full\n",
        "  del data_imputed\n",
        "\n",
        "  print(\"Fin  \" + fp)\n",
        "  print(\"-----------------------------------\")"
      ],
      "metadata": {
        "colab": {
          "base_uri": "https://localhost:8080/"
        },
        "id": "yefUD9hWFQP9",
        "outputId": "543b9ec8-c14c-4585-a85a-28dc2044df8a"
      },
      "execution_count": null,
      "outputs": [
        {
          "output_type": "stream",
          "name": "stdout",
          "text": [
            "Inicio csse_covid_19_data_strategy=constant_Desarrollo=False.csv\n",
            "Strategy: constant - sim_coseno_promedio: 0.8109686209525381\n",
            "Fin  csse_covid_19_data_strategy=constant_Desarrollo=False.csv\n",
            "-----------------------------------\n",
            "Inicio csse_covid_19_data_strategy=most_frequent_Desarrollo=False.csv\n",
            "Strategy: most_frequent - sim_coseno_promedio: 0.810974458744135\n",
            "Fin  csse_covid_19_data_strategy=most_frequent_Desarrollo=False.csv\n",
            "-----------------------------------\n",
            "Inicio csse_covid_19_data_strategy=mean_Desarrollo=False.csv\n",
            "Strategy: mean - sim_coseno_promedio: 0.9706482267310518\n",
            "Fin  csse_covid_19_data_strategy=mean_Desarrollo=False.csv\n",
            "-----------------------------------\n",
            "Inicio csse_covid_19_data_strategy=median_Desarrollo=False.csv\n",
            "Strategy: median - sim_coseno_promedio: 0.9511719964448675\n",
            "Fin  csse_covid_19_data_strategy=median_Desarrollo=False.csv\n",
            "-----------------------------------\n",
            "Inicio csse_covid_19_data_strategy=IterativeImputer_Desarrollo=False.csv\n",
            "Strategy: IterativeImputer - sim_coseno_promedio: 0.9298963248370323\n",
            "Fin  csse_covid_19_data_strategy=IterativeImputer_Desarrollo=False.csv\n",
            "-----------------------------------\n",
            "Inicio csse_covid_19_data_MIDASpy_Desarrollo=False.csv\n",
            "Strategy: MIDASpy - sim_coseno_promedio: 0.9874881022938455\n",
            "Fin  csse_covid_19_data_MIDASpy_Desarrollo=False.csv\n",
            "-----------------------------------\n",
            "Inicio csse_covid_19_data_GAIN._Desarrollo=False.csv\n",
            "Strategy: GAIN - sim_coseno_promedio: 0.9693933648618398\n",
            "Fin  csse_covid_19_data_GAIN._Desarrollo=False.csv\n",
            "-----------------------------------\n",
            "Inicio csse_covid_19_data_Transformer_final_Desarrollo=False.csv\n",
            "Strategy: Transformer - sim_coseno_promedio: 0.926043981922956\n",
            "Fin  csse_covid_19_data_Transformer_final_Desarrollo=False.csv\n",
            "-----------------------------------\n",
            "Inicio csse_covid_19_data_XGBoost_full_Desarrollo=False.csv\n",
            "Strategy: XGBoost - sim_coseno_promedio: 0.9871043435478208\n",
            "Fin  csse_covid_19_data_XGBoost_full_Desarrollo=False.csv\n",
            "-----------------------------------\n",
            "Inicio csse_covid_19_data_Knn_full_Desarrollo=False.csv\n",
            "Strategy: Knn - sim_coseno_promedio: 0.9993507710591577\n",
            "Fin  csse_covid_19_data_Knn_full_Desarrollo=False.csv\n",
            "-----------------------------------\n"
          ]
        }
      ]
    },
    {
      "cell_type": "markdown",
      "source": [
        "## Resultados"
      ],
      "metadata": {
        "id": "jtH1PeGL4pmt"
      }
    },
    {
      "cell_type": "code",
      "source": [
        "df_resultados\n",
        "# cos 0 = 1\n",
        "# cos pi/2 = 0\n",
        "\n",
        "#Entonces cuanto mas cerca de 1 mas parecidos.\n",
        "\n"
      ],
      "metadata": {
        "id": "5O9pBi0Q4Ymc",
        "colab": {
          "base_uri": "https://localhost:8080/",
          "height": 363
        },
        "outputId": "e09fdff6-27e2-4fde-fffb-d441d376a38c"
      },
      "execution_count": null,
      "outputs": [
        {
          "output_type": "execute_result",
          "data": {
            "text/plain": [
              "           Strategy  sim_coseno_promedio\n",
              "0          constant             0.810969\n",
              "0     most_frequent             0.810974\n",
              "0              mean             0.970648\n",
              "0            median             0.951172\n",
              "0  IterativeImputer             0.929896\n",
              "0           MIDASpy             0.987488\n",
              "0              GAIN             0.969393\n",
              "0       Transformer             0.926044\n",
              "0           XGBoost             0.987104\n",
              "0               Knn             0.999351"
            ],
            "text/html": [
              "\n",
              "  <div id=\"df-37254337-9b34-461b-9c71-1c35e1966076\" class=\"colab-df-container\">\n",
              "    <div>\n",
              "<style scoped>\n",
              "    .dataframe tbody tr th:only-of-type {\n",
              "        vertical-align: middle;\n",
              "    }\n",
              "\n",
              "    .dataframe tbody tr th {\n",
              "        vertical-align: top;\n",
              "    }\n",
              "\n",
              "    .dataframe thead th {\n",
              "        text-align: right;\n",
              "    }\n",
              "</style>\n",
              "<table border=\"1\" class=\"dataframe\">\n",
              "  <thead>\n",
              "    <tr style=\"text-align: right;\">\n",
              "      <th></th>\n",
              "      <th>Strategy</th>\n",
              "      <th>sim_coseno_promedio</th>\n",
              "    </tr>\n",
              "  </thead>\n",
              "  <tbody>\n",
              "    <tr>\n",
              "      <th>0</th>\n",
              "      <td>constant</td>\n",
              "      <td>0.810969</td>\n",
              "    </tr>\n",
              "    <tr>\n",
              "      <th>0</th>\n",
              "      <td>most_frequent</td>\n",
              "      <td>0.810974</td>\n",
              "    </tr>\n",
              "    <tr>\n",
              "      <th>0</th>\n",
              "      <td>mean</td>\n",
              "      <td>0.970648</td>\n",
              "    </tr>\n",
              "    <tr>\n",
              "      <th>0</th>\n",
              "      <td>median</td>\n",
              "      <td>0.951172</td>\n",
              "    </tr>\n",
              "    <tr>\n",
              "      <th>0</th>\n",
              "      <td>IterativeImputer</td>\n",
              "      <td>0.929896</td>\n",
              "    </tr>\n",
              "    <tr>\n",
              "      <th>0</th>\n",
              "      <td>MIDASpy</td>\n",
              "      <td>0.987488</td>\n",
              "    </tr>\n",
              "    <tr>\n",
              "      <th>0</th>\n",
              "      <td>GAIN</td>\n",
              "      <td>0.969393</td>\n",
              "    </tr>\n",
              "    <tr>\n",
              "      <th>0</th>\n",
              "      <td>Transformer</td>\n",
              "      <td>0.926044</td>\n",
              "    </tr>\n",
              "    <tr>\n",
              "      <th>0</th>\n",
              "      <td>XGBoost</td>\n",
              "      <td>0.987104</td>\n",
              "    </tr>\n",
              "    <tr>\n",
              "      <th>0</th>\n",
              "      <td>Knn</td>\n",
              "      <td>0.999351</td>\n",
              "    </tr>\n",
              "  </tbody>\n",
              "</table>\n",
              "</div>\n",
              "    <div class=\"colab-df-buttons\">\n",
              "\n",
              "  <div class=\"colab-df-container\">\n",
              "    <button class=\"colab-df-convert\" onclick=\"convertToInteractive('df-37254337-9b34-461b-9c71-1c35e1966076')\"\n",
              "            title=\"Convert this dataframe to an interactive table.\"\n",
              "            style=\"display:none;\">\n",
              "\n",
              "  <svg xmlns=\"http://www.w3.org/2000/svg\" height=\"24px\" viewBox=\"0 -960 960 960\">\n",
              "    <path d=\"M120-120v-720h720v720H120Zm60-500h600v-160H180v160Zm220 220h160v-160H400v160Zm0 220h160v-160H400v160ZM180-400h160v-160H180v160Zm440 0h160v-160H620v160ZM180-180h160v-160H180v160Zm440 0h160v-160H620v160Z\"/>\n",
              "  </svg>\n",
              "    </button>\n",
              "\n",
              "  <style>\n",
              "    .colab-df-container {\n",
              "      display:flex;\n",
              "      gap: 12px;\n",
              "    }\n",
              "\n",
              "    .colab-df-convert {\n",
              "      background-color: #E8F0FE;\n",
              "      border: none;\n",
              "      border-radius: 50%;\n",
              "      cursor: pointer;\n",
              "      display: none;\n",
              "      fill: #1967D2;\n",
              "      height: 32px;\n",
              "      padding: 0 0 0 0;\n",
              "      width: 32px;\n",
              "    }\n",
              "\n",
              "    .colab-df-convert:hover {\n",
              "      background-color: #E2EBFA;\n",
              "      box-shadow: 0px 1px 2px rgba(60, 64, 67, 0.3), 0px 1px 3px 1px rgba(60, 64, 67, 0.15);\n",
              "      fill: #174EA6;\n",
              "    }\n",
              "\n",
              "    .colab-df-buttons div {\n",
              "      margin-bottom: 4px;\n",
              "    }\n",
              "\n",
              "    [theme=dark] .colab-df-convert {\n",
              "      background-color: #3B4455;\n",
              "      fill: #D2E3FC;\n",
              "    }\n",
              "\n",
              "    [theme=dark] .colab-df-convert:hover {\n",
              "      background-color: #434B5C;\n",
              "      box-shadow: 0px 1px 3px 1px rgba(0, 0, 0, 0.15);\n",
              "      filter: drop-shadow(0px 1px 2px rgba(0, 0, 0, 0.3));\n",
              "      fill: #FFFFFF;\n",
              "    }\n",
              "  </style>\n",
              "\n",
              "    <script>\n",
              "      const buttonEl =\n",
              "        document.querySelector('#df-37254337-9b34-461b-9c71-1c35e1966076 button.colab-df-convert');\n",
              "      buttonEl.style.display =\n",
              "        google.colab.kernel.accessAllowed ? 'block' : 'none';\n",
              "\n",
              "      async function convertToInteractive(key) {\n",
              "        const element = document.querySelector('#df-37254337-9b34-461b-9c71-1c35e1966076');\n",
              "        const dataTable =\n",
              "          await google.colab.kernel.invokeFunction('convertToInteractive',\n",
              "                                                    [key], {});\n",
              "        if (!dataTable) return;\n",
              "\n",
              "        const docLinkHtml = 'Like what you see? Visit the ' +\n",
              "          '<a target=\"_blank\" href=https://colab.research.google.com/notebooks/data_table.ipynb>data table notebook</a>'\n",
              "          + ' to learn more about interactive tables.';\n",
              "        element.innerHTML = '';\n",
              "        dataTable['output_type'] = 'display_data';\n",
              "        await google.colab.output.renderOutput(dataTable, element);\n",
              "        const docLink = document.createElement('div');\n",
              "        docLink.innerHTML = docLinkHtml;\n",
              "        element.appendChild(docLink);\n",
              "      }\n",
              "    </script>\n",
              "  </div>\n",
              "\n",
              "\n",
              "<div id=\"df-091eb12b-cec4-46cd-9a81-78ac7f2d9654\">\n",
              "  <button class=\"colab-df-quickchart\" onclick=\"quickchart('df-091eb12b-cec4-46cd-9a81-78ac7f2d9654')\"\n",
              "            title=\"Suggest charts\"\n",
              "            style=\"display:none;\">\n",
              "\n",
              "<svg xmlns=\"http://www.w3.org/2000/svg\" height=\"24px\"viewBox=\"0 0 24 24\"\n",
              "     width=\"24px\">\n",
              "    <g>\n",
              "        <path d=\"M19 3H5c-1.1 0-2 .9-2 2v14c0 1.1.9 2 2 2h14c1.1 0 2-.9 2-2V5c0-1.1-.9-2-2-2zM9 17H7v-7h2v7zm4 0h-2V7h2v10zm4 0h-2v-4h2v4z\"/>\n",
              "    </g>\n",
              "</svg>\n",
              "  </button>\n",
              "\n",
              "<style>\n",
              "  .colab-df-quickchart {\n",
              "      --bg-color: #E8F0FE;\n",
              "      --fill-color: #1967D2;\n",
              "      --hover-bg-color: #E2EBFA;\n",
              "      --hover-fill-color: #174EA6;\n",
              "      --disabled-fill-color: #AAA;\n",
              "      --disabled-bg-color: #DDD;\n",
              "  }\n",
              "\n",
              "  [theme=dark] .colab-df-quickchart {\n",
              "      --bg-color: #3B4455;\n",
              "      --fill-color: #D2E3FC;\n",
              "      --hover-bg-color: #434B5C;\n",
              "      --hover-fill-color: #FFFFFF;\n",
              "      --disabled-bg-color: #3B4455;\n",
              "      --disabled-fill-color: #666;\n",
              "  }\n",
              "\n",
              "  .colab-df-quickchart {\n",
              "    background-color: var(--bg-color);\n",
              "    border: none;\n",
              "    border-radius: 50%;\n",
              "    cursor: pointer;\n",
              "    display: none;\n",
              "    fill: var(--fill-color);\n",
              "    height: 32px;\n",
              "    padding: 0;\n",
              "    width: 32px;\n",
              "  }\n",
              "\n",
              "  .colab-df-quickchart:hover {\n",
              "    background-color: var(--hover-bg-color);\n",
              "    box-shadow: 0 1px 2px rgba(60, 64, 67, 0.3), 0 1px 3px 1px rgba(60, 64, 67, 0.15);\n",
              "    fill: var(--button-hover-fill-color);\n",
              "  }\n",
              "\n",
              "  .colab-df-quickchart-complete:disabled,\n",
              "  .colab-df-quickchart-complete:disabled:hover {\n",
              "    background-color: var(--disabled-bg-color);\n",
              "    fill: var(--disabled-fill-color);\n",
              "    box-shadow: none;\n",
              "  }\n",
              "\n",
              "  .colab-df-spinner {\n",
              "    border: 2px solid var(--fill-color);\n",
              "    border-color: transparent;\n",
              "    border-bottom-color: var(--fill-color);\n",
              "    animation:\n",
              "      spin 1s steps(1) infinite;\n",
              "  }\n",
              "\n",
              "  @keyframes spin {\n",
              "    0% {\n",
              "      border-color: transparent;\n",
              "      border-bottom-color: var(--fill-color);\n",
              "      border-left-color: var(--fill-color);\n",
              "    }\n",
              "    20% {\n",
              "      border-color: transparent;\n",
              "      border-left-color: var(--fill-color);\n",
              "      border-top-color: var(--fill-color);\n",
              "    }\n",
              "    30% {\n",
              "      border-color: transparent;\n",
              "      border-left-color: var(--fill-color);\n",
              "      border-top-color: var(--fill-color);\n",
              "      border-right-color: var(--fill-color);\n",
              "    }\n",
              "    40% {\n",
              "      border-color: transparent;\n",
              "      border-right-color: var(--fill-color);\n",
              "      border-top-color: var(--fill-color);\n",
              "    }\n",
              "    60% {\n",
              "      border-color: transparent;\n",
              "      border-right-color: var(--fill-color);\n",
              "    }\n",
              "    80% {\n",
              "      border-color: transparent;\n",
              "      border-right-color: var(--fill-color);\n",
              "      border-bottom-color: var(--fill-color);\n",
              "    }\n",
              "    90% {\n",
              "      border-color: transparent;\n",
              "      border-bottom-color: var(--fill-color);\n",
              "    }\n",
              "  }\n",
              "</style>\n",
              "\n",
              "  <script>\n",
              "    async function quickchart(key) {\n",
              "      const quickchartButtonEl =\n",
              "        document.querySelector('#' + key + ' button');\n",
              "      quickchartButtonEl.disabled = true;  // To prevent multiple clicks.\n",
              "      quickchartButtonEl.classList.add('colab-df-spinner');\n",
              "      try {\n",
              "        const charts = await google.colab.kernel.invokeFunction(\n",
              "            'suggestCharts', [key], {});\n",
              "      } catch (error) {\n",
              "        console.error('Error during call to suggestCharts:', error);\n",
              "      }\n",
              "      quickchartButtonEl.classList.remove('colab-df-spinner');\n",
              "      quickchartButtonEl.classList.add('colab-df-quickchart-complete');\n",
              "    }\n",
              "    (() => {\n",
              "      let quickchartButtonEl =\n",
              "        document.querySelector('#df-091eb12b-cec4-46cd-9a81-78ac7f2d9654 button');\n",
              "      quickchartButtonEl.style.display =\n",
              "        google.colab.kernel.accessAllowed ? 'block' : 'none';\n",
              "    })();\n",
              "  </script>\n",
              "</div>\n",
              "\n",
              "  <div id=\"id_93ccc917-c3bf-4e37-a533-b5e6de03d949\">\n",
              "    <style>\n",
              "      .colab-df-generate {\n",
              "        background-color: #E8F0FE;\n",
              "        border: none;\n",
              "        border-radius: 50%;\n",
              "        cursor: pointer;\n",
              "        display: none;\n",
              "        fill: #1967D2;\n",
              "        height: 32px;\n",
              "        padding: 0 0 0 0;\n",
              "        width: 32px;\n",
              "      }\n",
              "\n",
              "      .colab-df-generate:hover {\n",
              "        background-color: #E2EBFA;\n",
              "        box-shadow: 0px 1px 2px rgba(60, 64, 67, 0.3), 0px 1px 3px 1px rgba(60, 64, 67, 0.15);\n",
              "        fill: #174EA6;\n",
              "      }\n",
              "\n",
              "      [theme=dark] .colab-df-generate {\n",
              "        background-color: #3B4455;\n",
              "        fill: #D2E3FC;\n",
              "      }\n",
              "\n",
              "      [theme=dark] .colab-df-generate:hover {\n",
              "        background-color: #434B5C;\n",
              "        box-shadow: 0px 1px 3px 1px rgba(0, 0, 0, 0.15);\n",
              "        filter: drop-shadow(0px 1px 2px rgba(0, 0, 0, 0.3));\n",
              "        fill: #FFFFFF;\n",
              "      }\n",
              "    </style>\n",
              "    <button class=\"colab-df-generate\" onclick=\"generateWithVariable('df_resultados')\"\n",
              "            title=\"Generate code using this dataframe.\"\n",
              "            style=\"display:none;\">\n",
              "\n",
              "  <svg xmlns=\"http://www.w3.org/2000/svg\" height=\"24px\"viewBox=\"0 0 24 24\"\n",
              "       width=\"24px\">\n",
              "    <path d=\"M7,19H8.4L18.45,9,17,7.55,7,17.6ZM5,21V16.75L18.45,3.32a2,2,0,0,1,2.83,0l1.4,1.43a1.91,1.91,0,0,1,.58,1.4,1.91,1.91,0,0,1-.58,1.4L9.25,21ZM18.45,9,17,7.55Zm-12,3A5.31,5.31,0,0,0,4.9,8.1,5.31,5.31,0,0,0,1,6.5,5.31,5.31,0,0,0,4.9,4.9,5.31,5.31,0,0,0,6.5,1,5.31,5.31,0,0,0,8.1,4.9,5.31,5.31,0,0,0,12,6.5,5.46,5.46,0,0,0,6.5,12Z\"/>\n",
              "  </svg>\n",
              "    </button>\n",
              "    <script>\n",
              "      (() => {\n",
              "      const buttonEl =\n",
              "        document.querySelector('#id_93ccc917-c3bf-4e37-a533-b5e6de03d949 button.colab-df-generate');\n",
              "      buttonEl.style.display =\n",
              "        google.colab.kernel.accessAllowed ? 'block' : 'none';\n",
              "\n",
              "      buttonEl.onclick = () => {\n",
              "        google.colab.notebook.generateWithVariable('df_resultados');\n",
              "      }\n",
              "      })();\n",
              "    </script>\n",
              "  </div>\n",
              "\n",
              "    </div>\n",
              "  </div>\n"
            ],
            "application/vnd.google.colaboratory.intrinsic+json": {
              "type": "dataframe",
              "variable_name": "df_resultados",
              "summary": "{\n  \"name\": \"df_resultados\",\n  \"rows\": 10,\n  \"fields\": [\n    {\n      \"column\": \"Strategy\",\n      \"properties\": {\n        \"dtype\": \"string\",\n        \"num_unique_values\": 10,\n        \"samples\": [\n          \"XGBoost\",\n          \"most_frequent\",\n          \"MIDASpy\"\n        ],\n        \"semantic_type\": \"\",\n        \"description\": \"\"\n      }\n    },\n    {\n      \"column\": \"sim_coseno_promedio\",\n      \"properties\": {\n        \"dtype\": \"number\",\n        \"std\": 0.06927694025357531,\n        \"min\": 0.8109686209525381,\n        \"max\": 0.9993507710591577,\n        \"num_unique_values\": 10,\n        \"samples\": [\n          0.9871043435478208,\n          0.810974458744135,\n          0.9874881022938455\n        ],\n        \"semantic_type\": \"\",\n        \"description\": \"\"\n      }\n    }\n  ]\n}"
            }
          },
          "metadata": {},
          "execution_count": 28
        }
      ]
    },
    {
      "cell_type": "markdown",
      "source": [
        "## Plot de resultados"
      ],
      "metadata": {
        "id": "cHk-1OPB4r9D"
      }
    },
    {
      "cell_type": "code",
      "source": [
        "df_resultados.sort_values(by=['sim_coseno_promedio'], ascending=False).plot(x='Strategy', y=[\"sim_coseno_promedio\"], kind=\"bar\", figsize=(9, 8), color='green')"
      ],
      "metadata": {
        "id": "GRDxrYVd4aba",
        "colab": {
          "base_uri": "https://localhost:8080/",
          "height": 772
        },
        "outputId": "76a31a50-d1cc-4417-84f4-65d077672ab8"
      },
      "execution_count": null,
      "outputs": [
        {
          "output_type": "execute_result",
          "data": {
            "text/plain": [
              "<Axes: xlabel='Strategy'>"
            ]
          },
          "metadata": {},
          "execution_count": 29
        },
        {
          "output_type": "display_data",
          "data": {
            "text/plain": [
              "<Figure size 900x800 with 1 Axes>"
            ],
            "image/png": "[encoded data removed]"
          },
          "metadata": {}
        }
      ]
    }
  ],
  "metadata": {
    "kernelspec": {
      "display_name": "Python 3",
      "name": "python3"
    },
    "language_info": {
      "codemirror_mode": {
        "name": "ipython",
        "version": 3
      },
      "file_extension": ".py",
      "mimetype": "text/x-python",
      "name": "python",
      "nbconvert_exporter": "python",
      "pygments_lexer": "ipython3",
      "version": "3.9.18"
    },
    "colab": {
      "provenance": [],
      "machine_shape": "hm",
      "toc_visible": true,
      "include_colab_link": true
    }
  },
  "nbformat": 4,
  "nbformat_minor": 0
}
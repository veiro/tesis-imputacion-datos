{
  "cells": [
    {
      "cell_type": "markdown",
      "metadata": {
        "id": "view-in-github",
        "colab_type": "text"
      },
      "source": [
        "<a href=\"https://colab.research.google.com/github/veiro/tesis-imputacion-datos/blob/main/codigo/imputadores/Transformer.ipynb\" target=\"_parent\"><img src=\"https://colab.research.google.com/assets/colab-badge.svg\" alt=\"Open In Colab\"/></a>"
      ]
    },
    {
      "cell_type": "markdown",
      "metadata": {
        "id": "egky5FleDGb2"
      },
      "source": [
        "# LEER\n",
        "1. Cambiar en enterno a GPU y la variable cuda= True\n",
        "2. Para ejecutar todo el dataset, MODO_DESARROLLO=False, USAR_GOOGLE_DRIVE =  False y ejecutar un docker local de colab por que demora mas de 12 hrs.\n",
        "3. tomado de https://zenodo.org/records/10016161"
      ]
    },
    {
      "cell_type": "markdown",
      "metadata": {
        "id": "EWJiESwlBI32"
      },
      "source": [
        "## 1. Requirements"
      ]
    },
    {
      "cell_type": "code",
      "execution_count": null,
      "metadata": {
        "id": "J2bBVoNSBiij"
      },
      "outputs": [],
      "source": [
        "USAR_GOOGLE_DRIVE =  True\n",
        "MODO_DESARROLLO = False"
      ]
    },
    {
      "cell_type": "code",
      "execution_count": null,
      "metadata": {
        "id": "xa_zsFD3BI4F"
      },
      "outputs": [],
      "source": [
        "import os\n",
        "import sys\n",
        "import random\n",
        "import numpy as np\n",
        "import pandas as pd\n",
        "from math import sqrt\n",
        "\n",
        "from sklearn.metrics import mean_squared_error\n",
        "from sklearn.preprocessing import MinMaxScaler\n",
        "\n",
        "import torch\n",
        "import torch.nn as nn\n",
        "import torch.utils.data\n",
        "import torch.optim as optim\n",
        "from google.colab import drive\n",
        "from sklearn.preprocessing import OneHotEncoder\n",
        "from sklearn.preprocessing import LabelEncoder\n",
        "from sklearn.model_selection import train_test_split\n",
        "from tqdm import tqdm\n",
        "\n",
        "import torch\n",
        "import torch.nn as nn\n",
        "from torch.nn import Parameter\n",
        "import torch.nn.functional as F\n",
        "import numpy as np\n",
        "\n",
        "from sklearn.preprocessing import StandardScaler\n",
        "from sklearn import metrics"
      ]
    },
    {
      "cell_type": "code",
      "execution_count": null,
      "metadata": {
        "colab": {
          "base_uri": "https://localhost:8080/"
        },
        "id": "Rf8uieKtBkyB",
        "outputId": "01043bc2-b754-4ac5-b1c8-319c273e8cf8"
      },
      "outputs": [
        {
          "output_type": "stream",
          "name": "stdout",
          "text": [
            "Drive already mounted at /content/gdrive; to attempt to forcibly remount, call drive.mount(\"/content/gdrive\", force_remount=True).\n",
            "version correcta\n"
          ]
        }
      ],
      "source": [
        "if (USAR_GOOGLE_DRIVE):\n",
        "  from google.colab import drive\n",
        "  drive.mount('/content/gdrive')\n",
        "  PATH_DATA_PROCESADA = \"/content/gdrive/MyDrive/Maestria/Tesis/Codigo/data/data-procesada\"\n",
        "  PATH_UTILS= \"/content/gdrive/MyDrive/Maestria/Tesis/Codigo/utils\"\n",
        "else:\n",
        "  PATH_DATA_PROCESADA = \"C:\\\\Users\\\\aveiro\\\\Desktop\\\\Tesis\\\\data\\\\data-procesada\"\n",
        "  PATH_UTILS = \"C:\\\\Users\\\\aveiro\\\\Desktop\\\\Tesis\\\\Codigo\\\\utils\\\\\"\n",
        "\n",
        "sys.path.append(PATH_UTILS)\n",
        "\n",
        "import utils as utils\n",
        "import importlib\n",
        "importlib.reload(utils)\n",
        "\n",
        "if (30 ==  utils.version()):\n",
        "  print(\"version correcta\")\n",
        "else:\n",
        "  raise Exception(\"Version de Util vieja\")"
      ]
    },
    {
      "cell_type": "code",
      "execution_count": null,
      "metadata": {
        "colab": {
          "base_uri": "https://localhost:8080/"
        },
        "id": "e5V1jAtBYDsh",
        "outputId": "dbaf0f12-d0ff-4702-fa83-6a25b49a2990"
      },
      "outputs": [
        {
          "output_type": "stream",
          "name": "stdout",
          "text": [
            "absl-py==1.4.0\n",
            "aiohttp==3.9.5\n",
            "aiosignal==1.3.1\n",
            "alabaster==0.7.16\n",
            "albumentations==1.3.1\n",
            "altair==4.2.2\n",
            "annotated-types==0.6.0\n",
            "anyio==3.7.1\n",
            "appdirs==1.4.4\n",
            "argon2-cffi==23.1.0\n",
            "argon2-cffi-bindings==21.2.0\n",
            "array_record==0.5.1\n",
            "arviz==0.15.1\n",
            "astropy==5.3.4\n",
            "astunparse==1.6.3\n",
            "async-timeout==4.0.3\n",
            "atpublic==4.1.0\n",
            "attrs==23.2.0\n",
            "audioread==3.0.1\n",
            "autograd==1.6.2\n",
            "Babel==2.14.0\n",
            "backcall==0.2.0\n",
            "beautifulsoup4==4.12.3\n",
            "bidict==0.23.1\n",
            "bigframes==1.2.0\n",
            "bleach==6.1.0\n",
            "blinker==1.4\n",
            "blis==0.7.11\n",
            "blosc2==2.0.0\n",
            "bokeh==3.3.4\n",
            "bqplot==0.12.43\n",
            "branca==0.7.1\n",
            "build==1.2.1\n",
            "CacheControl==0.14.0\n",
            "cachetools==5.3.3\n",
            "catalogue==2.0.10\n",
            "certifi==2024.2.2\n",
            "cffi==1.16.0\n",
            "chardet==5.2.0\n",
            "charset-normalizer==3.3.2\n",
            "chex==0.1.86\n",
            "click==8.1.7\n",
            "click-plugins==1.1.1\n",
            "cligj==0.7.2\n",
            "cloudpathlib==0.16.0\n",
            "cloudpickle==2.2.1\n",
            "cmake==3.27.9\n",
            "cmdstanpy==1.2.2\n",
            "colorcet==3.1.0\n",
            "colorlover==0.3.0\n",
            "colour==0.1.5\n",
            "community==1.0.0b1\n",
            "confection==0.1.4\n",
            "cons==0.4.6\n",
            "contextlib2==21.6.0\n",
            "contourpy==1.2.1\n",
            "cryptography==42.0.5\n",
            "cufflinks==0.17.3\n",
            "cupy-cuda12x==12.2.0\n",
            "cvxopt==1.3.2\n",
            "cvxpy==1.3.3\n",
            "cycler==0.12.1\n",
            "cymem==2.0.8\n",
            "Cython==3.0.10\n",
            "dask==2023.8.1\n",
            "datascience==0.17.6\n",
            "db-dtypes==1.2.0\n",
            "dbus-python==1.2.18\n",
            "debugpy==1.6.6\n",
            "decorator==4.4.2\n",
            "defusedxml==0.7.1\n",
            "distributed==2023.8.1\n",
            "distro==1.7.0\n",
            "dlib==19.24.4\n",
            "dm-tree==0.1.8\n",
            "docstring_parser==0.16\n",
            "docutils==0.18.1\n",
            "dopamine-rl==4.0.6\n",
            "duckdb==0.10.2\n",
            "earthengine-api==0.1.399\n",
            "easydict==1.13\n",
            "ecos==2.0.13\n",
            "editdistance==0.6.2\n",
            "eerepr==0.0.4\n",
            "en-core-web-sm @ https://github.com/explosion/spacy-models/releases/download/en_core_web_sm-3.7.1/en_core_web_sm-3.7.1-py3-none-any.whl#sha256=86cc141f63942d4b2c5fcee06630fd6f904788d2f0ab005cce45aadb8fb73889\n",
            "entrypoints==0.4\n",
            "et-xmlfile==1.1.0\n",
            "etils==1.7.0\n",
            "etuples==0.3.9\n",
            "exceptiongroup==1.2.0\n",
            "fastai==2.7.14\n",
            "fastcore==1.5.29\n",
            "fastdownload==0.0.7\n",
            "fastjsonschema==2.19.1\n",
            "fastprogress==1.0.3\n",
            "fastrlock==0.8.2\n",
            "filelock==3.13.4\n",
            "fiona==1.9.6\n",
            "firebase-admin==5.3.0\n",
            "Flask==2.2.5\n",
            "flatbuffers==24.3.25\n",
            "flax==0.8.2\n",
            "folium==0.14.0\n",
            "fonttools==4.51.0\n",
            "frozendict==2.4.2\n",
            "frozenlist==1.4.1\n",
            "fsspec==2023.6.0\n",
            "future==0.18.3\n",
            "gast==0.5.4\n",
            "gcsfs==2023.6.0\n",
            "GDAL==3.4.1\n",
            "gdown==4.7.3\n",
            "geemap==0.32.0\n",
            "gensim==4.3.2\n",
            "geocoder==1.38.1\n",
            "geographiclib==2.0\n",
            "geopandas==0.13.2\n",
            "geopy==2.3.0\n",
            "gin-config==0.5.0\n",
            "glob2==0.7\n",
            "google==2.0.3\n",
            "google-ai-generativelanguage==0.4.0\n",
            "google-api-core==2.11.1\n",
            "google-api-python-client==2.84.0\n",
            "google-auth==2.27.0\n",
            "google-auth-httplib2==0.1.1\n",
            "google-auth-oauthlib==1.2.0\n",
            "google-cloud-aiplatform==1.48.0\n",
            "google-cloud-bigquery==3.12.0\n",
            "google-cloud-bigquery-connection==1.12.1\n",
            "google-cloud-bigquery-storage==2.24.0\n",
            "google-cloud-core==2.3.3\n",
            "google-cloud-datastore==2.15.2\n",
            "google-cloud-firestore==2.11.1\n",
            "google-cloud-functions==1.13.3\n",
            "google-cloud-iam==2.15.0\n",
            "google-cloud-language==2.13.3\n",
            "google-cloud-resource-manager==1.12.3\n",
            "google-cloud-storage==2.8.0\n",
            "google-cloud-translate==3.11.3\n",
            "google-colab @ file:///colabtools/dist/google-colab-1.0.0.tar.gz#sha256=10a11c8912545b5cd2d70c2357a6541c585e55fb2a8c24228d48ed013c4effb6\n",
            "google-crc32c==1.5.0\n",
            "google-generativeai==0.3.2\n",
            "google-pasta==0.2.0\n",
            "google-resumable-media==2.7.0\n",
            "googleapis-common-protos==1.63.0\n",
            "googledrivedownloader==0.4\n",
            "graphviz==0.20.3\n",
            "greenlet==3.0.3\n",
            "grpc-google-iam-v1==0.13.0\n",
            "grpcio==1.62.1\n",
            "grpcio-status==1.48.2\n",
            "gspread==3.4.2\n",
            "gspread-dataframe==3.3.1\n",
            "gym==0.25.2\n",
            "gym-notices==0.0.8\n",
            "h5netcdf==1.3.0\n",
            "h5py==3.9.0\n",
            "holidays==0.47\n",
            "holoviews==1.17.1\n",
            "html5lib==1.1\n",
            "httpimport==1.3.1\n",
            "httplib2==0.22.0\n",
            "huggingface-hub==0.20.3\n",
            "humanize==4.7.0\n",
            "hyperopt==0.2.7\n",
            "ibis-framework==8.0.0\n",
            "idna==3.7\n",
            "imageio==2.31.6\n",
            "imageio-ffmpeg==0.4.9\n",
            "imagesize==1.4.1\n",
            "imbalanced-learn==0.10.1\n",
            "imgaug==0.4.0\n",
            "importlib_metadata==7.1.0\n",
            "importlib_resources==6.4.0\n",
            "imutils==0.5.4\n",
            "inflect==7.0.0\n",
            "iniconfig==2.0.0\n",
            "intel-openmp==2023.2.4\n",
            "ipyevents==2.0.2\n",
            "ipyfilechooser==0.6.0\n",
            "ipykernel==5.5.6\n",
            "ipyleaflet==0.18.2\n",
            "ipython==7.34.0\n",
            "ipython-genutils==0.2.0\n",
            "ipython-sql==0.5.0\n",
            "ipytree==0.2.2\n",
            "ipywidgets==7.7.1\n",
            "itsdangerous==2.2.0\n",
            "jax==0.4.26\n",
            "jaxlib @ https://storage.googleapis.com/jax-releases/cuda12/jaxlib-0.4.26+cuda12.cudnn89-cp310-cp310-manylinux2014_x86_64.whl#sha256=813cf1fe3e7ca4dbf5327d6e7b4fc8521e92d8bba073ee645ae0d5d036a25750\n",
            "jeepney==0.7.1\n",
            "jieba==0.42.1\n",
            "Jinja2==3.1.3\n",
            "joblib==1.4.0\n",
            "jsonpickle==3.0.4\n",
            "jsonschema==4.19.2\n",
            "jsonschema-specifications==2023.12.1\n",
            "jupyter-client==6.1.12\n",
            "jupyter-console==6.1.0\n",
            "jupyter-server==1.24.0\n",
            "jupyter_core==5.7.2\n",
            "jupyterlab_pygments==0.3.0\n",
            "jupyterlab_widgets==3.0.10\n",
            "kaggle==1.5.16\n",
            "kagglehub==0.2.3\n",
            "keras==2.15.0\n",
            "keyring==23.5.0\n",
            "kiwisolver==1.4.5\n",
            "langcodes==3.3.0\n",
            "launchpadlib==1.10.16\n",
            "lazr.restfulclient==0.14.4\n",
            "lazr.uri==1.0.6\n",
            "lazy_loader==0.4\n",
            "libclang==18.1.1\n",
            "librosa==0.10.1\n",
            "lightgbm==4.1.0\n",
            "linkify-it-py==2.0.3\n",
            "llvmlite==0.41.1\n",
            "locket==1.0.0\n",
            "logical-unification==0.4.6\n",
            "lxml==4.9.4\n",
            "malloy==2023.1067\n",
            "Markdown==3.6\n",
            "markdown-it-py==3.0.0\n",
            "MarkupSafe==2.1.5\n",
            "matplotlib==3.7.1\n",
            "matplotlib-inline==0.1.7\n",
            "matplotlib-venn==0.11.10\n",
            "mdit-py-plugins==0.4.0\n",
            "mdurl==0.1.2\n",
            "miniKanren==1.0.3\n",
            "missingno==0.5.2\n",
            "mistune==0.8.4\n",
            "mizani==0.9.3\n",
            "mkl==2023.2.0\n",
            "ml-dtypes==0.2.0\n",
            "mlxtend==0.22.0\n",
            "more-itertools==10.1.0\n",
            "moviepy==1.0.3\n",
            "mpmath==1.3.0\n",
            "msgpack==1.0.8\n",
            "multidict==6.0.5\n",
            "multipledispatch==1.0.0\n",
            "multitasking==0.0.11\n",
            "murmurhash==1.0.10\n",
            "music21==9.1.0\n",
            "natsort==8.4.0\n",
            "nbclassic==1.0.0\n",
            "nbclient==0.10.0\n",
            "nbconvert==6.5.4\n",
            "nbformat==5.10.4\n",
            "nest-asyncio==1.6.0\n",
            "networkx==3.3\n",
            "nibabel==4.0.2\n",
            "nltk==3.8.1\n",
            "notebook==6.5.5\n",
            "notebook_shim==0.2.4\n",
            "numba==0.58.1\n",
            "numexpr==2.10.0\n",
            "numpy==1.25.2\n",
            "oauth2client==4.1.3\n",
            "oauthlib==3.2.2\n",
            "opencv-contrib-python==4.8.0.76\n",
            "opencv-python==4.8.0.76\n",
            "opencv-python-headless==4.9.0.80\n",
            "openpyxl==3.1.2\n",
            "opt-einsum==3.3.0\n",
            "optax==0.2.2\n",
            "orbax-checkpoint==0.4.4\n",
            "osqp==0.6.2.post8\n",
            "packaging==24.0\n",
            "pandas==2.0.3\n",
            "pandas-datareader==0.10.0\n",
            "pandas-gbq==0.19.2\n",
            "pandas-stubs==2.0.3.230814\n",
            "pandocfilters==1.5.1\n",
            "panel==1.3.8\n",
            "param==2.1.0\n",
            "parso==0.8.4\n",
            "parsy==2.1\n",
            "partd==1.4.1\n",
            "pathlib==1.0.1\n",
            "patsy==0.5.6\n",
            "peewee==3.17.3\n",
            "pexpect==4.9.0\n",
            "pickleshare==0.7.5\n",
            "Pillow==9.4.0\n",
            "pip-tools==6.13.0\n",
            "platformdirs==4.2.0\n",
            "plotly==5.15.0\n",
            "plotnine==0.12.4\n",
            "pluggy==1.4.0\n",
            "polars==0.20.2\n",
            "pooch==1.8.1\n",
            "portpicker==1.5.2\n",
            "prefetch-generator==1.0.3\n",
            "preshed==3.0.9\n",
            "prettytable==3.10.0\n",
            "proglog==0.1.10\n",
            "progressbar2==4.2.0\n",
            "prometheus_client==0.20.0\n",
            "promise==2.3\n",
            "prompt-toolkit==3.0.43\n",
            "prophet==1.1.5\n",
            "proto-plus==1.23.0\n",
            "protobuf==3.20.3\n",
            "psutil==5.9.5\n",
            "psycopg2==2.9.9\n",
            "ptyprocess==0.7.0\n",
            "py-cpuinfo==9.0.0\n",
            "py4j==0.10.9.7\n",
            "pyarrow==14.0.2\n",
            "pyarrow-hotfix==0.6\n",
            "pyasn1==0.6.0\n",
            "pyasn1_modules==0.4.0\n",
            "pycocotools==2.0.7\n",
            "pycparser==2.22\n",
            "pydantic==2.7.0\n",
            "pydantic_core==2.18.1\n",
            "pydata-google-auth==1.8.2\n",
            "pydot==1.4.2\n",
            "pydot-ng==2.0.0\n",
            "pydotplus==2.0.2\n",
            "PyDrive==1.3.1\n",
            "PyDrive2==1.6.3\n",
            "pyerfa==2.0.1.4\n",
            "pygame==2.5.2\n",
            "Pygments==2.16.1\n",
            "PyGObject==3.42.1\n",
            "PyJWT==2.3.0\n",
            "pymc==5.10.4\n",
            "pymystem3==0.2.0\n",
            "PyOpenGL==3.1.7\n",
            "pyOpenSSL==24.1.0\n",
            "pyparsing==3.1.2\n",
            "pyperclip==1.8.2\n",
            "pyproj==3.6.1\n",
            "pyproject_hooks==1.0.0\n",
            "pyshp==2.3.1\n",
            "PySocks==1.7.1\n",
            "pytensor==2.18.6\n",
            "pytest==7.4.4\n",
            "python-apt @ file:///backend-container/containers/python_apt-0.0.0-cp310-cp310-linux_x86_64.whl#sha256=b209c7165d6061963abe611492f8c91c3bcef4b7a6600f966bab58900c63fefa\n",
            "python-box==7.1.1\n",
            "python-dateutil==2.8.2\n",
            "python-louvain==0.16\n",
            "python-slugify==8.0.4\n",
            "python-utils==3.8.2\n",
            "pytz==2023.4\n",
            "pyviz_comms==3.0.2\n",
            "PyWavelets==1.6.0\n",
            "PyYAML==6.0.1\n",
            "pyzmq==23.2.1\n",
            "qdldl==0.1.7.post1\n",
            "qudida==0.0.4\n",
            "ratelim==0.1.6\n",
            "referencing==0.34.0\n",
            "regex==2023.12.25\n",
            "requests==2.31.0\n",
            "requests-oauthlib==1.3.1\n",
            "requirements-parser==0.9.0\n",
            "rich==13.7.1\n",
            "rpds-py==0.18.0\n",
            "rpy2==3.4.2\n",
            "rsa==4.9\n",
            "safetensors==0.4.3\n",
            "scikit-image==0.19.3\n",
            "scikit-learn==1.2.2\n",
            "scipy==1.11.4\n",
            "scooby==0.9.2\n",
            "scs==3.2.4.post1\n",
            "seaborn==0.13.1\n",
            "SecretStorage==3.3.1\n",
            "Send2Trash==1.8.3\n",
            "sentencepiece==0.1.99\n",
            "shapely==2.0.4\n",
            "six==1.16.0\n",
            "sklearn-pandas==2.2.0\n",
            "smart-open==6.4.0\n",
            "sniffio==1.3.1\n",
            "snowballstemmer==2.2.0\n",
            "sortedcontainers==2.4.0\n",
            "soundfile==0.12.1\n",
            "soupsieve==2.5\n",
            "soxr==0.3.7\n",
            "spacy==3.7.4\n",
            "spacy-legacy==3.0.12\n",
            "spacy-loggers==1.0.5\n",
            "Sphinx==5.0.2\n",
            "sphinxcontrib-applehelp==1.0.8\n",
            "sphinxcontrib-devhelp==1.0.6\n",
            "sphinxcontrib-htmlhelp==2.0.5\n",
            "sphinxcontrib-jsmath==1.0.1\n",
            "sphinxcontrib-qthelp==1.0.7\n",
            "sphinxcontrib-serializinghtml==1.1.10\n",
            "SQLAlchemy==2.0.29\n",
            "sqlglot==20.11.0\n",
            "sqlparse==0.5.0\n",
            "srsly==2.4.8\n",
            "stanio==0.5.0\n",
            "statsmodels==0.14.2\n",
            "sympy==1.12\n",
            "tables==3.8.0\n",
            "tabulate==0.9.0\n",
            "tbb==2021.12.0\n",
            "tblib==3.0.0\n",
            "tenacity==8.2.3\n",
            "tensorboard==2.15.2\n",
            "tensorboard-data-server==0.7.2\n",
            "tensorflow @ https://storage.googleapis.com/colab-tf-builds-public-09h6ksrfwbb9g9xv/tensorflow-2.15.0-cp310-cp310-manylinux_2_17_x86_64.manylinux2014_x86_64.whl#sha256=a2ec79931350b378c1ef300ca836b52a55751acb71a433582508a07f0de57c42\n",
            "tensorflow-datasets==4.9.4\n",
            "tensorflow-estimator==2.15.0\n",
            "tensorflow-gcs-config==2.15.0\n",
            "tensorflow-hub==0.16.1\n",
            "tensorflow-io-gcs-filesystem==0.36.0\n",
            "tensorflow-metadata==1.14.0\n",
            "tensorflow-probability==0.23.0\n",
            "tensorstore==0.1.45\n",
            "termcolor==2.4.0\n",
            "terminado==0.18.1\n",
            "text-unidecode==1.3\n",
            "textblob==0.17.1\n",
            "tf-slim==1.1.0\n",
            "tf_keras==2.15.1\n",
            "thinc==8.2.3\n",
            "threadpoolctl==3.4.0\n",
            "tifffile==2024.2.12\n",
            "tinycss2==1.2.1\n",
            "tokenizers==0.15.2\n",
            "toml==0.10.2\n",
            "tomli==2.0.1\n",
            "toolz==0.12.1\n",
            "torch @ https://download.pytorch.org/whl/cu121/torch-2.2.1%2Bcu121-cp310-cp310-linux_x86_64.whl#sha256=1adf430f01ff649c848ac021785e18007b0714fdde68e4e65bd0c640bf3fb8e1\n",
            "torchaudio @ https://download.pytorch.org/whl/cu121/torchaudio-2.2.1%2Bcu121-cp310-cp310-linux_x86_64.whl#sha256=23f6236429e2bf676b820e8e7221a1d58aaf908bff2ba2665aa852df71a97961\n",
            "torchdata==0.7.1\n",
            "torchsummary==1.5.1\n",
            "torchtext==0.17.1\n",
            "torchvision @ https://download.pytorch.org/whl/cu121/torchvision-0.17.1%2Bcu121-cp310-cp310-linux_x86_64.whl#sha256=27af47915f6e762c1d44e58e8088d22ac97445668f9f793524032b2baf4f34bd\n",
            "tornado==6.3.3\n",
            "tqdm==4.66.2\n",
            "traitlets==5.7.1\n",
            "traittypes==0.2.1\n",
            "transformers==4.38.2\n",
            "triton==2.2.0\n",
            "tweepy==4.14.0\n",
            "typer==0.9.4\n",
            "types-pytz==2024.1.0.20240417\n",
            "types-setuptools==69.5.0.20240415\n",
            "typing_extensions==4.11.0\n",
            "tzdata==2024.1\n",
            "tzlocal==5.2\n",
            "uc-micro-py==1.0.3\n",
            "uritemplate==4.1.1\n",
            "urllib3==2.0.7\n",
            "vega-datasets==0.9.0\n",
            "wadllib==1.3.6\n",
            "wasabi==1.1.2\n",
            "wcwidth==0.2.13\n",
            "weasel==0.3.4\n",
            "webcolors==1.13\n",
            "webencodings==0.5.1\n",
            "websocket-client==1.7.0\n",
            "Werkzeug==3.0.2\n",
            "widgetsnbextension==3.6.6\n",
            "wordcloud==1.9.3\n",
            "wrapt==1.14.1\n",
            "xarray==2023.7.0\n",
            "xarray-einstats==0.7.0\n",
            "xgboost==2.0.3\n",
            "xlrd==2.0.1\n",
            "xyzservices==2024.4.0\n",
            "yarl==1.9.4\n",
            "yellowbrick==1.5\n",
            "yfinance==0.2.38\n",
            "zict==3.0.0\n",
            "zipp==3.18.1\n"
          ]
        }
      ],
      "source": [
        "!python3 -m pip freeze"
      ]
    },
    {
      "cell_type": "markdown",
      "metadata": {
        "id": "HiOqrl-9BI4K"
      },
      "source": [
        "## 3. Prepare Data"
      ]
    },
    {
      "cell_type": "markdown",
      "metadata": {
        "id": "UbcNgxOxG6nc"
      },
      "source": [
        "## Armo juego de datos entramiento y test\n"
      ]
    },
    {
      "cell_type": "code",
      "execution_count": null,
      "metadata": {
        "id": "fohQT58MiUPN"
      },
      "outputs": [],
      "source": [
        "df_train_encoded, df_train_encoded_missing, mask_train_open = utils.obtenerDatosTrain(MODO_DESARROLLO, PATH_DATA_PROCESADA)\n",
        "df_test_encoded, df_test_encoded_missing, mask_test_open = utils.obtenerDatosTest(MODO_DESARROLLO, PATH_DATA_PROCESADA)\n",
        "\n",
        "df_test_encoded = pd.DataFrame(df_test_encoded, columns = df_train_encoded.columns)\n",
        "df_test_encoded_missing = pd.DataFrame(df_test_encoded_missing, columns = df_train_encoded.columns)\n",
        "\n"
      ]
    },
    {
      "cell_type": "markdown",
      "metadata": {
        "id": "FigdyuMmryEX"
      },
      "source": []
    },
    {
      "cell_type": "code",
      "execution_count": null,
      "metadata": {
        "colab": {
          "base_uri": "https://localhost:8080/"
        },
        "id": "fHR6JdvSrs8T",
        "outputId": "7162c999-d0a5-482b-ba42-315cf701de15"
      },
      "outputs": [
        {
          "output_type": "stream",
          "name": "stdout",
          "text": [
            "Nombre datos: \n",
            "\n",
            "--------------------------------------------------------------------------------\n",
            "\n",
            "Index(['Country_Region_Australia', 'Country_Region_Belgium',\n",
            "       'Country_Region_Brazil', 'Country_Region_Canada',\n",
            "       'Country_Region_Chile', 'Country_Region_China',\n",
            "       'Country_Region_Colombia', 'Country_Region_Denmark',\n",
            "       'Country_Region_France', 'Country_Region_Germany',\n",
            "       'Country_Region_India', 'Country_Region_Italy', 'Country_Region_Japan',\n",
            "       'Country_Region_Malaysia', 'Country_Region_Mexico',\n",
            "       'Country_Region_Netherlands', 'Country_Region_New Zealand',\n",
            "       'Country_Region_Pakistan', 'Country_Region_Peru',\n",
            "       'Country_Region_Russia', 'Country_Region_Spain',\n",
            "       'Country_Region_Sweden', 'Country_Region_US', 'Country_Region_Ukraine',\n",
            "       'Country_Region_United Kingdom', 'Lat', 'Long_', 'Confirmed', 'Deaths',\n",
            "       'Incident_Rate', 'Case_Fatality_Ratio', 'Province_State_encoded',\n",
            "       'Last_Update_encoded', 'date_encoded'],\n",
            "      dtype='object')\n",
            "\n",
            "--------------------------------------------------------------------------------\n",
            "\n",
            "SHAPE:\n",
            "\n",
            "(2094556, 34)\n",
            "\n",
            "--------------------------------------------------------------------------------\n",
            "\n",
            "Count of NaN:\n",
            "\n",
            "0\n",
            "\n",
            "--------------------------------------------------------------------------------\n",
            "\n"
          ]
        }
      ],
      "source": [
        "utils.mostrarDatos(df_train_encoded)"
      ]
    },
    {
      "cell_type": "code",
      "execution_count": null,
      "metadata": {
        "colab": {
          "base_uri": "https://localhost:8080/"
        },
        "id": "XrY7cPupK0PQ",
        "outputId": "6f3e393f-f6a8-4d7e-8e63-135f754c8509"
      },
      "outputs": [
        {
          "output_type": "stream",
          "name": "stdout",
          "text": [
            "CPU times: user 9 µs, sys: 0 ns, total: 9 µs\n",
            "Wall time: 11.2 µs\n"
          ]
        }
      ],
      "source": [
        "%%time\n",
        "from sklearn.model_selection import train_test_split\n",
        "\n",
        "\n",
        "def getDataTrain(data, target):\n",
        "\n",
        "  df_train_encoded_copy =  data.copy()\n",
        "  Ytrain =  df_train_encoded_copy[target]\n",
        "  df_train_encoded_copy = df_train_encoded_copy.drop([target], axis=1 )\n",
        "\n",
        "\n",
        "  ss = StandardScaler()\n",
        "  ss = ss.fit(df_train_encoded_copy)\n",
        "\n",
        "  Xtrain0 = ss.transform(df_train_encoded_copy)\n",
        "\n",
        "  Xtrain = np.nan_to_num(Xtrain0)\n",
        "\n",
        "\n",
        "  ##测试集\n",
        "  ss1 = StandardScaler()\n",
        "  ss1=ss1.fit(Ytrain.values.reshape(-1,1))\n",
        "  Ytrain=ss1.transform(Ytrain.values.reshape(-1,1))\n",
        "\n",
        "  return Xtrain, Ytrain, ss1\n",
        "\n",
        "def getDataTrainEval( data,target, eval_size):\n",
        "  train, eval = train_test_split(data, test_size=eval_size)\n",
        "  Xtrain, Ytrain, ssTrain = getDataTrain(train, target)\n",
        "  Xeval, Yeval, ssEval = getDataTrain(eval, target)\n",
        "  return Xtrain, Ytrain, ssTrain, Xeval, Yeval , ssEval\n",
        "\n",
        "def getDataTest(target):\n",
        "\n",
        "  df_test_encoded_missing_copy =  df_test_encoded_missing.copy()\n",
        "\n",
        "  Y_DS =   df_test_encoded[target]\n",
        "  df_test_encoded_missing_copy = df_test_encoded_missing_copy.drop([target], axis=1 )\n",
        "\n",
        "  ss = StandardScaler()\n",
        "  ss = ss.fit(df_test_encoded_missing_copy)\n",
        "\n",
        "  X_DS0 = ss.transform(df_test_encoded_missing_copy)\n",
        "\n",
        "  X_DS = np.nan_to_num(X_DS0)\n",
        "\n",
        "  ##测试集\n",
        "  ss3 = StandardScaler()\n",
        "  ss3 = ss3.fit(Y_DS.values.reshape(-1,1))\n",
        "  Y_DS=ss3.transform(Y_DS.values.reshape(-1,1))\n",
        "  return X_DS, Y_DS, ss3"
      ]
    },
    {
      "cell_type": "markdown",
      "metadata": {
        "id": "cDa-xbuVBI4R"
      },
      "source": [
        "## 4. Define Model"
      ]
    },
    {
      "cell_type": "code",
      "execution_count": null,
      "metadata": {
        "id": "0GoX8gIbJ69h"
      },
      "outputs": [],
      "source": [
        "class Transformer_block(nn.Module):\n",
        "    def __init__(self, i_channel, o_channel, mask_radio=0.1, mask=True):\n",
        "        super(Transformer_block, self).__init__()\n",
        "        self.Q = nn.Linear(i_channel, o_channel, bias=False)\n",
        "        self.K = nn.Linear(i_channel, o_channel, bias=False)\n",
        "        self.V = nn.Linear(i_channel, o_channel)\n",
        "        self.mask = mask\n",
        "        self.mask_radio = mask_radio\n",
        "\n",
        "    def forward(self, input):\n",
        "        Q_x = self.Q(input)\n",
        "        K_x = self.K(input)\n",
        "        V_x = self.V(input)\n",
        "        weights = torch.matmul(Q_x / np.sqrt(Q_x.shape[-1]), K_x.permute(0, 2, 1))\n",
        "        if self.mask:\n",
        "            m_r = torch.ones_like(weights) * self.mask_radio\n",
        "            weights = weights + torch.bernoulli(m_r) * -1e12\n",
        "        attention = F.softmax(weights, dim=-1)\n",
        "        out = torch.matmul(attention, V_x)\n",
        "        return out + input\n",
        "\n",
        "class Transformer_model(nn.Module):\n",
        "    def __init__(self, i_channel):\n",
        "        super(Transformer_model, self).__init__()\n",
        "        self.embed1 = nn.Conv1d(in_channels=1, out_channels=128, kernel_size=(1,))#, padding=(1,)\n",
        "        self.embed2 = nn.Conv1d(in_channels=1, out_channels=128, kernel_size=(1,))\n",
        "        self.embed3 = nn.Conv1d(in_channels=1, out_channels=128, kernel_size=(1,))\n",
        "\n",
        "        self.transformer1 = Transformer_block(128, 128, 0.1, True)#nn.ModuleList([Transformer_block(64, 64, True) for _ in range(2)]) #\n",
        "        self.transformer2 = Transformer_block(128, 128, 0.25, True)\n",
        "        self.transformer3 = Transformer_block(128, 128, 0.5, True)\n",
        "\n",
        "        self.Linear_c1 = nn.ModuleList([nn.Linear(128, 128) for _ in range(3)])\n",
        "        self.Linear_c2 = nn.ModuleList([nn.Linear(128, 128) for _ in range(3)])\n",
        "        self.Linear_c3 = nn.ModuleList([nn.Linear(128, 128) for _ in range(3)])\n",
        "        self.act_r = nn.ReLU()\n",
        "        self.act_g = nn.GELU()\n",
        "        self.sigmoid = nn.Sigmoid()\n",
        "        self.Linears1 = nn.ModuleList([nn.Linear(i_channel * 2, i_channel * 2) for _ in range(3)])\n",
        "        self.Linears2 = nn.ModuleList([nn.Linear(i_channel * 2, i_channel * 2) for _ in range(3)])\n",
        "        self.Linears3 = nn.ModuleList([nn.Linear(i_channel * 2, i_channel * 2) for _ in range(3)])\n",
        "        self.drop2 = nn.Dropout(0.15)\n",
        "        self.drop3 = nn.Dropout(0.3)\n",
        "        self.output = nn.Linear(i_channel * 2, 1)\n",
        "        self.output2 = nn.Linear(i_channel * 2, 1)\n",
        "        self.output3 = nn.Linear(i_channel * 2, 1)\n",
        "\n",
        "    def forward(self, input):\n",
        "        x1 = self.embed1(input.unsqueeze(1)).permute(0, 2, 1)\n",
        "        x2 = self.embed2(input.unsqueeze(1)).permute(0, 2, 1)\n",
        "        x3 = self.embed3(input.unsqueeze(1)).permute(0, 2, 1)\n",
        "\n",
        "        for i in range(3):\n",
        "            x1 = self.act_r(self.Linear_c1[i](x1))\n",
        "            x2 = self.act_r(self.Linear_c2[i](x2))\n",
        "            x3 = self.act_r(self.Linear_c3[i](x3))\n",
        "\n",
        "        x1 = self.transformer1(x1)\n",
        "        x2 = self.transformer2(x2)\n",
        "        x3 = self.transformer3(x3)\n",
        "\n",
        "        x1_1 = torch.mean(x1, dim=2)\n",
        "        x1_2, _ = torch.max(x1, dim=2)\n",
        "        x1 = torch.cat((x1_1, x1_2), dim=1)\n",
        "\n",
        "        x2_1 = torch.mean(x2, dim=2)\n",
        "        x2_2, _ = torch.max(x2, dim=2)\n",
        "        x2 = torch.cat((x2_1, x2_2), dim=1)\n",
        "\n",
        "        x3_1 = torch.mean(x3, dim=2)\n",
        "        x3_2, _ = torch.max(x3, dim=2)\n",
        "        x3 = torch.cat((x3_1, x3_2), dim=1)\n",
        "\n",
        "        for i in range(3):\n",
        "            x1 = self.act_g(self.Linears1[i](x1))\n",
        "            x2 = self.act_g(self.Linears2[i](x2))\n",
        "            x3 = self.act_g(self.Linears3[i](x3))\n",
        "\n",
        "        out = self.output(x1)\n",
        "        F2 = self.output2(x2)\n",
        "        F3 = self.output3(x3)\n",
        "        return out, F2, F3\n",
        "\n",
        "    def __call__(self, Xtrain, Ytrain=None, train=True):\n",
        "        out, F2, F3 = self.forward(Xtrain)\n",
        "        loss_mse = nn.MSELoss()\n",
        "        loss_cal = nn.SmoothL1Loss()\n",
        "        if train:\n",
        "            # loss = loss_cal(out_last, Ytrain)\n",
        "            # print(out.shape, Ytrain.shape)\n",
        "            loss = loss_mse(out, Ytrain)\n",
        "            loss2 = loss_cal(F2, Ytrain)\n",
        "            loss3 = loss_cal(F3, Ytrain)\n",
        "\n",
        "            return loss + loss2 + loss3\n",
        "        else:\n",
        "            # print((out + F2 + F3).shape)\n",
        "            return (out + F2 + F3) / 3 #out * 0.5 + F2 * 0.25 + F3 * 0.25\n",
        "\n",
        "# R^2 training: 0.874, R^2 test: 0.845,DS R^2 : 0.792"
      ]
    },
    {
      "cell_type": "markdown",
      "metadata": {
        "id": "2rg65wQkBI4W"
      },
      "source": [
        "## 6. Train Model"
      ]
    },
    {
      "cell_type": "code",
      "execution_count": null,
      "metadata": {
        "colab": {
          "base_uri": "https://localhost:8080/"
        },
        "id": "8fQZ9sUXsvpO",
        "outputId": "1f104750-7156-4d2a-d96c-80ff9b950378"
      },
      "outputs": [
        {
          "output_type": "stream",
          "name": "stdout",
          "text": [
            "CPU times: user 43 µs, sys: 0 ns, total: 43 µs\n",
            "Wall time: 45.5 µs\n"
          ]
        }
      ],
      "source": [
        "%%time\n",
        "import os\n",
        "import torch.optim as optim\n",
        "import torch\n",
        "from tqdm import tqdm\n",
        "#os.environ[\"CUDA_VISIBLE_DEVICES\"] = \"1\"\n",
        "#copair LE_DEEP\n",
        "use_cuda = True\n",
        "\n",
        "def setup_seed(seed):\n",
        "    torch.manual_seed(seed)\n",
        "    torch.cuda.manual_seed_all(seed)\n",
        "    np.random.seed(seed)\n",
        "    torch.backends.cudnn.deterministic = True\n",
        "\n",
        "device = torch.device(\"cuda\" if use_cuda else \"cpu\") # v100 GPU\n",
        "\n",
        "\n",
        "def train(Xtrains, Ytrains, model, lr, wd, max_norm=10, batch_size=32):\n",
        "    optimizer = optim.AdamW(model.parameters(), lr=lr, weight_decay=wd)\n",
        "    optimizer.zero_grad()\n",
        "    N = len(Xtrains)\n",
        "    loss_total = 0\n",
        "    Xtrain, Ytrain = [], []\n",
        "    for i in tqdm(range(N)):\n",
        "        # print(Xtrains[i])\n",
        "        Xtrain.append(Xtrains[i])\n",
        "        Ytrain.append(Ytrains[i])\n",
        "        if i % batch_size == 0 or i == N:\n",
        "            X_train = torch.tensor(np.array(Xtrain)).to(device).float()\n",
        "            Y_train = torch.tensor(np.array(Ytrain)).to(device).float()\n",
        "            loss = model(X_train, Y_train)\n",
        "            loss.backward()\n",
        "            torch.nn.utils.clip_grad_norm_(model.parameters(), max_norm=10)\n",
        "            Xtrain, Ytrain = [], []\n",
        "        else:\n",
        "            continue\n",
        "        if i % batch_size == 0 or i == N:\n",
        "            optimizer.step()\n",
        "            optimizer.zero_grad()\n",
        "        loss_total += loss.item()\n",
        "    return loss_total\n",
        "\n",
        "def eva(Xtests, model):\n",
        "    model_eva = model.eval()\n",
        "    N = len(Xtests)\n",
        "    Y_pre = []\n",
        "    for i in tqdm(range(N)):\n",
        "        X_test = torch.tensor(np.array([Xtests[i]])).to(device).float()\n",
        "        out = model(X_test, train=False).to('cpu').data.numpy()\n",
        "        Y_pre.append(out)\n",
        "    return np.array(Y_pre).reshape(-1,1)\n"
      ]
    },
    {
      "cell_type": "code",
      "execution_count": null,
      "metadata": {
        "colab": {
          "background_save": true,
          "base_uri": "https://localhost:8080/"
        },
        "id": "dph3gQ9jBI4W",
        "outputId": "182b9296-bc19-4b6c-fdd3-627f87e70fe0",
        "scrolled": true
      },
      "outputs": [
        {
          "name": "stdout",
          "output_type": "stream",
          "text": [
            "Column:  Country_Region_Mexico\n",
            "Epoch: 1 of 10\n"
          ]
        },
        {
          "name": "stderr",
          "output_type": "stream",
          "text": [
            "100%|██████████| 2073610/2073610 [03:03<00:00, 11280.72it/s]\n",
            "100%|██████████| 20946/20946 [01:18<00:00, 265.83it/s]\n"
          ]
        },
        {
          "name": "stdout",
          "output_type": "stream",
          "text": [
            "RMSE training:  0.002802338328491681\n",
            "Se guardo el mejor modelo\n",
            "------------------------------------------------\n",
            "Epoch: 2 of 10\n"
          ]
        },
        {
          "name": "stderr",
          "output_type": "stream",
          "text": [
            "100%|██████████| 2073610/2073610 [03:02<00:00, 11335.54it/s]\n",
            "100%|██████████| 20946/20946 [01:19<00:00, 263.79it/s]\n"
          ]
        },
        {
          "name": "stdout",
          "output_type": "stream",
          "text": [
            "RMSE training:  0.07849233140021132\n",
            "Epoch: 3 of 10\n"
          ]
        },
        {
          "name": "stderr",
          "output_type": "stream",
          "text": [
            "100%|██████████| 2073610/2073610 [03:11<00:00, 10810.02it/s]\n",
            "100%|██████████| 20946/20946 [01:18<00:00, 265.71it/s]\n"
          ]
        },
        {
          "name": "stdout",
          "output_type": "stream",
          "text": [
            "RMSE training:  0.08575759317635742\n",
            "Epoch: 4 of 10\n"
          ]
        },
        {
          "name": "stderr",
          "output_type": "stream",
          "text": [
            "100%|██████████| 2073610/2073610 [03:03<00:00, 11270.21it/s]\n",
            "100%|██████████| 20946/20946 [01:18<00:00, 266.34it/s]\n"
          ]
        },
        {
          "name": "stdout",
          "output_type": "stream",
          "text": [
            "RMSE training:  0.08625594887080928\n",
            "Epoch: 5 of 10\n"
          ]
        },
        {
          "name": "stderr",
          "output_type": "stream",
          "text": [
            "100%|██████████| 2073610/2073610 [03:02<00:00, 11376.49it/s]\n",
            "100%|██████████| 20946/20946 [01:18<00:00, 266.87it/s]\n"
          ]
        },
        {
          "name": "stdout",
          "output_type": "stream",
          "text": [
            "RMSE training:  0.08632220787860763\n",
            "Epoch: 6 of 10\n"
          ]
        },
        {
          "name": "stderr",
          "output_type": "stream",
          "text": [
            "100%|██████████| 2073610/2073610 [03:02<00:00, 11337.14it/s]\n",
            "100%|██████████| 20946/20946 [01:18<00:00, 266.01it/s]\n"
          ]
        },
        {
          "name": "stdout",
          "output_type": "stream",
          "text": [
            "RMSE training:  0.08633186521041289\n",
            "Epoch: 7 of 10\n"
          ]
        },
        {
          "name": "stderr",
          "output_type": "stream",
          "text": [
            "100%|██████████| 2073610/2073610 [03:03<00:00, 11299.75it/s]\n",
            "100%|██████████| 20946/20946 [01:18<00:00, 266.90it/s]\n"
          ]
        },
        {
          "name": "stdout",
          "output_type": "stream",
          "text": [
            "RMSE training:  0.08632554292357252\n",
            "Epoch: 8 of 10\n"
          ]
        },
        {
          "name": "stderr",
          "output_type": "stream",
          "text": [
            "100%|██████████| 2073610/2073610 [03:05<00:00, 11185.10it/s]\n",
            "100%|██████████| 20946/20946 [01:19<00:00, 261.93it/s]\n"
          ]
        },
        {
          "name": "stdout",
          "output_type": "stream",
          "text": [
            "RMSE training:  0.08632103121417534\n",
            "Epoch: 9 of 10\n"
          ]
        },
        {
          "name": "stderr",
          "output_type": "stream",
          "text": [
            "100%|██████████| 2073610/2073610 [03:06<00:00, 11138.95it/s]\n",
            "100%|██████████| 20946/20946 [01:17<00:00, 268.54it/s]\n"
          ]
        },
        {
          "name": "stdout",
          "output_type": "stream",
          "text": [
            "RMSE training:  0.0863229622176781\n",
            "Termino i= 15\n",
            "------------------------------------------------\n",
            "Column:  Country_Region_Netherlands\n",
            "Epoch: 1 of 10\n"
          ]
        },
        {
          "name": "stderr",
          "output_type": "stream",
          "text": [
            "100%|██████████| 2073610/2073610 [03:11<00:00, 10831.19it/s]\n",
            "100%|██████████| 20946/20946 [01:20<00:00, 259.32it/s]\n"
          ]
        },
        {
          "name": "stdout",
          "output_type": "stream",
          "text": [
            "RMSE training:  0.005006181657672787\n",
            "Se guardo el mejor modelo\n",
            "------------------------------------------------\n",
            "Epoch: 2 of 10\n"
          ]
        },
        {
          "name": "stderr",
          "output_type": "stream",
          "text": [
            "100%|██████████| 2073610/2073610 [03:07<00:00, 11061.69it/s]\n",
            "100%|██████████| 20946/20946 [01:20<00:00, 260.92it/s]\n"
          ]
        },
        {
          "name": "stdout",
          "output_type": "stream",
          "text": [
            "RMSE training:  0.06831227764772137\n",
            "Epoch: 3 of 10\n"
          ]
        },
        {
          "name": "stderr",
          "output_type": "stream",
          "text": [
            "100%|██████████| 2073610/2073610 [03:08<00:00, 11003.59it/s]\n",
            "100%|██████████| 20946/20946 [01:20<00:00, 261.82it/s]\n"
          ]
        },
        {
          "name": "stdout",
          "output_type": "stream",
          "text": [
            "RMSE training:  0.0728615148554877\n",
            "Epoch: 4 of 10\n"
          ]
        },
        {
          "name": "stderr",
          "output_type": "stream",
          "text": [
            "100%|██████████| 2073610/2073610 [03:06<00:00, 11138.79it/s]\n",
            "100%|██████████| 20946/20946 [01:19<00:00, 263.70it/s]\n"
          ]
        },
        {
          "name": "stdout",
          "output_type": "stream",
          "text": [
            "RMSE training:  0.07288928381094117\n",
            "Epoch: 5 of 10\n"
          ]
        },
        {
          "name": "stderr",
          "output_type": "stream",
          "text": [
            "100%|██████████| 2073610/2073610 [03:02<00:00, 11390.70it/s]\n",
            "100%|██████████| 20946/20946 [01:17<00:00, 269.31it/s]\n"
          ]
        },
        {
          "name": "stdout",
          "output_type": "stream",
          "text": [
            "RMSE training:  0.07290850087679868\n",
            "Epoch: 6 of 10\n"
          ]
        },
        {
          "name": "stderr",
          "output_type": "stream",
          "text": [
            "100%|██████████| 2073610/2073610 [02:59<00:00, 11536.91it/s]\n",
            "100%|██████████| 20946/20946 [01:17<00:00, 269.37it/s]\n"
          ]
        },
        {
          "name": "stdout",
          "output_type": "stream",
          "text": [
            "RMSE training:  0.0730270314646501\n",
            "Epoch: 7 of 10\n"
          ]
        },
        {
          "name": "stderr",
          "output_type": "stream",
          "text": [
            "100%|██████████| 2073610/2073610 [02:58<00:00, 11617.88it/s]\n",
            "100%|██████████| 20946/20946 [01:18<00:00, 266.30it/s]\n"
          ]
        },
        {
          "name": "stdout",
          "output_type": "stream",
          "text": [
            "RMSE training:  0.07285590153319776\n",
            "Epoch: 8 of 10\n"
          ]
        },
        {
          "name": "stderr",
          "output_type": "stream",
          "text": [
            "100%|██████████| 2073610/2073610 [03:02<00:00, 11367.36it/s]\n",
            "100%|██████████| 20946/20946 [01:19<00:00, 264.62it/s]\n"
          ]
        },
        {
          "name": "stdout",
          "output_type": "stream",
          "text": [
            "RMSE training:  0.07296064264108217\n",
            "Epoch: 9 of 10\n"
          ]
        },
        {
          "name": "stderr",
          "output_type": "stream",
          "text": [
            "100%|██████████| 2073610/2073610 [03:05<00:00, 11193.09it/s]\n",
            "100%|██████████| 20946/20946 [01:19<00:00, 264.34it/s]\n"
          ]
        },
        {
          "name": "stdout",
          "output_type": "stream",
          "text": [
            "RMSE training:  0.07295236893568743\n",
            "Termino i= 16\n",
            "------------------------------------------------\n",
            "Column:  Country_Region_New Zealand\n",
            "Epoch: 1 of 10\n"
          ]
        },
        {
          "name": "stderr",
          "output_type": "stream",
          "text": [
            "100%|██████████| 2073610/2073610 [03:06<00:00, 11093.26it/s]\n",
            "100%|██████████| 20946/20946 [01:19<00:00, 263.81it/s]\n"
          ]
        },
        {
          "name": "stdout",
          "output_type": "stream",
          "text": [
            "RMSE training:  0.009377611143417303\n",
            "Se guardo el mejor modelo\n",
            "------------------------------------------------\n",
            "Epoch: 2 of 10\n"
          ]
        },
        {
          "name": "stderr",
          "output_type": "stream",
          "text": [
            "100%|██████████| 2073610/2073610 [03:05<00:00, 11175.30it/s]\n",
            "100%|██████████| 20946/20946 [01:18<00:00, 266.52it/s]\n"
          ]
        },
        {
          "name": "stdout",
          "output_type": "stream",
          "text": [
            "RMSE training:  0.012761225853706063\n",
            "Epoch: 3 of 10\n"
          ]
        },
        {
          "name": "stderr",
          "output_type": "stream",
          "text": [
            "100%|██████████| 2073610/2073610 [03:05<00:00, 11171.56it/s]\n",
            "100%|██████████| 20946/20946 [01:19<00:00, 264.49it/s]\n"
          ]
        },
        {
          "name": "stdout",
          "output_type": "stream",
          "text": [
            "RMSE training:  0.012573857993953049\n",
            "Epoch: 4 of 10\n"
          ]
        },
        {
          "name": "stderr",
          "output_type": "stream",
          "text": [
            "100%|██████████| 2073610/2073610 [03:05<00:00, 11206.83it/s]\n",
            "100%|██████████| 20946/20946 [01:19<00:00, 264.00it/s]\n"
          ]
        },
        {
          "name": "stdout",
          "output_type": "stream",
          "text": [
            "RMSE training:  0.012598883290056088\n",
            "Epoch: 5 of 10\n"
          ]
        },
        {
          "name": "stderr",
          "output_type": "stream",
          "text": [
            "100%|██████████| 2073610/2073610 [03:10<00:00, 10898.64it/s]\n",
            "100%|██████████| 20946/20946 [01:24<00:00, 248.10it/s]\n"
          ]
        },
        {
          "name": "stdout",
          "output_type": "stream",
          "text": [
            "RMSE training:  0.012534943137633557\n",
            "Epoch: 6 of 10\n"
          ]
        },
        {
          "name": "stderr",
          "output_type": "stream",
          "text": [
            "100%|██████████| 2073610/2073610 [03:23<00:00, 10206.97it/s]\n",
            "100%|██████████| 20946/20946 [01:22<00:00, 252.96it/s]\n"
          ]
        },
        {
          "name": "stdout",
          "output_type": "stream",
          "text": [
            "RMSE training:  0.01274669786786956\n",
            "Epoch: 7 of 10\n"
          ]
        },
        {
          "name": "stderr",
          "output_type": "stream",
          "text": [
            "100%|██████████| 2073610/2073610 [03:18<00:00, 10447.47it/s]\n",
            "100%|██████████| 20946/20946 [01:23<00:00, 250.25it/s]\n"
          ]
        },
        {
          "name": "stdout",
          "output_type": "stream",
          "text": [
            "RMSE training:  0.012972954155828123\n",
            "Epoch: 8 of 10\n"
          ]
        },
        {
          "name": "stderr",
          "output_type": "stream",
          "text": [
            "100%|██████████| 2073610/2073610 [03:13<00:00, 10701.94it/s]\n",
            "100%|██████████| 20946/20946 [01:22<00:00, 253.76it/s]\n"
          ]
        },
        {
          "name": "stdout",
          "output_type": "stream",
          "text": [
            "RMSE training:  0.012675008058906206\n",
            "Epoch: 9 of 10\n"
          ]
        },
        {
          "name": "stderr",
          "output_type": "stream",
          "text": [
            "100%|██████████| 2073610/2073610 [03:14<00:00, 10668.92it/s]\n",
            "100%|██████████| 20946/20946 [01:21<00:00, 256.82it/s]\n"
          ]
        },
        {
          "name": "stdout",
          "output_type": "stream",
          "text": [
            "RMSE training:  0.012984095069077621\n",
            "Termino i= 17\n",
            "------------------------------------------------\n",
            "Column:  Country_Region_Pakistan\n",
            "Epoch: 1 of 10\n"
          ]
        },
        {
          "name": "stderr",
          "output_type": "stream",
          "text": [
            "100%|██████████| 2073610/2073610 [03:11<00:00, 10844.92it/s]\n",
            "100%|██████████| 20946/20946 [01:21<00:00, 255.77it/s]\n"
          ]
        },
        {
          "name": "stdout",
          "output_type": "stream",
          "text": [
            "RMSE training:  0.001405560873231516\n",
            "Se guardo el mejor modelo\n",
            "------------------------------------------------\n",
            "Epoch: 2 of 10\n"
          ]
        },
        {
          "name": "stderr",
          "output_type": "stream",
          "text": [
            "100%|██████████| 2073610/2073610 [03:15<00:00, 10618.31it/s]\n",
            "100%|██████████| 20946/20946 [01:23<00:00, 249.98it/s]\n"
          ]
        },
        {
          "name": "stdout",
          "output_type": "stream",
          "text": [
            "RMSE training:  0.043198798490090506\n",
            "Epoch: 3 of 10\n"
          ]
        },
        {
          "name": "stderr",
          "output_type": "stream",
          "text": [
            "100%|██████████| 2073610/2073610 [03:15<00:00, 10582.75it/s]\n",
            "100%|██████████| 20946/20946 [01:24<00:00, 247.97it/s]\n"
          ]
        },
        {
          "name": "stdout",
          "output_type": "stream",
          "text": [
            "RMSE training:  0.045135588070491665\n",
            "Epoch: 4 of 10\n"
          ]
        },
        {
          "name": "stderr",
          "output_type": "stream",
          "text": [
            "100%|██████████| 2073610/2073610 [03:21<00:00, 10289.89it/s]\n",
            "100%|██████████| 20946/20946 [01:22<00:00, 252.72it/s]\n"
          ]
        },
        {
          "name": "stdout",
          "output_type": "stream",
          "text": [
            "RMSE training:  0.04519116148426521\n",
            "Epoch: 5 of 10\n"
          ]
        },
        {
          "name": "stderr",
          "output_type": "stream",
          "text": [
            "100%|██████████| 2073610/2073610 [03:16<00:00, 10534.07it/s]\n",
            "100%|██████████| 20946/20946 [01:25<00:00, 245.92it/s]\n"
          ]
        },
        {
          "name": "stdout",
          "output_type": "stream",
          "text": [
            "RMSE training:  0.04515698375735361\n",
            "Epoch: 6 of 10\n"
          ]
        },
        {
          "name": "stderr",
          "output_type": "stream",
          "text": [
            "100%|██████████| 2073610/2073610 [03:17<00:00, 10522.31it/s]\n",
            "100%|██████████| 20946/20946 [01:24<00:00, 247.89it/s]\n"
          ]
        },
        {
          "name": "stdout",
          "output_type": "stream",
          "text": [
            "RMSE training:  0.04513248951350886\n",
            "Epoch: 7 of 10\n"
          ]
        },
        {
          "name": "stderr",
          "output_type": "stream",
          "text": [
            "100%|██████████| 2073610/2073610 [03:15<00:00, 10601.87it/s]\n",
            "100%|██████████| 20946/20946 [01:22<00:00, 253.91it/s]\n"
          ]
        },
        {
          "name": "stdout",
          "output_type": "stream",
          "text": [
            "RMSE training:  0.04522100547992522\n",
            "Epoch: 8 of 10\n"
          ]
        },
        {
          "name": "stderr",
          "output_type": "stream",
          "text": [
            "100%|██████████| 2073610/2073610 [03:14<00:00, 10673.05it/s]\n",
            "100%|██████████| 20946/20946 [01:25<00:00, 246.38it/s]\n"
          ]
        },
        {
          "name": "stdout",
          "output_type": "stream",
          "text": [
            "RMSE training:  0.04504426332667942\n",
            "Epoch: 9 of 10\n"
          ]
        },
        {
          "name": "stderr",
          "output_type": "stream",
          "text": [
            "100%|██████████| 2073610/2073610 [03:23<00:00, 10169.32it/s]\n",
            "100%|██████████| 20946/20946 [01:24<00:00, 246.47it/s]\n"
          ]
        },
        {
          "name": "stdout",
          "output_type": "stream",
          "text": [
            "RMSE training:  0.04522110923056313\n",
            "Termino i= 18\n",
            "------------------------------------------------\n",
            "Column:  Country_Region_Peru\n",
            "Epoch: 1 of 10\n"
          ]
        },
        {
          "name": "stderr",
          "output_type": "stream",
          "text": [
            "100%|██████████| 2073610/2073610 [03:24<00:00, 10156.49it/s]\n",
            "100%|██████████| 20946/20946 [01:26<00:00, 241.54it/s]\n"
          ]
        },
        {
          "name": "stdout",
          "output_type": "stream",
          "text": [
            "RMSE training:  0.004165019832127004\n",
            "Se guardo el mejor modelo\n",
            "------------------------------------------------\n",
            "Epoch: 2 of 10\n"
          ]
        },
        {
          "name": "stderr",
          "output_type": "stream",
          "text": [
            "100%|██████████| 2073610/2073610 [03:31<00:00, 9816.33it/s] \n",
            "100%|██████████| 20946/20946 [01:27<00:00, 240.30it/s]\n"
          ]
        },
        {
          "name": "stdout",
          "output_type": "stream",
          "text": [
            "RMSE training:  0.07063814428870299\n",
            "Epoch: 3 of 10\n"
          ]
        },
        {
          "name": "stderr",
          "output_type": "stream",
          "text": [
            "100%|██████████| 2073610/2073610 [03:35<00:00, 9636.34it/s]\n",
            "100%|██████████| 20946/20946 [01:28<00:00, 235.57it/s]\n"
          ]
        },
        {
          "name": "stdout",
          "output_type": "stream",
          "text": [
            "RMSE training:  0.07663209125722505\n",
            "Epoch: 4 of 10\n"
          ]
        },
        {
          "name": "stderr",
          "output_type": "stream",
          "text": [
            "100%|██████████| 2073610/2073610 [03:35<00:00, 9624.00it/s]\n",
            "100%|██████████| 20946/20946 [01:28<00:00, 237.07it/s]\n"
          ]
        },
        {
          "name": "stdout",
          "output_type": "stream",
          "text": [
            "RMSE training:  0.07714492995058689\n",
            "Epoch: 5 of 10\n"
          ]
        },
        {
          "name": "stderr",
          "output_type": "stream",
          "text": [
            "100%|██████████| 2073610/2073610 [03:33<00:00, 9700.64it/s]\n",
            "100%|██████████| 20946/20946 [01:27<00:00, 240.39it/s]\n"
          ]
        },
        {
          "name": "stdout",
          "output_type": "stream",
          "text": [
            "RMSE training:  0.07709857796516993\n",
            "Epoch: 6 of 10\n"
          ]
        },
        {
          "name": "stderr",
          "output_type": "stream",
          "text": [
            "100%|██████████| 2073610/2073610 [03:25<00:00, 10111.19it/s]\n",
            "100%|██████████| 20946/20946 [01:26<00:00, 242.50it/s]\n"
          ]
        },
        {
          "name": "stdout",
          "output_type": "stream",
          "text": [
            "RMSE training:  0.07712584274855332\n",
            "Epoch: 7 of 10\n"
          ]
        },
        {
          "name": "stderr",
          "output_type": "stream",
          "text": [
            "100%|██████████| 2073610/2073610 [03:28<00:00, 9940.32it/s] \n",
            "100%|██████████| 20946/20946 [01:27<00:00, 239.95it/s]\n"
          ]
        },
        {
          "name": "stdout",
          "output_type": "stream",
          "text": [
            "RMSE training:  0.07724806783084666\n",
            "Epoch: 8 of 10\n"
          ]
        },
        {
          "name": "stderr",
          "output_type": "stream",
          "text": [
            "100%|██████████| 2073610/2073610 [03:26<00:00, 10023.97it/s]\n",
            "100%|██████████| 20946/20946 [01:25<00:00, 246.03it/s]\n"
          ]
        },
        {
          "name": "stdout",
          "output_type": "stream",
          "text": [
            "RMSE training:  0.07718642363231056\n",
            "Epoch: 9 of 10\n"
          ]
        },
        {
          "name": "stderr",
          "output_type": "stream",
          "text": [
            "100%|██████████| 2073610/2073610 [03:26<00:00, 10053.04it/s]\n",
            "100%|██████████| 20946/20946 [01:24<00:00, 246.81it/s]\n"
          ]
        },
        {
          "name": "stdout",
          "output_type": "stream",
          "text": [
            "RMSE training:  0.07709135476683375\n",
            "Termino i= 19\n",
            "------------------------------------------------\n",
            "Column:  Country_Region_Russia\n",
            "Epoch: 1 of 10\n"
          ]
        },
        {
          "name": "stderr",
          "output_type": "stream",
          "text": [
            "100%|██████████| 2073610/2073610 [03:23<00:00, 10214.47it/s]\n",
            "100%|██████████| 20946/20946 [01:26<00:00, 242.26it/s]\n"
          ]
        },
        {
          "name": "stdout",
          "output_type": "stream",
          "text": [
            "RMSE training:  0.005480620605954063\n",
            "Se guardo el mejor modelo\n",
            "------------------------------------------------\n",
            "Epoch: 2 of 10\n"
          ]
        },
        {
          "name": "stderr",
          "output_type": "stream",
          "text": [
            "100%|██████████| 2073610/2073610 [03:24<00:00, 10145.95it/s]\n",
            "100%|██████████| 20946/20946 [01:25<00:00, 244.27it/s]\n"
          ]
        },
        {
          "name": "stdout",
          "output_type": "stream",
          "text": [
            "RMSE training:  0.12948988785392898\n",
            "Epoch: 3 of 10\n"
          ]
        },
        {
          "name": "stderr",
          "output_type": "stream",
          "text": [
            "100%|██████████| 2073610/2073610 [03:30<00:00, 9839.28it/s]\n",
            "100%|██████████| 20946/20946 [01:28<00:00, 237.48it/s]\n"
          ]
        },
        {
          "name": "stdout",
          "output_type": "stream",
          "text": [
            "RMSE training:  0.14835968220477183\n",
            "Epoch: 4 of 10\n"
          ]
        },
        {
          "name": "stderr",
          "output_type": "stream",
          "text": [
            "100%|██████████| 2073610/2073610 [03:28<00:00, 9954.48it/s]\n",
            "100%|██████████| 20946/20946 [01:26<00:00, 242.35it/s]\n"
          ]
        },
        {
          "name": "stdout",
          "output_type": "stream",
          "text": [
            "RMSE training:  0.1512145274159796\n",
            "Epoch: 5 of 10\n"
          ]
        },
        {
          "name": "stderr",
          "output_type": "stream",
          "text": [
            "100%|██████████| 2073610/2073610 [03:32<00:00, 9763.26it/s] \n",
            "100%|██████████| 20946/20946 [01:27<00:00, 239.97it/s]\n"
          ]
        },
        {
          "name": "stdout",
          "output_type": "stream",
          "text": [
            "RMSE training:  0.15202149924748887\n",
            "Epoch: 6 of 10\n"
          ]
        },
        {
          "name": "stderr",
          "output_type": "stream",
          "text": [
            "100%|██████████| 2073610/2073610 [03:30<00:00, 9847.24it/s]\n",
            "100%|██████████| 20946/20946 [01:28<00:00, 237.38it/s]\n"
          ]
        },
        {
          "name": "stdout",
          "output_type": "stream",
          "text": [
            "RMSE training:  0.15187337777592472\n",
            "Epoch: 7 of 10\n"
          ]
        },
        {
          "name": "stderr",
          "output_type": "stream",
          "text": [
            "100%|██████████| 2073610/2073610 [03:32<00:00, 9762.78it/s]\n",
            "100%|██████████| 20946/20946 [01:28<00:00, 237.67it/s]\n"
          ]
        },
        {
          "name": "stdout",
          "output_type": "stream",
          "text": [
            "RMSE training:  0.15091983030548795\n",
            "Epoch: 8 of 10\n"
          ]
        },
        {
          "name": "stderr",
          "output_type": "stream",
          "text": [
            "100%|██████████| 2073610/2073610 [03:35<00:00, 9624.17it/s]\n",
            "100%|██████████| 20946/20946 [01:28<00:00, 235.86it/s]\n"
          ]
        },
        {
          "name": "stdout",
          "output_type": "stream",
          "text": [
            "RMSE training:  0.1505259760502487\n",
            "Epoch: 9 of 10\n"
          ]
        },
        {
          "name": "stderr",
          "output_type": "stream",
          "text": [
            "100%|██████████| 2073610/2073610 [03:34<00:00, 9667.64it/s]\n",
            "100%|██████████| 20946/20946 [01:28<00:00, 235.72it/s]\n"
          ]
        },
        {
          "name": "stdout",
          "output_type": "stream",
          "text": [
            "RMSE training:  0.15049706105123858\n",
            "Termino i= 20\n",
            "------------------------------------------------\n",
            "Column:  Country_Region_Spain\n",
            "Epoch: 1 of 10\n"
          ]
        },
        {
          "name": "stderr",
          "output_type": "stream",
          "text": [
            "100%|██████████| 2073610/2073610 [03:34<00:00, 9685.64it/s]\n",
            "100%|██████████| 20946/20946 [01:29<00:00, 234.97it/s]\n"
          ]
        },
        {
          "name": "stdout",
          "output_type": "stream",
          "text": [
            "RMSE training:  0.004089314461610542\n",
            "Se guardo el mejor modelo\n",
            "------------------------------------------------\n",
            "Epoch: 2 of 10\n"
          ]
        },
        {
          "name": "stderr",
          "output_type": "stream",
          "text": [
            "100%|██████████| 2073610/2073610 [03:31<00:00, 9806.96it/s]\n",
            "100%|██████████| 20946/20946 [01:27<00:00, 239.06it/s]\n"
          ]
        },
        {
          "name": "stdout",
          "output_type": "stream",
          "text": [
            "RMSE training:  0.06780089696632347\n",
            "Epoch: 3 of 10\n"
          ]
        },
        {
          "name": "stderr",
          "output_type": "stream",
          "text": [
            "100%|██████████| 2073610/2073610 [03:32<00:00, 9757.74it/s] \n",
            "100%|██████████| 20946/20946 [01:26<00:00, 240.99it/s]\n"
          ]
        },
        {
          "name": "stdout",
          "output_type": "stream",
          "text": [
            "RMSE training:  0.07307876265636101\n",
            "Epoch: 4 of 10\n"
          ]
        },
        {
          "name": "stderr",
          "output_type": "stream",
          "text": [
            "100%|██████████| 2073610/2073610 [03:32<00:00, 9780.75it/s]\n",
            "100%|██████████| 20946/20946 [01:26<00:00, 241.57it/s]\n"
          ]
        },
        {
          "name": "stdout",
          "output_type": "stream",
          "text": [
            "RMSE training:  0.07309209129576809\n",
            "Epoch: 5 of 10\n"
          ]
        },
        {
          "name": "stderr",
          "output_type": "stream",
          "text": [
            "100%|██████████| 2073610/2073610 [03:29<00:00, 9916.65it/s] \n",
            "100%|██████████| 20946/20946 [01:25<00:00, 245.82it/s]\n"
          ]
        },
        {
          "name": "stdout",
          "output_type": "stream",
          "text": [
            "RMSE training:  0.07341533848001472\n",
            "Epoch: 6 of 10\n"
          ]
        },
        {
          "name": "stderr",
          "output_type": "stream",
          "text": [
            "100%|██████████| 2073610/2073610 [03:18<00:00, 10463.25it/s]\n",
            "100%|██████████| 20946/20946 [01:23<00:00, 250.85it/s]\n"
          ]
        },
        {
          "name": "stdout",
          "output_type": "stream",
          "text": [
            "RMSE training:  0.07347437455050988\n",
            "Epoch: 7 of 10\n"
          ]
        },
        {
          "name": "stderr",
          "output_type": "stream",
          "text": [
            "100%|██████████| 2073610/2073610 [03:21<00:00, 10271.66it/s]\n",
            "100%|██████████| 20946/20946 [01:24<00:00, 248.62it/s]\n"
          ]
        },
        {
          "name": "stdout",
          "output_type": "stream",
          "text": [
            "RMSE training:  0.07365138617024233\n",
            "Epoch: 8 of 10\n"
          ]
        },
        {
          "name": "stderr",
          "output_type": "stream",
          "text": [
            "100%|██████████| 2073610/2073610 [03:17<00:00, 10499.64it/s]\n",
            "100%|██████████| 20946/20946 [01:23<00:00, 251.52it/s]\n"
          ]
        },
        {
          "name": "stdout",
          "output_type": "stream",
          "text": [
            "RMSE training:  0.07347482841061503\n",
            "Epoch: 9 of 10\n"
          ]
        },
        {
          "name": "stderr",
          "output_type": "stream",
          "text": [
            "100%|██████████| 2073610/2073610 [03:18<00:00, 10456.76it/s]\n",
            "100%|██████████| 20946/20946 [01:23<00:00, 249.98it/s]\n"
          ]
        },
        {
          "name": "stdout",
          "output_type": "stream",
          "text": [
            "RMSE training:  0.07330805742571317\n",
            "Termino i= 21\n",
            "------------------------------------------------\n",
            "Column:  Country_Region_Sweden\n",
            "Epoch: 1 of 10\n"
          ]
        },
        {
          "name": "stderr",
          "output_type": "stream",
          "text": [
            "100%|██████████| 2073610/2073610 [03:16<00:00, 10551.12it/s]\n",
            "100%|██████████| 20946/20946 [01:22<00:00, 252.53it/s]\n"
          ]
        },
        {
          "name": "stdout",
          "output_type": "stream",
          "text": [
            "RMSE training:  0.006238950529853151\n",
            "Se guardo el mejor modelo\n",
            "------------------------------------------------\n",
            "Epoch: 2 of 10\n"
          ]
        },
        {
          "name": "stderr",
          "output_type": "stream",
          "text": [
            "100%|██████████| 2073610/2073610 [03:16<00:00, 10553.55it/s]\n",
            "100%|██████████| 20946/20946 [01:23<00:00, 250.46it/s]\n"
          ]
        },
        {
          "name": "stdout",
          "output_type": "stream",
          "text": [
            "RMSE training:  0.07990457574548047\n",
            "Epoch: 3 of 10\n"
          ]
        },
        {
          "name": "stderr",
          "output_type": "stream",
          "text": [
            "100%|██████████| 2073610/2073610 [03:18<00:00, 10465.63it/s]\n",
            "100%|██████████| 20946/20946 [01:22<00:00, 253.85it/s]\n"
          ]
        },
        {
          "name": "stdout",
          "output_type": "stream",
          "text": [
            "RMSE training:  0.08571027371029738\n",
            "Epoch: 4 of 10\n"
          ]
        },
        {
          "name": "stderr",
          "output_type": "stream",
          "text": [
            "100%|██████████| 2073610/2073610 [03:14<00:00, 10683.55it/s]\n",
            "100%|██████████| 20946/20946 [01:22<00:00, 254.51it/s]\n"
          ]
        },
        {
          "name": "stdout",
          "output_type": "stream",
          "text": [
            "RMSE training:  0.08627303223743193\n",
            "Epoch: 5 of 10\n"
          ]
        },
        {
          "name": "stderr",
          "output_type": "stream",
          "text": [
            "100%|██████████| 2073610/2073610 [03:15<00:00, 10623.67it/s]\n",
            "100%|██████████| 20946/20946 [01:21<00:00, 257.58it/s]\n"
          ]
        },
        {
          "name": "stdout",
          "output_type": "stream",
          "text": [
            "RMSE training:  0.08630144396428627\n",
            "Epoch: 6 of 10\n"
          ]
        },
        {
          "name": "stderr",
          "output_type": "stream",
          "text": [
            "100%|██████████| 2073610/2073610 [03:12<00:00, 10768.61it/s]\n",
            "100%|██████████| 20946/20946 [01:22<00:00, 252.94it/s]\n"
          ]
        },
        {
          "name": "stdout",
          "output_type": "stream",
          "text": [
            "RMSE training:  0.08625251415119867\n",
            "Epoch: 7 of 10\n"
          ]
        },
        {
          "name": "stderr",
          "output_type": "stream",
          "text": [
            "100%|██████████| 2073610/2073610 [03:09<00:00, 10916.33it/s]\n",
            "100%|██████████| 20946/20946 [01:21<00:00, 258.09it/s]\n"
          ]
        },
        {
          "name": "stdout",
          "output_type": "stream",
          "text": [
            "RMSE training:  0.08631863187526478\n",
            "Epoch: 8 of 10\n"
          ]
        },
        {
          "name": "stderr",
          "output_type": "stream",
          "text": [
            "100%|██████████| 2073610/2073610 [03:11<00:00, 10843.95it/s]\n",
            "100%|██████████| 20946/20946 [01:20<00:00, 259.76it/s]\n"
          ]
        },
        {
          "name": "stdout",
          "output_type": "stream",
          "text": [
            "RMSE training:  0.08630446743818254\n",
            "Epoch: 9 of 10\n"
          ]
        },
        {
          "name": "stderr",
          "output_type": "stream",
          "text": [
            "100%|██████████| 2073610/2073610 [03:09<00:00, 10965.94it/s]\n",
            "100%|██████████| 20946/20946 [01:20<00:00, 259.30it/s]\n"
          ]
        },
        {
          "name": "stdout",
          "output_type": "stream",
          "text": [
            "RMSE training:  0.0862866297174383\n",
            "Termino i= 22\n",
            "------------------------------------------------\n",
            "Column:  Country_Region_US\n",
            "Epoch: 1 of 10\n"
          ]
        },
        {
          "name": "stderr",
          "output_type": "stream",
          "text": [
            "100%|██████████| 2073610/2073610 [03:09<00:00, 10914.26it/s]\n",
            "100%|██████████| 20946/20946 [01:20<00:00, 260.62it/s]\n"
          ]
        },
        {
          "name": "stdout",
          "output_type": "stream",
          "text": [
            "RMSE training:  0.01401870849840088\n",
            "Se guardo el mejor modelo\n",
            "------------------------------------------------\n",
            "Epoch: 2 of 10\n"
          ]
        },
        {
          "name": "stderr",
          "output_type": "stream",
          "text": [
            "100%|██████████| 2073610/2073610 [03:11<00:00, 10825.07it/s]\n",
            "100%|██████████| 20946/20946 [01:25<00:00, 246.30it/s]\n"
          ]
        },
        {
          "name": "stdout",
          "output_type": "stream",
          "text": [
            "RMSE training:  0.3802248011294587\n",
            "Epoch: 3 of 10\n"
          ]
        },
        {
          "name": "stderr",
          "output_type": "stream",
          "text": [
            "100%|██████████| 2073610/2073610 [03:19<00:00, 10412.00it/s]\n",
            "100%|██████████| 20946/20946 [01:24<00:00, 248.74it/s]\n"
          ]
        },
        {
          "name": "stdout",
          "output_type": "stream",
          "text": [
            "RMSE training:  0.5137906056680995\n",
            "Epoch: 4 of 10\n"
          ]
        },
        {
          "name": "stderr",
          "output_type": "stream",
          "text": [
            "100%|██████████| 2073610/2073610 [03:22<00:00, 10235.35it/s]\n",
            "100%|██████████| 20946/20946 [01:26<00:00, 243.20it/s]\n"
          ]
        },
        {
          "name": "stdout",
          "output_type": "stream",
          "text": [
            "RMSE training:  0.5609908226135649\n",
            "Epoch: 5 of 10\n"
          ]
        },
        {
          "name": "stderr",
          "output_type": "stream",
          "text": [
            "100%|██████████| 2073610/2073610 [03:27<00:00, 10004.99it/s]\n",
            "100%|██████████| 20946/20946 [01:26<00:00, 241.29it/s]\n"
          ]
        },
        {
          "name": "stdout",
          "output_type": "stream",
          "text": [
            "RMSE training:  0.5774119827119307\n",
            "Epoch: 6 of 10\n"
          ]
        },
        {
          "name": "stderr",
          "output_type": "stream",
          "text": [
            "100%|██████████| 2073610/2073610 [03:23<00:00, 10206.52it/s]\n",
            "100%|██████████| 20946/20946 [01:24<00:00, 248.00it/s]\n"
          ]
        },
        {
          "name": "stdout",
          "output_type": "stream",
          "text": [
            "RMSE training:  0.5834319994016357\n",
            "Epoch: 7 of 10\n"
          ]
        },
        {
          "name": "stderr",
          "output_type": "stream",
          "text": [
            "100%|██████████| 2073610/2073610 [03:21<00:00, 10314.80it/s]\n",
            "100%|██████████| 20946/20946 [01:25<00:00, 244.33it/s]\n"
          ]
        },
        {
          "name": "stdout",
          "output_type": "stream",
          "text": [
            "RMSE training:  0.5855456242015753\n",
            "Epoch: 8 of 10\n"
          ]
        },
        {
          "name": "stderr",
          "output_type": "stream",
          "text": [
            "100%|██████████| 2073610/2073610 [03:23<00:00, 10179.01it/s]\n",
            "100%|██████████| 20946/20946 [01:24<00:00, 249.20it/s]\n"
          ]
        },
        {
          "name": "stdout",
          "output_type": "stream",
          "text": [
            "RMSE training:  0.5842402917885657\n",
            "Epoch: 9 of 10\n"
          ]
        },
        {
          "name": "stderr",
          "output_type": "stream",
          "text": [
            "100%|██████████| 2073610/2073610 [03:21<00:00, 10277.60it/s]\n",
            "100%|██████████| 20946/20946 [01:22<00:00, 254.80it/s]\n"
          ]
        },
        {
          "name": "stdout",
          "output_type": "stream",
          "text": [
            "RMSE training:  0.585991116219866\n",
            "Termino i= 23\n",
            "------------------------------------------------\n",
            "Column:  Country_Region_Ukraine\n",
            "Epoch: 1 of 10\n"
          ]
        },
        {
          "name": "stderr",
          "output_type": "stream",
          "text": [
            "100%|██████████| 2073610/2073610 [03:18<00:00, 10446.99it/s]\n",
            "100%|██████████| 20946/20946 [01:21<00:00, 257.55it/s]\n"
          ]
        },
        {
          "name": "stdout",
          "output_type": "stream",
          "text": [
            "RMSE training:  0.0030807013373418462\n",
            "Se guardo el mejor modelo\n",
            "------------------------------------------------\n",
            "Epoch: 2 of 10\n"
          ]
        },
        {
          "name": "stderr",
          "output_type": "stream",
          "text": [
            "100%|██████████| 2073610/2073610 [03:10<00:00, 10908.74it/s]\n",
            "100%|██████████| 20946/20946 [01:22<00:00, 254.59it/s]\n"
          ]
        },
        {
          "name": "stdout",
          "output_type": "stream",
          "text": [
            "RMSE training:  0.08249852407641309\n",
            "Epoch: 3 of 10\n"
          ]
        },
        {
          "name": "stderr",
          "output_type": "stream",
          "text": [
            "100%|██████████| 2073610/2073610 [03:12<00:00, 10768.15it/s]\n",
            "100%|██████████| 20946/20946 [01:22<00:00, 254.86it/s]\n"
          ]
        },
        {
          "name": "stdout",
          "output_type": "stream",
          "text": [
            "RMSE training:  0.08938638301027922\n",
            "Epoch: 4 of 10\n"
          ]
        },
        {
          "name": "stderr",
          "output_type": "stream",
          "text": [
            "100%|██████████| 2073610/2073610 [03:10<00:00, 10864.48it/s]\n",
            "100%|██████████| 20946/20946 [01:21<00:00, 258.28it/s]\n"
          ]
        },
        {
          "name": "stdout",
          "output_type": "stream",
          "text": [
            "RMSE training:  0.08960695715290343\n",
            "Epoch: 5 of 10\n"
          ]
        },
        {
          "name": "stderr",
          "output_type": "stream",
          "text": [
            "100%|██████████| 2073610/2073610 [03:09<00:00, 10953.55it/s]\n",
            "100%|██████████| 20946/20946 [01:21<00:00, 258.03it/s]\n"
          ]
        },
        {
          "name": "stdout",
          "output_type": "stream",
          "text": [
            "RMSE training:  0.08973117498338266\n",
            "Epoch: 6 of 10\n"
          ]
        },
        {
          "name": "stderr",
          "output_type": "stream",
          "text": [
            "100%|██████████| 2073610/2073610 [03:08<00:00, 10978.07it/s]\n",
            "100%|██████████| 20946/20946 [01:22<00:00, 253.48it/s]\n"
          ]
        },
        {
          "name": "stdout",
          "output_type": "stream",
          "text": [
            "RMSE training:  0.08963784301126017\n",
            "Epoch: 7 of 10\n"
          ]
        },
        {
          "name": "stderr",
          "output_type": "stream",
          "text": [
            "100%|██████████| 2073610/2073610 [03:17<00:00, 10485.56it/s]\n",
            "100%|██████████| 20946/20946 [01:23<00:00, 250.68it/s]\n"
          ]
        },
        {
          "name": "stdout",
          "output_type": "stream",
          "text": [
            "RMSE training:  0.0896323249549966\n",
            "Epoch: 8 of 10\n"
          ]
        },
        {
          "name": "stderr",
          "output_type": "stream",
          "text": [
            "100%|██████████| 2073610/2073610 [03:13<00:00, 10705.70it/s]\n",
            "100%|██████████| 20946/20946 [01:22<00:00, 254.35it/s]\n"
          ]
        },
        {
          "name": "stdout",
          "output_type": "stream",
          "text": [
            "RMSE training:  0.08960967649289191\n",
            "Epoch: 9 of 10\n"
          ]
        },
        {
          "name": "stderr",
          "output_type": "stream",
          "text": [
            "100%|██████████| 2073610/2073610 [03:13<00:00, 10703.57it/s]\n",
            "100%|██████████| 20946/20946 [01:23<00:00, 252.28it/s]\n"
          ]
        },
        {
          "name": "stdout",
          "output_type": "stream",
          "text": [
            "RMSE training:  0.08961877533762022\n",
            "Termino i= 24\n",
            "------------------------------------------------\n",
            "Column:  Country_Region_United Kingdom\n",
            "Epoch: 1 of 10\n"
          ]
        },
        {
          "name": "stderr",
          "output_type": "stream",
          "text": [
            "100%|██████████| 2073610/2073610 [03:19<00:00, 10398.23it/s]\n",
            "100%|██████████| 20946/20946 [01:25<00:00, 245.24it/s]\n"
          ]
        },
        {
          "name": "stdout",
          "output_type": "stream",
          "text": [
            "RMSE training:  0.0059985650241921075\n",
            "Se guardo el mejor modelo\n",
            "------------------------------------------------\n",
            "Epoch: 2 of 10\n"
          ]
        },
        {
          "name": "stderr",
          "output_type": "stream",
          "text": [
            "100%|██████████| 2073610/2073610 [03:19<00:00, 10410.37it/s]\n",
            "100%|██████████| 20946/20946 [01:23<00:00, 252.09it/s]\n"
          ]
        },
        {
          "name": "stdout",
          "output_type": "stream",
          "text": [
            "RMSE training:  0.05954081694178456\n",
            "Epoch: 3 of 10\n"
          ]
        },
        {
          "name": "stderr",
          "output_type": "stream",
          "text": [
            "100%|██████████| 2073610/2073610 [03:16<00:00, 10568.44it/s]\n",
            "100%|██████████| 20946/20946 [01:22<00:00, 253.52it/s]\n"
          ]
        },
        {
          "name": "stdout",
          "output_type": "stream",
          "text": [
            "RMSE training:  0.063717684393098\n",
            "Epoch: 4 of 10\n"
          ]
        },
        {
          "name": "stderr",
          "output_type": "stream",
          "text": [
            "100%|██████████| 2073610/2073610 [03:15<00:00, 10632.13it/s]\n",
            "100%|██████████| 20946/20946 [01:23<00:00, 249.98it/s]\n"
          ]
        },
        {
          "name": "stdout",
          "output_type": "stream",
          "text": [
            "RMSE training:  0.06409696068416498\n",
            "Epoch: 5 of 10\n"
          ]
        },
        {
          "name": "stderr",
          "output_type": "stream",
          "text": [
            "100%|██████████| 2073610/2073610 [03:17<00:00, 10509.43it/s]\n",
            "100%|██████████| 20946/20946 [01:25<00:00, 243.59it/s]\n"
          ]
        },
        {
          "name": "stdout",
          "output_type": "stream",
          "text": [
            "RMSE training:  0.06419652204290215\n",
            "Epoch: 6 of 10\n"
          ]
        },
        {
          "name": "stderr",
          "output_type": "stream",
          "text": [
            "100%|██████████| 2073610/2073610 [03:21<00:00, 10269.45it/s]\n",
            "100%|██████████| 20946/20946 [01:23<00:00, 249.70it/s]\n"
          ]
        },
        {
          "name": "stdout",
          "output_type": "stream",
          "text": [
            "RMSE training:  0.06393577610292635\n",
            "Epoch: 7 of 10\n"
          ]
        },
        {
          "name": "stderr",
          "output_type": "stream",
          "text": [
            "100%|██████████| 2073610/2073610 [03:12<00:00, 10761.02it/s]\n",
            "100%|██████████| 20946/20946 [01:22<00:00, 254.37it/s]\n"
          ]
        },
        {
          "name": "stdout",
          "output_type": "stream",
          "text": [
            "RMSE training:  0.06395084481032234\n",
            "Epoch: 8 of 10\n"
          ]
        },
        {
          "name": "stderr",
          "output_type": "stream",
          "text": [
            "100%|██████████| 2073610/2073610 [03:12<00:00, 10795.38it/s]\n",
            "100%|██████████| 20946/20946 [01:21<00:00, 255.83it/s]\n"
          ]
        },
        {
          "name": "stdout",
          "output_type": "stream",
          "text": [
            "RMSE training:  0.06398476084419091\n",
            "Epoch: 9 of 10\n"
          ]
        },
        {
          "name": "stderr",
          "output_type": "stream",
          "text": [
            "100%|██████████| 2073610/2073610 [03:17<00:00, 10483.31it/s]\n",
            "100%|██████████| 20946/20946 [01:24<00:00, 246.67it/s]\n"
          ]
        },
        {
          "name": "stdout",
          "output_type": "stream",
          "text": [
            "RMSE training:  0.06404368432241025\n",
            "Termino i= 25\n",
            "------------------------------------------------\n",
            "Column:  Lat\n",
            "Epoch: 1 of 10\n"
          ]
        },
        {
          "name": "stderr",
          "output_type": "stream",
          "text": [
            "100%|██████████| 2073610/2073610 [03:23<00:00, 10206.98it/s]\n",
            "100%|██████████| 20946/20946 [01:26<00:00, 242.86it/s]\n"
          ]
        },
        {
          "name": "stdout",
          "output_type": "stream",
          "text": [
            "RMSE training:  4.547080319247562\n",
            "Se guardo el mejor modelo\n",
            "------------------------------------------------\n",
            "Epoch: 2 of 10\n"
          ]
        },
        {
          "name": "stderr",
          "output_type": "stream",
          "text": [
            "100%|██████████| 2073610/2073610 [03:22<00:00, 10254.48it/s]\n",
            "100%|██████████| 20946/20946 [01:25<00:00, 246.24it/s]\n"
          ]
        },
        {
          "name": "stdout",
          "output_type": "stream",
          "text": [
            "RMSE training:  456.3946242593612\n",
            "Epoch: 3 of 10\n"
          ]
        },
        {
          "name": "stderr",
          "output_type": "stream",
          "text": [
            "100%|██████████| 2073610/2073610 [03:21<00:00, 10314.92it/s]\n",
            "100%|██████████| 20946/20946 [01:23<00:00, 250.43it/s]\n"
          ]
        },
        {
          "name": "stdout",
          "output_type": "stream",
          "text": [
            "RMSE training:  5891.78460943685\n",
            "Epoch: 4 of 10\n"
          ]
        },
        {
          "name": "stderr",
          "output_type": "stream",
          "text": [
            "100%|██████████| 2073610/2073610 [03:18<00:00, 10431.86it/s]\n",
            "100%|██████████| 20946/20946 [01:24<00:00, 248.55it/s]\n"
          ]
        },
        {
          "name": "stdout",
          "output_type": "stream",
          "text": [
            "RMSE training:  70676.97107893703\n",
            "Epoch: 5 of 10\n"
          ]
        },
        {
          "name": "stderr",
          "output_type": "stream",
          "text": [
            "100%|██████████| 2073610/2073610 [03:23<00:00, 10176.10it/s]\n",
            "100%|██████████| 20946/20946 [01:25<00:00, 245.31it/s]\n"
          ]
        },
        {
          "name": "stdout",
          "output_type": "stream",
          "text": [
            "RMSE training:  842837.6652854171\n",
            "Epoch: 6 of 10\n"
          ]
        },
        {
          "name": "stderr",
          "output_type": "stream",
          "text": [
            "100%|██████████| 2073610/2073610 [03:25<00:00, 10104.93it/s]\n",
            "100%|██████████| 20946/20946 [01:26<00:00, 240.78it/s]\n"
          ]
        },
        {
          "name": "stdout",
          "output_type": "stream",
          "text": [
            "RMSE training:  10046073.88076725\n",
            "Epoch: 7 of 10\n"
          ]
        },
        {
          "name": "stderr",
          "output_type": "stream",
          "text": [
            "100%|██████████| 2073610/2073610 [03:24<00:00, 10141.62it/s]\n",
            "100%|██████████| 20946/20946 [01:26<00:00, 243.45it/s]\n"
          ]
        },
        {
          "name": "stdout",
          "output_type": "stream",
          "text": [
            "RMSE training:  119737687.9485014\n",
            "Epoch: 8 of 10\n"
          ]
        },
        {
          "name": "stderr",
          "output_type": "stream",
          "text": [
            "100%|██████████| 2073610/2073610 [03:20<00:00, 10366.62it/s]\n",
            "100%|██████████| 20946/20946 [01:23<00:00, 249.48it/s]\n"
          ]
        },
        {
          "name": "stdout",
          "output_type": "stream",
          "text": [
            "RMSE training:  1427131082.6161075\n",
            "Epoch: 9 of 10\n"
          ]
        },
        {
          "name": "stderr",
          "output_type": "stream",
          "text": [
            "100%|██████████| 2073610/2073610 [03:17<00:00, 10514.74it/s]\n",
            "100%|██████████| 20946/20946 [01:23<00:00, 251.44it/s]\n"
          ]
        },
        {
          "name": "stdout",
          "output_type": "stream",
          "text": [
            "RMSE training:  17009703196.023726\n",
            "Termino i= 26\n",
            "------------------------------------------------\n",
            "Column:  Long_\n",
            "Epoch: 1 of 10\n"
          ]
        },
        {
          "name": "stderr",
          "output_type": "stream",
          "text": [
            "100%|██████████| 2073610/2073610 [03:11<00:00, 10832.43it/s]\n",
            "100%|██████████| 20946/20946 [01:20<00:00, 259.02it/s]\n"
          ]
        },
        {
          "name": "stdout",
          "output_type": "stream",
          "text": [
            "RMSE training:  13.439996965139972\n",
            "Se guardo el mejor modelo\n",
            "------------------------------------------------\n",
            "Epoch: 2 of 10\n"
          ]
        },
        {
          "name": "stderr",
          "output_type": "stream",
          "text": [
            "100%|██████████| 2073610/2073610 [03:09<00:00, 10945.03it/s]\n",
            "100%|██████████| 20946/20946 [01:20<00:00, 259.86it/s]\n"
          ]
        },
        {
          "name": "stdout",
          "output_type": "stream",
          "text": [
            "RMSE training:  4586.811803426165\n",
            "Epoch: 3 of 10\n"
          ]
        },
        {
          "name": "stderr",
          "output_type": "stream",
          "text": [
            "100%|██████████| 2073610/2073610 [03:11<00:00, 10800.77it/s]\n",
            "100%|██████████| 20946/20946 [01:23<00:00, 251.22it/s]\n"
          ]
        },
        {
          "name": "stdout",
          "output_type": "stream",
          "text": [
            "RMSE training:  237190.20449865333\n",
            "Epoch: 4 of 10\n"
          ]
        },
        {
          "name": "stderr",
          "output_type": "stream",
          "text": [
            "100%|██████████| 2073610/2073610 [03:18<00:00, 10449.70it/s]\n",
            "100%|██████████| 20946/20946 [01:23<00:00, 250.60it/s]\n"
          ]
        },
        {
          "name": "stdout",
          "output_type": "stream",
          "text": [
            "RMSE training:  12037323.67363967\n",
            "Epoch: 5 of 10\n"
          ]
        },
        {
          "name": "stderr",
          "output_type": "stream",
          "text": [
            "100%|██████████| 2073610/2073610 [03:16<00:00, 10550.26it/s]\n",
            "100%|██████████| 20946/20946 [01:22<00:00, 254.35it/s]\n"
          ]
        },
        {
          "name": "stdout",
          "output_type": "stream",
          "text": [
            "RMSE training:  610665513.5396926\n",
            "Epoch: 6 of 10\n"
          ]
        },
        {
          "name": "stderr",
          "output_type": "stream",
          "text": [
            "100%|██████████| 2073610/2073610 [03:15<00:00, 10604.54it/s]\n",
            "100%|██████████| 20946/20946 [01:22<00:00, 252.56it/s]\n"
          ]
        },
        {
          "name": "stdout",
          "output_type": "stream",
          "text": [
            "RMSE training:  30979449357.621105\n",
            "Epoch: 7 of 10\n"
          ]
        },
        {
          "name": "stderr",
          "output_type": "stream",
          "text": [
            "100%|██████████| 2073610/2073610 [03:17<00:00, 10514.56it/s]\n",
            "100%|██████████| 20946/20946 [01:21<00:00, 255.90it/s]\n"
          ]
        },
        {
          "name": "stdout",
          "output_type": "stream",
          "text": [
            "RMSE training:  1571606915786.8196\n",
            "Epoch: 8 of 10\n"
          ]
        },
        {
          "name": "stderr",
          "output_type": "stream",
          "text": [
            "100%|██████████| 2073610/2073610 [03:12<00:00, 10795.33it/s]\n",
            "100%|██████████| 20946/20946 [01:21<00:00, 256.39it/s]\n"
          ]
        },
        {
          "name": "stdout",
          "output_type": "stream",
          "text": [
            "RMSE training:  79728605315747.53\n",
            "Epoch: 9 of 10\n"
          ]
        },
        {
          "name": "stderr",
          "output_type": "stream",
          "text": [
            "100%|██████████| 2073610/2073610 [03:14<00:00, 10651.15it/s]\n",
            "100%|██████████| 20946/20946 [01:22<00:00, 253.77it/s]\n"
          ]
        },
        {
          "name": "stdout",
          "output_type": "stream",
          "text": [
            "RMSE training:  4044682192082769.5\n",
            "Termino i= 27\n",
            "------------------------------------------------\n",
            "Column:  Confirmed\n",
            "Epoch: 1 of 10\n"
          ]
        },
        {
          "name": "stderr",
          "output_type": "stream",
          "text": [
            "100%|██████████| 2073610/2073610 [03:16<00:00, 10562.63it/s]\n",
            "100%|██████████| 20946/20946 [01:22<00:00, 252.90it/s]\n"
          ]
        },
        {
          "name": "stdout",
          "output_type": "stream",
          "text": [
            "RMSE training:  104130.36626228073\n",
            "Se guardo el mejor modelo\n",
            "------------------------------------------------\n",
            "Epoch: 2 of 10\n"
          ]
        },
        {
          "name": "stderr",
          "output_type": "stream",
          "text": [
            "100%|██████████| 2073610/2073610 [03:16<00:00, 10528.66it/s]\n",
            "100%|██████████| 20946/20946 [01:24<00:00, 246.70it/s]\n"
          ]
        },
        {
          "name": "stdout",
          "output_type": "stream",
          "text": [
            "RMSE training:  118808786474.73781\n",
            "Epoch: 3 of 10\n"
          ]
        },
        {
          "name": "stderr",
          "output_type": "stream",
          "text": [
            "100%|██████████| 2073610/2073610 [03:19<00:00, 10412.07it/s]\n",
            "100%|██████████| 20946/20946 [01:26<00:00, 242.13it/s]\n"
          ]
        },
        {
          "name": "stdout",
          "output_type": "stream",
          "text": [
            "RMSE training:  4.0599098277939544e+16\n",
            "Epoch: 4 of 10\n"
          ]
        },
        {
          "name": "stderr",
          "output_type": "stream",
          "text": [
            "100%|██████████| 2073610/2073610 [03:27<00:00, 9985.13it/s] \n",
            "100%|██████████| 20946/20946 [01:25<00:00, 243.84it/s]\n"
          ]
        },
        {
          "name": "stdout",
          "output_type": "stream",
          "text": [
            "RMSE training:  1.3873407171755667e+22\n",
            "Epoch: 5 of 10\n"
          ]
        },
        {
          "name": "stderr",
          "output_type": "stream",
          "text": [
            "100%|██████████| 2073610/2073610 [03:22<00:00, 10252.48it/s]\n",
            "100%|██████████| 20946/20946 [01:23<00:00, 250.96it/s]\n"
          ]
        },
        {
          "name": "stdout",
          "output_type": "stream",
          "text": [
            "RMSE training:  4.7407808231163835e+27\n",
            "Epoch: 6 of 10\n"
          ]
        },
        {
          "name": "stderr",
          "output_type": "stream",
          "text": [
            "100%|██████████| 2073610/2073610 [03:13<00:00, 10739.26it/s]\n",
            "100%|██████████| 20946/20946 [01:23<00:00, 252.18it/s]\n"
          ]
        },
        {
          "name": "stdout",
          "output_type": "stream",
          "text": [
            "RMSE training:  1.620005996694456e+33\n",
            "Epoch: 7 of 10\n"
          ]
        },
        {
          "name": "stderr",
          "output_type": "stream",
          "text": [
            "100%|██████████| 2073610/2073610 [03:13<00:00, 10703.72it/s]\n",
            "100%|██████████| 20946/20946 [01:23<00:00, 250.28it/s]\n"
          ]
        },
        {
          "name": "stdout",
          "output_type": "stream",
          "text": [
            "RMSE training:  5.535837928910661e+38\n",
            "Epoch: 8 of 10\n"
          ]
        },
        {
          "name": "stderr",
          "output_type": "stream",
          "text": [
            "100%|██████████| 2073610/2073610 [03:14<00:00, 10639.87it/s]\n",
            "100%|██████████| 20946/20946 [01:22<00:00, 252.51it/s]\n"
          ]
        },
        {
          "name": "stdout",
          "output_type": "stream",
          "text": [
            "RMSE training:  1.8916906256949997e+44\n",
            "Epoch: 9 of 10\n"
          ]
        },
        {
          "name": "stderr",
          "output_type": "stream",
          "text": [
            "100%|██████████| 2073610/2073610 [03:15<00:00, 10595.54it/s]\n",
            "100%|██████████| 20946/20946 [01:23<00:00, 251.82it/s]\n"
          ]
        },
        {
          "name": "stdout",
          "output_type": "stream",
          "text": [
            "RMSE training:  6.464230834240687e+49\n",
            "Termino i= 28\n",
            "------------------------------------------------\n",
            "Column:  Deaths\n",
            "Epoch: 1 of 10\n"
          ]
        },
        {
          "name": "stderr",
          "output_type": "stream",
          "text": [
            "100%|██████████| 2073610/2073610 [03:12<00:00, 10772.62it/s]\n",
            "100%|██████████| 20946/20946 [01:22<00:00, 252.87it/s]\n"
          ]
        },
        {
          "name": "stdout",
          "output_type": "stream",
          "text": [
            "RMSE training:  1079.9548899880308\n",
            "Se guardo el mejor modelo\n",
            "------------------------------------------------\n",
            "Epoch: 2 of 10\n"
          ]
        },
        {
          "name": "stderr",
          "output_type": "stream",
          "text": [
            "100%|██████████| 2073610/2073610 [03:15<00:00, 10629.82it/s]\n",
            "100%|██████████| 20946/20946 [01:22<00:00, 253.48it/s]\n"
          ]
        },
        {
          "name": "stdout",
          "output_type": "stream",
          "text": [
            "RMSE training:  29269436.993887708\n",
            "Epoch: 3 of 10\n"
          ]
        },
        {
          "name": "stderr",
          "output_type": "stream",
          "text": [
            "100%|██████████| 2073610/2073610 [03:21<00:00, 10294.96it/s]\n",
            "100%|██████████| 20946/20946 [01:23<00:00, 251.13it/s]\n"
          ]
        },
        {
          "name": "stdout",
          "output_type": "stream",
          "text": [
            "RMSE training:  157235715462.11557\n",
            "Epoch: 4 of 10\n"
          ]
        },
        {
          "name": "stderr",
          "output_type": "stream",
          "text": [
            "100%|██████████| 2073610/2073610 [03:13<00:00, 10717.75it/s]\n",
            "100%|██████████| 20946/20946 [01:21<00:00, 255.68it/s]\n"
          ]
        },
        {
          "name": "stdout",
          "output_type": "stream",
          "text": [
            "RMSE training:  844508542748226.9\n",
            "Epoch: 5 of 10\n"
          ]
        },
        {
          "name": "stderr",
          "output_type": "stream",
          "text": [
            "100%|██████████| 2073610/2073610 [03:12<00:00, 10758.69it/s]\n",
            "100%|██████████| 20946/20946 [01:21<00:00, 256.26it/s]\n"
          ]
        },
        {
          "name": "stdout",
          "output_type": "stream",
          "text": [
            "RMSE training:  4.5358311276375076e+18\n",
            "Epoch: 6 of 10\n"
          ]
        },
        {
          "name": "stderr",
          "output_type": "stream",
          "text": [
            "100%|██████████| 2073610/2073610 [03:08<00:00, 10989.32it/s]\n",
            "100%|██████████| 20946/20946 [01:22<00:00, 252.70it/s]\n"
          ]
        },
        {
          "name": "stdout",
          "output_type": "stream",
          "text": [
            "RMSE training:  2.436181871097627e+22\n",
            "Epoch: 7 of 10\n"
          ]
        },
        {
          "name": "stderr",
          "output_type": "stream",
          "text": [
            "100%|██████████| 2073610/2073610 [03:07<00:00, 11044.33it/s]\n",
            "100%|██████████| 20946/20946 [01:20<00:00, 259.26it/s]\n"
          ]
        },
        {
          "name": "stdout",
          "output_type": "stream",
          "text": [
            "RMSE training:  1.308466285903366e+26\n",
            "Epoch: 8 of 10\n"
          ]
        },
        {
          "name": "stderr",
          "output_type": "stream",
          "text": [
            "100%|██████████| 2073610/2073610 [03:09<00:00, 10919.24it/s]\n",
            "100%|██████████| 20946/20946 [01:21<00:00, 256.13it/s]\n"
          ]
        },
        {
          "name": "stdout",
          "output_type": "stream",
          "text": [
            "RMSE training:  7.027734840561664e+29\n",
            "Epoch: 9 of 10\n"
          ]
        },
        {
          "name": "stderr",
          "output_type": "stream",
          "text": [
            "100%|██████████| 2073610/2073610 [03:20<00:00, 10333.34it/s]\n",
            "100%|██████████| 20946/20946 [01:23<00:00, 252.32it/s]\n"
          ]
        },
        {
          "name": "stdout",
          "output_type": "stream",
          "text": [
            "RMSE training:  3.77457619820491e+33\n",
            "Termino i= 29\n",
            "------------------------------------------------\n",
            "Column:  Incident_Rate\n",
            "Epoch: 1 of 10\n"
          ]
        },
        {
          "name": "stderr",
          "output_type": "stream",
          "text": [
            "100%|██████████| 2073610/2073610 [03:09<00:00, 10954.55it/s]\n",
            "100%|██████████| 20946/20946 [01:21<00:00, 256.81it/s]\n"
          ]
        },
        {
          "name": "stdout",
          "output_type": "stream",
          "text": [
            "RMSE training:  5033.76975238299\n",
            "Se guardo el mejor modelo\n",
            "------------------------------------------------\n",
            "Epoch: 2 of 10\n"
          ]
        },
        {
          "name": "stderr",
          "output_type": "stream",
          "text": [
            "100%|██████████| 2073610/2073610 [03:12<00:00, 10786.11it/s]\n",
            "100%|██████████| 20946/20946 [01:21<00:00, 255.81it/s]\n"
          ]
        },
        {
          "name": "stdout",
          "output_type": "stream",
          "text": [
            "RMSE training:  226390612.30019218\n",
            "Epoch: 3 of 10\n"
          ]
        },
        {
          "name": "stderr",
          "output_type": "stream",
          "text": [
            "100%|██████████| 2073610/2073610 [03:11<00:00, 10852.21it/s]\n",
            "100%|██████████| 20946/20946 [01:22<00:00, 255.23it/s]\n"
          ]
        },
        {
          "name": "stdout",
          "output_type": "stream",
          "text": [
            "RMSE training:  2417430305430.2456\n",
            "Epoch: 4 of 10\n"
          ]
        },
        {
          "name": "stderr",
          "output_type": "stream",
          "text": [
            "100%|██████████| 2073610/2073610 [03:10<00:00, 10866.14it/s]\n",
            "100%|██████████| 20946/20946 [01:21<00:00, 255.70it/s]\n"
          ]
        },
        {
          "name": "stdout",
          "output_type": "stream",
          "text": [
            "RMSE training:  2.581138145143922e+16\n",
            "Epoch: 5 of 10\n"
          ]
        },
        {
          "name": "stderr",
          "output_type": "stream",
          "text": [
            "100%|██████████| 2073610/2073610 [03:09<00:00, 10929.87it/s]\n",
            "100%|██████████| 20946/20946 [01:21<00:00, 255.55it/s]\n"
          ]
        },
        {
          "name": "stdout",
          "output_type": "stream",
          "text": [
            "RMSE training:  2.7559322201945358e+20\n",
            "Epoch: 6 of 10\n"
          ]
        },
        {
          "name": "stderr",
          "output_type": "stream",
          "text": [
            "100%|██████████| 2073610/2073610 [03:09<00:00, 10958.27it/s]\n",
            "100%|██████████| 20946/20946 [01:22<00:00, 253.03it/s]\n"
          ]
        },
        {
          "name": "stdout",
          "output_type": "stream",
          "text": [
            "RMSE training:  2.942563309364038e+24\n",
            "Epoch: 7 of 10\n"
          ]
        },
        {
          "name": "stderr",
          "output_type": "stream",
          "text": [
            "100%|██████████| 2073610/2073610 [03:15<00:00, 10613.87it/s]\n",
            "100%|██████████| 20946/20946 [01:22<00:00, 254.86it/s]\n"
          ]
        },
        {
          "name": "stdout",
          "output_type": "stream",
          "text": [
            "RMSE training:  3.141833012498484e+28\n",
            "Epoch: 8 of 10\n"
          ]
        },
        {
          "name": "stderr",
          "output_type": "stream",
          "text": [
            "100%|██████████| 2073610/2073610 [03:13<00:00, 10724.71it/s]\n",
            "100%|██████████| 20946/20946 [01:22<00:00, 253.11it/s]\n"
          ]
        },
        {
          "name": "stdout",
          "output_type": "stream",
          "text": [
            "RMSE training:  3.354597213596978e+32\n",
            "Epoch: 9 of 10\n"
          ]
        },
        {
          "name": "stderr",
          "output_type": "stream",
          "text": [
            "100%|██████████| 2073610/2073610 [03:17<00:00, 10519.82it/s]\n",
            "100%|██████████| 20946/20946 [01:24<00:00, 247.68it/s]\n"
          ]
        },
        {
          "name": "stdout",
          "output_type": "stream",
          "text": [
            "RMSE training:  3.581769756924036e+36\n",
            "Termino i= 30\n",
            "------------------------------------------------\n",
            "Column:  Case_Fatality_Ratio\n",
            "Epoch: 1 of 10\n"
          ]
        },
        {
          "name": "stderr",
          "output_type": "stream",
          "text": [
            "100%|██████████| 2073610/2073610 [03:23<00:00, 10196.95it/s]\n",
            "100%|██████████| 20946/20946 [01:24<00:00, 247.57it/s]\n"
          ]
        },
        {
          "name": "stdout",
          "output_type": "stream",
          "text": [
            "RMSE training:  0.7199117798090513\n",
            "Se guardo el mejor modelo\n",
            "------------------------------------------------\n",
            "Epoch: 2 of 10\n"
          ]
        },
        {
          "name": "stderr",
          "output_type": "stream",
          "text": [
            "100%|██████████| 2073610/2073610 [03:18<00:00, 10460.81it/s]\n",
            "100%|██████████| 20946/20946 [01:25<00:00, 244.45it/s]\n"
          ]
        },
        {
          "name": "stdout",
          "output_type": "stream",
          "text": [
            "RMSE training:  1.669025615330909\n",
            "Epoch: 3 of 10\n"
          ]
        },
        {
          "name": "stderr",
          "output_type": "stream",
          "text": [
            "100%|██████████| 2073610/2073610 [03:21<00:00, 10304.23it/s]\n",
            "100%|██████████| 20946/20946 [01:23<00:00, 251.48it/s]\n"
          ]
        },
        {
          "name": "stdout",
          "output_type": "stream",
          "text": [
            "RMSE training:  3.613659251156676\n",
            "Epoch: 4 of 10\n"
          ]
        },
        {
          "name": "stderr",
          "output_type": "stream",
          "text": [
            "100%|██████████| 2073610/2073610 [03:20<00:00, 10332.23it/s]\n",
            "100%|██████████| 20946/20946 [01:22<00:00, 254.04it/s]\n"
          ]
        },
        {
          "name": "stdout",
          "output_type": "stream",
          "text": [
            "RMSE training:  5.858355937919027\n",
            "Epoch: 5 of 10\n"
          ]
        },
        {
          "name": "stderr",
          "output_type": "stream",
          "text": [
            "100%|██████████| 2073610/2073610 [03:14<00:00, 10660.08it/s]\n",
            "100%|██████████| 20946/20946 [01:24<00:00, 246.52it/s]\n"
          ]
        },
        {
          "name": "stdout",
          "output_type": "stream",
          "text": [
            "RMSE training:  8.653473851621209\n",
            "Epoch: 6 of 10\n"
          ]
        },
        {
          "name": "stderr",
          "output_type": "stream",
          "text": [
            "100%|██████████| 2073610/2073610 [03:16<00:00, 10545.62it/s]\n",
            "100%|██████████| 20946/20946 [01:22<00:00, 254.46it/s]\n"
          ]
        },
        {
          "name": "stdout",
          "output_type": "stream",
          "text": [
            "RMSE training:  12.085499321731051\n",
            "Epoch: 7 of 10\n"
          ]
        },
        {
          "name": "stderr",
          "output_type": "stream",
          "text": [
            "100%|██████████| 2073610/2073610 [03:11<00:00, 10804.55it/s]\n",
            "100%|██████████| 20946/20946 [01:21<00:00, 255.90it/s]\n"
          ]
        },
        {
          "name": "stdout",
          "output_type": "stream",
          "text": [
            "RMSE training:  16.61896532193889\n",
            "Epoch: 8 of 10\n"
          ]
        },
        {
          "name": "stderr",
          "output_type": "stream",
          "text": [
            "100%|██████████| 2073610/2073610 [03:10<00:00, 10906.13it/s]\n",
            "100%|██████████| 20946/20946 [01:20<00:00, 259.18it/s]\n"
          ]
        },
        {
          "name": "stdout",
          "output_type": "stream",
          "text": [
            "RMSE training:  22.085754230964078\n",
            "Epoch: 9 of 10\n"
          ]
        },
        {
          "name": "stderr",
          "output_type": "stream",
          "text": [
            "100%|██████████| 2073610/2073610 [03:11<00:00, 10817.38it/s]\n",
            "100%|██████████| 20946/20946 [01:21<00:00, 258.35it/s]\n"
          ]
        },
        {
          "name": "stdout",
          "output_type": "stream",
          "text": [
            "RMSE training:  28.74651593713007\n",
            "Termino i= 31\n",
            "------------------------------------------------\n",
            "Column:  Province_State_encoded\n",
            "Epoch: 1 of 10\n"
          ]
        },
        {
          "name": "stderr",
          "output_type": "stream",
          "text": [
            "100%|██████████| 2073610/2073610 [03:07<00:00, 11063.26it/s]\n",
            "100%|██████████| 20946/20946 [01:20<00:00, 261.17it/s]\n"
          ]
        },
        {
          "name": "stdout",
          "output_type": "stream",
          "text": [
            "RMSE training:  143.4967740562629\n",
            "Se guardo el mejor modelo\n",
            "------------------------------------------------\n",
            "Epoch: 2 of 10\n"
          ]
        },
        {
          "name": "stderr",
          "output_type": "stream",
          "text": [
            "100%|██████████| 2073610/2073610 [03:07<00:00, 11050.90it/s]\n",
            "100%|██████████| 20946/20946 [01:20<00:00, 260.47it/s]\n"
          ]
        },
        {
          "name": "stdout",
          "output_type": "stream",
          "text": [
            "RMSE training:  55935.049775792526\n",
            "Epoch: 3 of 10\n"
          ]
        },
        {
          "name": "stderr",
          "output_type": "stream",
          "text": [
            "100%|██████████| 2073610/2073610 [03:10<00:00, 10890.26it/s]\n",
            "100%|██████████| 20946/20946 [01:22<00:00, 254.98it/s]\n"
          ]
        },
        {
          "name": "stdout",
          "output_type": "stream",
          "text": [
            "RMSE training:  8776727.87750991\n",
            "Epoch: 4 of 10\n"
          ]
        },
        {
          "name": "stderr",
          "output_type": "stream",
          "text": [
            "100%|██████████| 2073610/2073610 [03:12<00:00, 10764.86it/s]\n",
            "100%|██████████| 20946/20946 [01:21<00:00, 256.20it/s]\n"
          ]
        },
        {
          "name": "stdout",
          "output_type": "stream",
          "text": [
            "RMSE training:  1369533563.4699411\n",
            "Epoch: 5 of 10\n"
          ]
        },
        {
          "name": "stderr",
          "output_type": "stream",
          "text": [
            "100%|██████████| 2073610/2073610 [03:16<00:00, 10577.08it/s]\n",
            "100%|██████████| 20946/20946 [01:23<00:00, 250.30it/s]\n"
          ]
        },
        {
          "name": "stdout",
          "output_type": "stream",
          "text": [
            "RMSE training:  213696406192.1698\n",
            "Epoch: 6 of 10\n"
          ]
        },
        {
          "name": "stderr",
          "output_type": "stream",
          "text": [
            "100%|██████████| 2073610/2073610 [03:12<00:00, 10746.07it/s]\n",
            "100%|██████████| 20946/20946 [01:23<00:00, 251.08it/s]\n"
          ]
        },
        {
          "name": "stdout",
          "output_type": "stream",
          "text": [
            "RMSE training:  33344304017207.11\n",
            "Epoch: 7 of 10\n"
          ]
        },
        {
          "name": "stderr",
          "output_type": "stream",
          "text": [
            "100%|██████████| 2073610/2073610 [03:14<00:00, 10686.17it/s]\n",
            "100%|██████████| 20946/20946 [01:23<00:00, 251.41it/s]\n"
          ]
        },
        {
          "name": "stdout",
          "output_type": "stream",
          "text": [
            "RMSE training:  5202907379515026.0\n",
            "Epoch: 8 of 10\n"
          ]
        },
        {
          "name": "stderr",
          "output_type": "stream",
          "text": [
            "100%|██████████| 2073610/2073610 [03:13<00:00, 10714.83it/s]\n",
            "100%|██████████| 20946/20946 [01:24<00:00, 247.53it/s]\n"
          ]
        },
        {
          "name": "stdout",
          "output_type": "stream",
          "text": [
            "RMSE training:  8.118401627332392e+17\n",
            "Epoch: 9 of 10\n"
          ]
        },
        {
          "name": "stderr",
          "output_type": "stream",
          "text": [
            "100%|██████████| 2073610/2073610 [03:18<00:00, 10441.45it/s]\n",
            "100%|██████████| 20946/20946 [01:22<00:00, 253.87it/s]\n"
          ]
        },
        {
          "name": "stdout",
          "output_type": "stream",
          "text": [
            "RMSE training:  1.2667618347803967e+20\n",
            "Termino i= 32\n",
            "------------------------------------------------\n",
            "Column:  Last_Update_encoded\n",
            "Epoch: 1 of 10\n"
          ]
        },
        {
          "name": "stderr",
          "output_type": "stream",
          "text": [
            "100%|██████████| 2073610/2073610 [03:12<00:00, 10780.13it/s]\n",
            "100%|██████████| 20946/20946 [01:22<00:00, 255.11it/s]\n"
          ]
        },
        {
          "name": "stdout",
          "output_type": "stream",
          "text": [
            "RMSE training:  105.88467082581168\n",
            "Se guardo el mejor modelo\n",
            "------------------------------------------------\n",
            "Epoch: 2 of 10\n"
          ]
        },
        {
          "name": "stderr",
          "output_type": "stream",
          "text": [
            "100%|██████████| 2073610/2073610 [03:12<00:00, 10764.21it/s]\n",
            "100%|██████████| 20946/20946 [01:21<00:00, 255.96it/s]\n"
          ]
        },
        {
          "name": "stdout",
          "output_type": "stream",
          "text": [
            "RMSE training:  113337.49626291721\n",
            "Epoch: 3 of 10\n"
          ]
        },
        {
          "name": "stderr",
          "output_type": "stream",
          "text": [
            "100%|██████████| 2073610/2073610 [03:15<00:00, 10631.56it/s]\n",
            "100%|██████████| 20946/20946 [01:21<00:00, 257.04it/s]\n"
          ]
        },
        {
          "name": "stdout",
          "output_type": "stream",
          "text": [
            "RMSE training:  27109040.953681443\n",
            "Epoch: 4 of 10\n"
          ]
        },
        {
          "name": "stderr",
          "output_type": "stream",
          "text": [
            "100%|██████████| 2073610/2073610 [03:10<00:00, 10863.17it/s]\n",
            "100%|██████████| 20946/20946 [01:21<00:00, 258.56it/s]\n"
          ]
        },
        {
          "name": "stdout",
          "output_type": "stream",
          "text": [
            "RMSE training:  6458463324.356924\n",
            "Epoch: 5 of 10\n"
          ]
        },
        {
          "name": "stderr",
          "output_type": "stream",
          "text": [
            "100%|██████████| 2073610/2073610 [03:06<00:00, 11091.68it/s]\n",
            "100%|██████████| 20946/20946 [01:20<00:00, 260.45it/s]\n"
          ]
        },
        {
          "name": "stdout",
          "output_type": "stream",
          "text": [
            "RMSE training:  1538639952617.177\n",
            "Epoch: 6 of 10\n"
          ]
        },
        {
          "name": "stderr",
          "output_type": "stream",
          "text": [
            "100%|██████████| 2073610/2073610 [03:07<00:00, 11030.40it/s]\n",
            "100%|██████████| 20946/20946 [01:21<00:00, 258.25it/s]\n"
          ]
        },
        {
          "name": "stdout",
          "output_type": "stream",
          "text": [
            "RMSE training:  366559755603915.1\n",
            "Epoch: 7 of 10\n"
          ]
        },
        {
          "name": "stderr",
          "output_type": "stream",
          "text": [
            "100%|██████████| 2073610/2073610 [03:10<00:00, 10907.97it/s]\n",
            "100%|██████████| 20946/20946 [01:21<00:00, 258.05it/s]\n"
          ]
        },
        {
          "name": "stdout",
          "output_type": "stream",
          "text": [
            "RMSE training:  8.732780801657022e+16\n",
            "Epoch: 8 of 10\n"
          ]
        },
        {
          "name": "stderr",
          "output_type": "stream",
          "text": [
            "100%|██████████| 2073610/2073610 [03:10<00:00, 10899.59it/s]\n",
            "100%|██████████| 20946/20946 [01:21<00:00, 258.08it/s]\n"
          ]
        },
        {
          "name": "stdout",
          "output_type": "stream",
          "text": [
            "RMSE training:  2.0804646272216265e+19\n",
            "Epoch: 9 of 10\n"
          ]
        },
        {
          "name": "stderr",
          "output_type": "stream",
          "text": [
            "100%|██████████| 2073610/2073610 [03:11<00:00, 10853.96it/s]\n",
            "100%|██████████| 20946/20946 [01:22<00:00, 254.43it/s]\n"
          ]
        },
        {
          "name": "stdout",
          "output_type": "stream",
          "text": [
            "RMSE training:  4.956420140877818e+21\n",
            "Termino i= 33\n",
            "------------------------------------------------\n",
            "Column:  date_encoded\n",
            "Epoch: 1 of 10\n"
          ]
        },
        {
          "name": "stderr",
          "output_type": "stream",
          "text": [
            "100%|██████████| 2073610/2073610 [03:16<00:00, 10544.30it/s]\n",
            "100%|██████████| 20946/20946 [01:23<00:00, 250.49it/s]\n"
          ]
        },
        {
          "name": "stdout",
          "output_type": "stream",
          "text": [
            "RMSE training:  43.363504871138346\n",
            "Se guardo el mejor modelo\n",
            "------------------------------------------------\n",
            "Epoch: 2 of 10\n"
          ]
        },
        {
          "name": "stderr",
          "output_type": "stream",
          "text": [
            "100%|██████████| 2073610/2073610 [03:13<00:00, 10715.53it/s]\n",
            "100%|██████████| 20946/20946 [01:22<00:00, 252.94it/s]\n"
          ]
        },
        {
          "name": "stdout",
          "output_type": "stream",
          "text": [
            "RMSE training:  106438.28554264795\n",
            "Epoch: 3 of 10\n"
          ]
        },
        {
          "name": "stderr",
          "output_type": "stream",
          "text": [
            "100%|██████████| 2073610/2073610 [03:14<00:00, 10685.21it/s]\n",
            "100%|██████████| 20946/20946 [01:21<00:00, 256.80it/s]\n"
          ]
        },
        {
          "name": "stdout",
          "output_type": "stream",
          "text": [
            "RMSE training:  24802283.27317664\n",
            "Epoch: 4 of 10\n"
          ]
        },
        {
          "name": "stderr",
          "output_type": "stream",
          "text": [
            "100%|██████████| 2073610/2073610 [03:09<00:00, 10928.68it/s]\n",
            "100%|██████████| 20946/20946 [01:20<00:00, 258.92it/s]\n"
          ]
        },
        {
          "name": "stdout",
          "output_type": "stream",
          "text": [
            "RMSE training:  5754345258.348131\n",
            "Epoch: 5 of 10\n"
          ]
        },
        {
          "name": "stderr",
          "output_type": "stream",
          "text": [
            "100%|██████████| 2073610/2073610 [03:10<00:00, 10878.45it/s]\n",
            "100%|██████████| 20946/20946 [01:22<00:00, 255.10it/s]\n"
          ]
        },
        {
          "name": "stdout",
          "output_type": "stream",
          "text": [
            "RMSE training:  1335033015045.725\n",
            "Epoch: 6 of 10\n"
          ]
        },
        {
          "name": "stderr",
          "output_type": "stream",
          "text": [
            "100%|██████████| 2073610/2073610 [03:12<00:00, 10771.56it/s]\n",
            "100%|██████████| 20946/20946 [01:24<00:00, 247.43it/s]\n"
          ]
        },
        {
          "name": "stdout",
          "output_type": "stream",
          "text": [
            "RMSE training:  309733415212885.4\n",
            "Epoch: 7 of 10\n"
          ]
        },
        {
          "name": "stderr",
          "output_type": "stream",
          "text": [
            "100%|██████████| 2073610/2073610 [03:17<00:00, 10493.87it/s]\n",
            "100%|██████████| 20946/20946 [01:22<00:00, 252.86it/s]\n"
          ]
        },
        {
          "name": "stdout",
          "output_type": "stream",
          "text": [
            "RMSE training:  7.185948765744251e+16\n",
            "Epoch: 8 of 10\n"
          ]
        },
        {
          "name": "stderr",
          "output_type": "stream",
          "text": [
            "100%|██████████| 2073610/2073610 [03:12<00:00, 10782.00it/s]\n",
            "100%|██████████| 20946/20946 [01:20<00:00, 258.69it/s]\n"
          ]
        },
        {
          "name": "stdout",
          "output_type": "stream",
          "text": [
            "RMSE training:  1.6671710938367216e+19\n",
            "Epoch: 9 of 10\n"
          ]
        },
        {
          "name": "stderr",
          "output_type": "stream",
          "text": [
            "100%|██████████| 2073610/2073610 [03:08<00:00, 11011.43it/s]\n",
            "100%|██████████| 20946/20946 [01:21<00:00, 257.14it/s]\n"
          ]
        },
        {
          "name": "stdout",
          "output_type": "stream",
          "text": [
            "RMSE training:  3.8679088130638e+21\n",
            "Termino i= 34\n",
            "------------------------------------------------\n",
            "Learning Finished!\n"
          ]
        }
      ],
      "source": [
        "\n",
        "setup_seed(2023)\n",
        "size_representation=33\n",
        "model = Transformer_model(size_representation).to(device) #LSTM_model, GRU_model, Transformer_model\n",
        "# train\n",
        "iteration = 10 # 60\n",
        "lr = 0.0005\n",
        "wd = 0.01\n",
        "max_norm=10\n",
        "batch_size=128 #32\n",
        "eval_size = 0.01 # 0.1\n",
        "\n",
        "i =14 #44 - 33 # cambiar este i por cada dia\n",
        "\n",
        "columnas = df_train_encoded.columns[i:]\n",
        "\n",
        "for column in columnas:\n",
        "  model = Transformer_model(size_representation).to(device)\n",
        "  print(\"Column: \", column)\n",
        "  Xtrain, Ytrain, ss1, Xeval, Yeval , ssEval = getDataTrainEval(df_train_encoded, column, eval_size)\n",
        "\n",
        "  rmse_best = 1000000\n",
        "  for epoch in range(1, iteration):\n",
        "      print(\"Epoch: \"+ str(epoch) + \" of \" + str(iteration))\n",
        "      if epoch % 2 == 0 and lr >= 0.000025:\n",
        "          lr /= 2\n",
        "      loss_train = train(Xtrain, Ytrain, model, lr, wd, max_norm, batch_size)\n",
        "\n",
        "      Yeval_predict = eva(Xeval, model)\n",
        "      Yeval_predict = ssEval.inverse_transform(Yeval_predict)\n",
        "      Yeval = ssEval.inverse_transform(Yeval)\n",
        "      #Y_DS_predict = eva(X_DS, model)\n",
        "      #Y_DS_predict = ss1.inverse_transform(Y_DS_predict)\n",
        "\n",
        "      rmse_train = sqrt(metrics.mean_squared_error(Yeval, Yeval_predict))\n",
        "      #rmse_test = sqrt(metrics.mean_squared_error(Y_DS, Y_DS_predict))\n",
        "      print('RMSE training: ', rmse_train)\n",
        "      if rmse_train < rmse_best:\n",
        "          rmse_best = rmse_train\n",
        "          torch.save(model, PATH_DATA_PROCESADA+'/model_csse_covid_19_data_Trasnformer_'+column+'_Desarrollo='+str(MODO_DESARROLLO))\n",
        "          print(\"Se guardo el mejor modelo\")\n",
        "          print(\"------------------------------------------------\")\n",
        "  i = i+1\n",
        "  print(\"Termino i=\", i)\n",
        "  print(\"------------------------------------------------\")\n",
        "\n",
        "print(\"Learning Finished!\")\n",
        "\n"
      ]
    },
    {
      "cell_type": "markdown",
      "metadata": {
        "id": "77Uqv_1K1adi"
      },
      "source": [
        "## Guardo el resusltado"
      ]
    },
    {
      "cell_type": "code",
      "execution_count": null,
      "metadata": {
        "colab": {
          "base_uri": "https://localhost:8080/"
        },
        "id": "uRUt6_6rEUEw",
        "outputId": "cb9d8d57-bdfb-46bf-ba2b-0dd7174e9c78"
      },
      "outputs": [
        {
          "metadata": {
            "tags": null
          },
          "name": "stdout",
          "output_type": "stream",
          "text": [
            "Column procesada:  Country_Region_Australia\n",
            "Column procesada:  Country_Region_Belgium\n",
            "Column procesada:  Country_Region_Brazil\n",
            "Column procesada:  Country_Region_Canada\n",
            "Column procesada:  Country_Region_Chile\n",
            "Column procesada:  Country_Region_China\n",
            "Column procesada:  Country_Region_Colombia\n",
            "Column procesada:  Country_Region_Denmark\n",
            "Column procesada:  Country_Region_France\n",
            "Column procesada:  Country_Region_Germany\n",
            "Column procesada:  Country_Region_India\n",
            "Column procesada:  Country_Region_Italy\n",
            "Column procesada:  Country_Region_Japan\n",
            "Column procesada:  Country_Region_Malaysia\n",
            "Column procesada:  Country_Region_Mexico\n",
            "Column procesada:  Country_Region_Netherlands\n",
            "Column procesada:  Country_Region_New Zealand\n",
            "Column procesada:  Country_Region_Pakistan\n",
            "Column procesada:  Country_Region_Peru\n",
            "Column procesada:  Country_Region_Russia\n",
            "Column procesada:  Country_Region_Spain\n",
            "Column procesada:  Country_Region_Sweden\n",
            "Column procesada:  Country_Region_US\n",
            "Column:  Country_Region_Ukraine\n"
          ]
        },
        {
          "output_type": "stream",
          "name": "stderr",
          "text": [
            "100%|██████████| 897667/897667 [53:35<00:00, 279.17it/s]\n"
          ]
        },
        {
          "output_type": "stream",
          "name": "stdout",
          "text": [
            "RMSE column for  Country_Region_Ukraine 0.08393983779450627\n",
            "------------------------------------------------\n",
            "RMSE total  0.08393983779450627\n",
            "------------------------------------------------\n",
            "GUARDO EN csv\n",
            "Termino i= 24\n",
            "------------------------------------------------\n",
            "Column:  Country_Region_United Kingdom\n"
          ]
        },
        {
          "output_type": "stream",
          "name": "stderr",
          "text": [
            "100%|██████████| 897667/897667 [53:36<00:00, 279.06it/s]\n"
          ]
        },
        {
          "output_type": "stream",
          "name": "stdout",
          "text": [
            "RMSE column for  Country_Region_United Kingdom 0.14431681031133256\n",
            "------------------------------------------------\n",
            "RMSE total  0.22825664810583884\n",
            "------------------------------------------------\n",
            "GUARDO EN csv\n",
            "Termino i= 25\n",
            "------------------------------------------------\n",
            "Column:  Lat\n"
          ]
        },
        {
          "output_type": "stream",
          "name": "stderr",
          "text": [
            "100%|██████████| 897667/897667 [52:56<00:00, 282.61it/s]\n"
          ]
        },
        {
          "output_type": "stream",
          "name": "stdout",
          "text": [
            "RMSE column for  Lat 7.015456303644341\n",
            "------------------------------------------------\n",
            "RMSE total  7.24371295175018\n",
            "------------------------------------------------\n",
            "GUARDO EN csv\n",
            "Termino i= 26\n",
            "------------------------------------------------\n",
            "Column:  Long_\n"
          ]
        },
        {
          "output_type": "stream",
          "name": "stderr",
          "text": [
            "100%|██████████| 897667/897667 [51:49<00:00, 288.69it/s]\n"
          ]
        },
        {
          "output_type": "stream",
          "name": "stdout",
          "text": [
            "RMSE column for  Long_ 23.39767514186189\n",
            "------------------------------------------------\n",
            "RMSE total  30.64138809361207\n",
            "------------------------------------------------\n",
            "GUARDO EN csv\n",
            "Termino i= 27\n",
            "------------------------------------------------\n",
            "Column:  Confirmed\n"
          ]
        },
        {
          "output_type": "stream",
          "name": "stderr",
          "text": [
            "100%|██████████| 897667/897667 [51:10<00:00, 292.39it/s]\n"
          ]
        },
        {
          "output_type": "stream",
          "name": "stdout",
          "text": [
            "RMSE column for  Confirmed 207547.68083192114\n",
            "------------------------------------------------\n",
            "RMSE total  207578.32222001476\n",
            "------------------------------------------------\n",
            "GUARDO EN csv\n",
            "Termino i= 28\n",
            "------------------------------------------------\n",
            "Column:  Deaths\n"
          ]
        },
        {
          "output_type": "stream",
          "name": "stderr",
          "text": [
            "100%|██████████| 897667/897667 [50:59<00:00, 293.37it/s]\n"
          ]
        },
        {
          "output_type": "stream",
          "name": "stdout",
          "text": [
            "RMSE column for  Deaths 2906.7348002239237\n",
            "------------------------------------------------\n",
            "RMSE total  210485.0570202387\n",
            "------------------------------------------------\n",
            "GUARDO EN csv\n",
            "Termino i= 29\n",
            "------------------------------------------------\n",
            "Column:  Incident_Rate\n"
          ]
        },
        {
          "output_type": "stream",
          "name": "stderr",
          "text": [
            "100%|██████████| 897667/897667 [50:46<00:00, 294.68it/s]\n"
          ]
        },
        {
          "output_type": "stream",
          "name": "stdout",
          "text": [
            "RMSE column for  Incident_Rate 6849.64258501984\n",
            "------------------------------------------------\n",
            "RMSE total  217334.69960525853\n",
            "------------------------------------------------\n",
            "GUARDO EN csv\n",
            "Termino i= 30\n",
            "------------------------------------------------\n",
            "Column:  Case_Fatality_Ratio\n"
          ]
        },
        {
          "output_type": "stream",
          "name": "stderr",
          "text": [
            "100%|██████████| 897667/897667 [50:46<00:00, 294.69it/s]\n"
          ]
        },
        {
          "output_type": "stream",
          "name": "stdout",
          "text": [
            "RMSE column for  Case_Fatality_Ratio 1.076558016843496\n",
            "------------------------------------------------\n",
            "RMSE total  217335.77616327538\n",
            "------------------------------------------------\n",
            "GUARDO EN csv\n",
            "Termino i= 31\n",
            "------------------------------------------------\n",
            "Column:  Province_State_encoded\n"
          ]
        },
        {
          "output_type": "stream",
          "name": "stderr",
          "text": [
            "100%|██████████| 897667/897667 [50:46<00:00, 294.63it/s]\n"
          ]
        },
        {
          "output_type": "stream",
          "name": "stdout",
          "text": [
            "RMSE column for  Province_State_encoded 148.6064034791094\n",
            "------------------------------------------------\n",
            "RMSE total  217484.3825667545\n",
            "------------------------------------------------\n",
            "GUARDO EN csv\n",
            "Termino i= 32\n",
            "------------------------------------------------\n",
            "Column:  Last_Update_encoded\n"
          ]
        },
        {
          "output_type": "stream",
          "name": "stderr",
          "text": [
            "100%|██████████| 897667/897667 [50:59<00:00, 293.37it/s]\n"
          ]
        },
        {
          "output_type": "stream",
          "name": "stdout",
          "text": [
            "RMSE column for  Last_Update_encoded 152.02872600692936\n",
            "------------------------------------------------\n",
            "RMSE total  217636.41129276142\n",
            "------------------------------------------------\n",
            "GUARDO EN csv\n",
            "Termino i= 33\n",
            "------------------------------------------------\n",
            "Column:  date_encoded\n"
          ]
        },
        {
          "output_type": "stream",
          "name": "stderr",
          "text": [
            "100%|██████████| 897667/897667 [50:56<00:00, 293.71it/s]\n"
          ]
        },
        {
          "output_type": "stream",
          "name": "stdout",
          "text": [
            "RMSE column for  date_encoded 173.20791147926502\n",
            "------------------------------------------------\n",
            "RMSE total  217809.61920424068\n",
            "------------------------------------------------\n",
            "GUARDO EN csv\n",
            "Termino i= 34\n",
            "------------------------------------------------\n",
            "RMSE total test for  0.24263966393355296\n",
            "Se termino las pruebas!\n",
            "CPU times: user 9h 33min 12s, sys: 1min 47s, total: 9h 34min 59s\n",
            "Wall time: 9h 33min 43s\n"
          ]
        }
      ],
      "source": [
        "%%time\n",
        "\n",
        "columnas = df_train_encoded.columns#[1:]\n",
        "i = 0\n",
        "\n",
        "try :\n",
        "  filled_data = pd.read_csv(PATH_DATA_PROCESADA+'/csse_covid_19_data_Transformer_Desarrollo='+str(MODO_DESARROLLO)+'.csv')\n",
        "except:\n",
        "  filled_data = pd.DataFrame()\n",
        "  pass\n",
        "\n",
        "for  column in columnas:\n",
        "  if column in filled_data.columns:\n",
        "    print(\"Column procesada: \", column)\n",
        "    i = i+1\n",
        "    continue\n",
        "  else:\n",
        "    print(\"Column: \", column)\n",
        "    X_DS, Y_DS, ss3 = getDataTest(column)\n",
        "    model = torch.load( PATH_DATA_PROCESADA+'/model_csse_covid_19_data_Trasnformer_'+column+'_Desarrollo='+str(MODO_DESARROLLO))\n",
        "    #model.eval()\n",
        "    Y_DS_predict = eva(X_DS, model)\n",
        "    Y_DS_predict = ss3.inverse_transform(Y_DS_predict)\n",
        "    Y_DS = ss3.inverse_transform(Y_DS)\n",
        "    rmse_column =  sqrt(metrics.mean_squared_error(Y_DS, Y_DS_predict))\n",
        "    print('RMSE column for ', (column),(rmse_column))\n",
        "    print(\"------------------------------------------------\")\n",
        "    output_list = [item[0] for item in Y_DS_predict]\n",
        "    filled_data[column] = output_list\n",
        "    print(\"GUARDO EN csv\")\n",
        "    filled_data.to_csv(PATH_DATA_PROCESADA+'/csse_covid_19_data_Transformer_Desarrollo='+str(MODO_DESARROLLO)+'.csv', index=False)\n",
        "    i = i+1\n",
        "    print(\"Termino i=\", i)\n",
        "    print(\"------------------------------------------------\")\n",
        "\n",
        "print(\"Se termino las pruebas!\")"
      ]
    },
    {
      "cell_type": "markdown",
      "source": [
        "## Calculo RMSE"
      ],
      "metadata": {
        "id": "V1S8oH_U5xP8"
      }
    },
    {
      "cell_type": "code",
      "source": [
        "filled_data = pd.read_csv(PATH_DATA_PROCESADA+'/csse_covid_19_data_Transformer_Desarrollo='+str(MODO_DESARROLLO)+'.csv')\n",
        "filled_data.reset_index(drop=True, inplace=True)\n",
        "filled_data"
      ],
      "metadata": {
        "colab": {
          "base_uri": "https://localhost:8080/",
          "height": 461
        },
        "id": "EjRyu73mBz4b",
        "outputId": "d4fdb321-6c3a-4de4-d73f-f7c2ea1d8be3"
      },
      "execution_count": null,
      "outputs": [
        {
          "output_type": "execute_result",
          "data": {
            "text/plain": [
              "        Country_Region_Australia  Country_Region_Belgium  \\\n",
              "0                  -1.725459e-04                0.008322   \n",
              "1                   7.271792e-06                0.000192   \n",
              "2                  -1.172346e-05                0.000047   \n",
              "3                  -8.800903e-05                0.000770   \n",
              "4                  -5.922324e-05                0.016164   \n",
              "...                          ...                     ...   \n",
              "897662             -2.165439e-05                0.000392   \n",
              "897663             -1.279528e-04                0.011986   \n",
              "897664             -9.230476e-05                0.000906   \n",
              "897665             -3.452294e-05                0.000381   \n",
              "897666             -7.825185e-07                0.000304   \n",
              "\n",
              "        Country_Region_Brazil  Country_Region_Canada  Country_Region_Chile  \\\n",
              "0                    0.002234               0.038947              0.000177   \n",
              "1                   -0.000273               0.001110             -0.000071   \n",
              "2                   -0.000100               0.002781              0.000131   \n",
              "3                    0.001102               0.001915              0.000303   \n",
              "4                    0.001850               0.041086              0.000132   \n",
              "...                       ...                    ...                   ...   \n",
              "897662               0.000096               0.000706             -0.000244   \n",
              "897663               0.001993               0.059711              0.000322   \n",
              "897664               0.000496               0.002454             -0.000024   \n",
              "897665               0.000091               0.000796              0.000133   \n",
              "897666               0.000318               0.003545             -0.000233   \n",
              "\n",
              "        Country_Region_China  Country_Region_Colombia  Country_Region_Denmark  \\\n",
              "0                   0.007937                -0.000150                0.000212   \n",
              "1                  -0.000644                -0.000247                0.000014   \n",
              "2                  -0.000713                -0.000359                0.000056   \n",
              "3                   0.001312                -0.000217               -0.000219   \n",
              "4                   0.009330                -0.000011                0.000035   \n",
              "...                      ...                      ...                     ...   \n",
              "897662              0.000098                -0.000201                0.000141   \n",
              "897663              0.007905                 0.000017                0.001367   \n",
              "897664              0.000039                -0.000505               -0.000017   \n",
              "897665              0.000402                -0.000220               -0.000196   \n",
              "897666              0.001407                 0.000001               -0.000214   \n",
              "\n",
              "        Country_Region_France  Country_Region_Germany  ...  \\\n",
              "0                    0.020261                0.000878  ...   \n",
              "1                    0.000399               -0.000326  ...   \n",
              "2                    0.000113               -0.000487  ...   \n",
              "3                    0.002565               -0.000445  ...   \n",
              "4                    0.026773                0.002974  ...   \n",
              "...                       ...                     ...  ...   \n",
              "897662               0.001306               -0.000385  ...   \n",
              "897663               0.019084               -0.000057  ...   \n",
              "897664               0.001027                0.001786  ...   \n",
              "897665              -0.000378               -0.000039  ...   \n",
              "897666               0.000841               -0.000460  ...   \n",
              "\n",
              "        Country_Region_United Kingdom        Lat       Long_   Confirmed  \\\n",
              "0                            0.022626  38.634070  -89.636010  12684.9640   \n",
              "1                            0.001299  38.577446  -86.995735   1421.3782   \n",
              "2                           -0.002449  36.280030  -91.716870  49159.6950   \n",
              "3                            0.004929  31.772310  -95.355576   7858.3780   \n",
              "4                            0.023477  38.691772  -90.667700  20604.2300   \n",
              "...                               ...        ...         ...         ...   \n",
              "897662                       0.002313  37.259335  -89.092000  62401.9960   \n",
              "897663                       0.025195  40.614662  -97.863365  35858.5350   \n",
              "897664                       0.002225  38.829765 -101.446690   6719.0770   \n",
              "897665                       0.000284  36.570770  -89.689316  84997.5600   \n",
              "897666                       0.001232  42.707760  -86.043840   9317.0260   \n",
              "\n",
              "             Deaths  Incident_Rate  Case_Fatality_Ratio  \\\n",
              "0        390.835200     23088.2560             2.064776   \n",
              "1         56.796450     24491.3670             1.514999   \n",
              "2        585.362400     26266.6910             0.511323   \n",
              "3          8.590275      6628.6416             1.864329   \n",
              "4        189.833680     18782.0840             1.599989   \n",
              "...             ...            ...                  ...   \n",
              "897662   614.096900      9188.8200             1.621869   \n",
              "897663   324.133420      8350.0600             1.575693   \n",
              "897664   321.037170     22246.3770             0.934488   \n",
              "897665   962.317700      9925.2270             1.228095   \n",
              "897666  1022.080300      8118.7285             0.608184   \n",
              "\n",
              "        Province_State_encoded  Last_Update_encoded  date_encoded  \n",
              "0                    311.47482           529.602540    305.113600  \n",
              "1                    371.50146           405.461300    207.482850  \n",
              "2                    353.51822           567.942750    221.050160  \n",
              "3                    361.46182           -18.666399      9.746195  \n",
              "4                    332.52734           290.975900    120.510260  \n",
              "...                        ...                  ...           ...  \n",
              "897662               345.39655           130.981490    275.505980  \n",
              "897663               349.01242           408.069430    178.301030  \n",
              "897664               405.26780           550.357800    305.939100  \n",
              "897665               293.95468           366.553770    361.204250  \n",
              "897666               227.06401            11.631911     70.461920  \n",
              "\n",
              "[897667 rows x 34 columns]"
            ],
            "text/html": [
              "\n",
              "  <div id=\"df-767b14e7-15e4-4332-93a7-fbca242633a8\" class=\"colab-df-container\">\n",
              "    <div>\n",
              "<style scoped>\n",
              "    .dataframe tbody tr th:only-of-type {\n",
              "        vertical-align: middle;\n",
              "    }\n",
              "\n",
              "    .dataframe tbody tr th {\n",
              "        vertical-align: top;\n",
              "    }\n",
              "\n",
              "    .dataframe thead th {\n",
              "        text-align: right;\n",
              "    }\n",
              "</style>\n",
              "<table border=\"1\" class=\"dataframe\">\n",
              "  <thead>\n",
              "    <tr style=\"text-align: right;\">\n",
              "      <th></th>\n",
              "      <th>Country_Region_Australia</th>\n",
              "      <th>Country_Region_Belgium</th>\n",
              "      <th>Country_Region_Brazil</th>\n",
              "      <th>Country_Region_Canada</th>\n",
              "      <th>Country_Region_Chile</th>\n",
              "      <th>Country_Region_China</th>\n",
              "      <th>Country_Region_Colombia</th>\n",
              "      <th>Country_Region_Denmark</th>\n",
              "      <th>Country_Region_France</th>\n",
              "      <th>Country_Region_Germany</th>\n",
              "      <th>...</th>\n",
              "      <th>Country_Region_United Kingdom</th>\n",
              "      <th>Lat</th>\n",
              "      <th>Long_</th>\n",
              "      <th>Confirmed</th>\n",
              "      <th>Deaths</th>\n",
              "      <th>Incident_Rate</th>\n",
              "      <th>Case_Fatality_Ratio</th>\n",
              "      <th>Province_State_encoded</th>\n",
              "      <th>Last_Update_encoded</th>\n",
              "      <th>date_encoded</th>\n",
              "    </tr>\n",
              "  </thead>\n",
              "  <tbody>\n",
              "    <tr>\n",
              "      <th>0</th>\n",
              "      <td>-1.725459e-04</td>\n",
              "      <td>0.008322</td>\n",
              "      <td>0.002234</td>\n",
              "      <td>0.038947</td>\n",
              "      <td>0.000177</td>\n",
              "      <td>0.007937</td>\n",
              "      <td>-0.000150</td>\n",
              "      <td>0.000212</td>\n",
              "      <td>0.020261</td>\n",
              "      <td>0.000878</td>\n",
              "      <td>...</td>\n",
              "      <td>0.022626</td>\n",
              "      <td>38.634070</td>\n",
              "      <td>-89.636010</td>\n",
              "      <td>12684.9640</td>\n",
              "      <td>390.835200</td>\n",
              "      <td>23088.2560</td>\n",
              "      <td>2.064776</td>\n",
              "      <td>311.47482</td>\n",
              "      <td>529.602540</td>\n",
              "      <td>305.113600</td>\n",
              "    </tr>\n",
              "    <tr>\n",
              "      <th>1</th>\n",
              "      <td>7.271792e-06</td>\n",
              "      <td>0.000192</td>\n",
              "      <td>-0.000273</td>\n",
              "      <td>0.001110</td>\n",
              "      <td>-0.000071</td>\n",
              "      <td>-0.000644</td>\n",
              "      <td>-0.000247</td>\n",
              "      <td>0.000014</td>\n",
              "      <td>0.000399</td>\n",
              "      <td>-0.000326</td>\n",
              "      <td>...</td>\n",
              "      <td>0.001299</td>\n",
              "      <td>38.577446</td>\n",
              "      <td>-86.995735</td>\n",
              "      <td>1421.3782</td>\n",
              "      <td>56.796450</td>\n",
              "      <td>24491.3670</td>\n",
              "      <td>1.514999</td>\n",
              "      <td>371.50146</td>\n",
              "      <td>405.461300</td>\n",
              "      <td>207.482850</td>\n",
              "    </tr>\n",
              "    <tr>\n",
              "      <th>2</th>\n",
              "      <td>-1.172346e-05</td>\n",
              "      <td>0.000047</td>\n",
              "      <td>-0.000100</td>\n",
              "      <td>0.002781</td>\n",
              "      <td>0.000131</td>\n",
              "      <td>-0.000713</td>\n",
              "      <td>-0.000359</td>\n",
              "      <td>0.000056</td>\n",
              "      <td>0.000113</td>\n",
              "      <td>-0.000487</td>\n",
              "      <td>...</td>\n",
              "      <td>-0.002449</td>\n",
              "      <td>36.280030</td>\n",
              "      <td>-91.716870</td>\n",
              "      <td>49159.6950</td>\n",
              "      <td>585.362400</td>\n",
              "      <td>26266.6910</td>\n",
              "      <td>0.511323</td>\n",
              "      <td>353.51822</td>\n",
              "      <td>567.942750</td>\n",
              "      <td>221.050160</td>\n",
              "    </tr>\n",
              "    <tr>\n",
              "      <th>3</th>\n",
              "      <td>-8.800903e-05</td>\n",
              "      <td>0.000770</td>\n",
              "      <td>0.001102</td>\n",
              "      <td>0.001915</td>\n",
              "      <td>0.000303</td>\n",
              "      <td>0.001312</td>\n",
              "      <td>-0.000217</td>\n",
              "      <td>-0.000219</td>\n",
              "      <td>0.002565</td>\n",
              "      <td>-0.000445</td>\n",
              "      <td>...</td>\n",
              "      <td>0.004929</td>\n",
              "      <td>31.772310</td>\n",
              "      <td>-95.355576</td>\n",
              "      <td>7858.3780</td>\n",
              "      <td>8.590275</td>\n",
              "      <td>6628.6416</td>\n",
              "      <td>1.864329</td>\n",
              "      <td>361.46182</td>\n",
              "      <td>-18.666399</td>\n",
              "      <td>9.746195</td>\n",
              "    </tr>\n",
              "    <tr>\n",
              "      <th>4</th>\n",
              "      <td>-5.922324e-05</td>\n",
              "      <td>0.016164</td>\n",
              "      <td>0.001850</td>\n",
              "      <td>0.041086</td>\n",
              "      <td>0.000132</td>\n",
              "      <td>0.009330</td>\n",
              "      <td>-0.000011</td>\n",
              "      <td>0.000035</td>\n",
              "      <td>0.026773</td>\n",
              "      <td>0.002974</td>\n",
              "      <td>...</td>\n",
              "      <td>0.023477</td>\n",
              "      <td>38.691772</td>\n",
              "      <td>-90.667700</td>\n",
              "      <td>20604.2300</td>\n",
              "      <td>189.833680</td>\n",
              "      <td>18782.0840</td>\n",
              "      <td>1.599989</td>\n",
              "      <td>332.52734</td>\n",
              "      <td>290.975900</td>\n",
              "      <td>120.510260</td>\n",
              "    </tr>\n",
              "    <tr>\n",
              "      <th>...</th>\n",
              "      <td>...</td>\n",
              "      <td>...</td>\n",
              "      <td>...</td>\n",
              "      <td>...</td>\n",
              "      <td>...</td>\n",
              "      <td>...</td>\n",
              "      <td>...</td>\n",
              "      <td>...</td>\n",
              "      <td>...</td>\n",
              "      <td>...</td>\n",
              "      <td>...</td>\n",
              "      <td>...</td>\n",
              "      <td>...</td>\n",
              "      <td>...</td>\n",
              "      <td>...</td>\n",
              "      <td>...</td>\n",
              "      <td>...</td>\n",
              "      <td>...</td>\n",
              "      <td>...</td>\n",
              "      <td>...</td>\n",
              "      <td>...</td>\n",
              "    </tr>\n",
              "    <tr>\n",
              "      <th>897662</th>\n",
              "      <td>-2.165439e-05</td>\n",
              "      <td>0.000392</td>\n",
              "      <td>0.000096</td>\n",
              "      <td>0.000706</td>\n",
              "      <td>-0.000244</td>\n",
              "      <td>0.000098</td>\n",
              "      <td>-0.000201</td>\n",
              "      <td>0.000141</td>\n",
              "      <td>0.001306</td>\n",
              "      <td>-0.000385</td>\n",
              "      <td>...</td>\n",
              "      <td>0.002313</td>\n",
              "      <td>37.259335</td>\n",
              "      <td>-89.092000</td>\n",
              "      <td>62401.9960</td>\n",
              "      <td>614.096900</td>\n",
              "      <td>9188.8200</td>\n",
              "      <td>1.621869</td>\n",
              "      <td>345.39655</td>\n",
              "      <td>130.981490</td>\n",
              "      <td>275.505980</td>\n",
              "    </tr>\n",
              "    <tr>\n",
              "      <th>897663</th>\n",
              "      <td>-1.279528e-04</td>\n",
              "      <td>0.011986</td>\n",
              "      <td>0.001993</td>\n",
              "      <td>0.059711</td>\n",
              "      <td>0.000322</td>\n",
              "      <td>0.007905</td>\n",
              "      <td>0.000017</td>\n",
              "      <td>0.001367</td>\n",
              "      <td>0.019084</td>\n",
              "      <td>-0.000057</td>\n",
              "      <td>...</td>\n",
              "      <td>0.025195</td>\n",
              "      <td>40.614662</td>\n",
              "      <td>-97.863365</td>\n",
              "      <td>35858.5350</td>\n",
              "      <td>324.133420</td>\n",
              "      <td>8350.0600</td>\n",
              "      <td>1.575693</td>\n",
              "      <td>349.01242</td>\n",
              "      <td>408.069430</td>\n",
              "      <td>178.301030</td>\n",
              "    </tr>\n",
              "    <tr>\n",
              "      <th>897664</th>\n",
              "      <td>-9.230476e-05</td>\n",
              "      <td>0.000906</td>\n",
              "      <td>0.000496</td>\n",
              "      <td>0.002454</td>\n",
              "      <td>-0.000024</td>\n",
              "      <td>0.000039</td>\n",
              "      <td>-0.000505</td>\n",
              "      <td>-0.000017</td>\n",
              "      <td>0.001027</td>\n",
              "      <td>0.001786</td>\n",
              "      <td>...</td>\n",
              "      <td>0.002225</td>\n",
              "      <td>38.829765</td>\n",
              "      <td>-101.446690</td>\n",
              "      <td>6719.0770</td>\n",
              "      <td>321.037170</td>\n",
              "      <td>22246.3770</td>\n",
              "      <td>0.934488</td>\n",
              "      <td>405.26780</td>\n",
              "      <td>550.357800</td>\n",
              "      <td>305.939100</td>\n",
              "    </tr>\n",
              "    <tr>\n",
              "      <th>897665</th>\n",
              "      <td>-3.452294e-05</td>\n",
              "      <td>0.000381</td>\n",
              "      <td>0.000091</td>\n",
              "      <td>0.000796</td>\n",
              "      <td>0.000133</td>\n",
              "      <td>0.000402</td>\n",
              "      <td>-0.000220</td>\n",
              "      <td>-0.000196</td>\n",
              "      <td>-0.000378</td>\n",
              "      <td>-0.000039</td>\n",
              "      <td>...</td>\n",
              "      <td>0.000284</td>\n",
              "      <td>36.570770</td>\n",
              "      <td>-89.689316</td>\n",
              "      <td>84997.5600</td>\n",
              "      <td>962.317700</td>\n",
              "      <td>9925.2270</td>\n",
              "      <td>1.228095</td>\n",
              "      <td>293.95468</td>\n",
              "      <td>366.553770</td>\n",
              "      <td>361.204250</td>\n",
              "    </tr>\n",
              "    <tr>\n",
              "      <th>897666</th>\n",
              "      <td>-7.825185e-07</td>\n",
              "      <td>0.000304</td>\n",
              "      <td>0.000318</td>\n",
              "      <td>0.003545</td>\n",
              "      <td>-0.000233</td>\n",
              "      <td>0.001407</td>\n",
              "      <td>0.000001</td>\n",
              "      <td>-0.000214</td>\n",
              "      <td>0.000841</td>\n",
              "      <td>-0.000460</td>\n",
              "      <td>...</td>\n",
              "      <td>0.001232</td>\n",
              "      <td>42.707760</td>\n",
              "      <td>-86.043840</td>\n",
              "      <td>9317.0260</td>\n",
              "      <td>1022.080300</td>\n",
              "      <td>8118.7285</td>\n",
              "      <td>0.608184</td>\n",
              "      <td>227.06401</td>\n",
              "      <td>11.631911</td>\n",
              "      <td>70.461920</td>\n",
              "    </tr>\n",
              "  </tbody>\n",
              "</table>\n",
              "<p>897667 rows × 34 columns</p>\n",
              "</div>\n",
              "    <div class=\"colab-df-buttons\">\n",
              "\n",
              "  <div class=\"colab-df-container\">\n",
              "    <button class=\"colab-df-convert\" onclick=\"convertToInteractive('df-767b14e7-15e4-4332-93a7-fbca242633a8')\"\n",
              "            title=\"Convert this dataframe to an interactive table.\"\n",
              "            style=\"display:none;\">\n",
              "\n",
              "  <svg xmlns=\"http://www.w3.org/2000/svg\" height=\"24px\" viewBox=\"0 -960 960 960\">\n",
              "    <path d=\"M120-120v-720h720v720H120Zm60-500h600v-160H180v160Zm220 220h160v-160H400v160Zm0 220h160v-160H400v160ZM180-400h160v-160H180v160Zm440 0h160v-160H620v160ZM180-180h160v-160H180v160Zm440 0h160v-160H620v160Z\"/>\n",
              "  </svg>\n",
              "    </button>\n",
              "\n",
              "  <style>\n",
              "    .colab-df-container {\n",
              "      display:flex;\n",
              "      gap: 12px;\n",
              "    }\n",
              "\n",
              "    .colab-df-convert {\n",
              "      background-color: #E8F0FE;\n",
              "      border: none;\n",
              "      border-radius: 50%;\n",
              "      cursor: pointer;\n",
              "      display: none;\n",
              "      fill: #1967D2;\n",
              "      height: 32px;\n",
              "      padding: 0 0 0 0;\n",
              "      width: 32px;\n",
              "    }\n",
              "\n",
              "    .colab-df-convert:hover {\n",
              "      background-color: #E2EBFA;\n",
              "      box-shadow: 0px 1px 2px rgba(60, 64, 67, 0.3), 0px 1px 3px 1px rgba(60, 64, 67, 0.15);\n",
              "      fill: #174EA6;\n",
              "    }\n",
              "\n",
              "    .colab-df-buttons div {\n",
              "      margin-bottom: 4px;\n",
              "    }\n",
              "\n",
              "    [theme=dark] .colab-df-convert {\n",
              "      background-color: #3B4455;\n",
              "      fill: #D2E3FC;\n",
              "    }\n",
              "\n",
              "    [theme=dark] .colab-df-convert:hover {\n",
              "      background-color: #434B5C;\n",
              "      box-shadow: 0px 1px 3px 1px rgba(0, 0, 0, 0.15);\n",
              "      filter: drop-shadow(0px 1px 2px rgba(0, 0, 0, 0.3));\n",
              "      fill: #FFFFFF;\n",
              "    }\n",
              "  </style>\n",
              "\n",
              "    <script>\n",
              "      const buttonEl =\n",
              "        document.querySelector('#df-767b14e7-15e4-4332-93a7-fbca242633a8 button.colab-df-convert');\n",
              "      buttonEl.style.display =\n",
              "        google.colab.kernel.accessAllowed ? 'block' : 'none';\n",
              "\n",
              "      async function convertToInteractive(key) {\n",
              "        const element = document.querySelector('#df-767b14e7-15e4-4332-93a7-fbca242633a8');\n",
              "        const dataTable =\n",
              "          await google.colab.kernel.invokeFunction('convertToInteractive',\n",
              "                                                    [key], {});\n",
              "        if (!dataTable) return;\n",
              "\n",
              "        const docLinkHtml = 'Like what you see? Visit the ' +\n",
              "          '<a target=\"_blank\" href=https://colab.research.google.com/notebooks/data_table.ipynb>data table notebook</a>'\n",
              "          + ' to learn more about interactive tables.';\n",
              "        element.innerHTML = '';\n",
              "        dataTable['output_type'] = 'display_data';\n",
              "        await google.colab.output.renderOutput(dataTable, element);\n",
              "        const docLink = document.createElement('div');\n",
              "        docLink.innerHTML = docLinkHtml;\n",
              "        element.appendChild(docLink);\n",
              "      }\n",
              "    </script>\n",
              "  </div>\n",
              "\n",
              "\n",
              "<div id=\"df-62b26b6e-4660-4af5-8b1e-ecb2a44cb620\">\n",
              "  <button class=\"colab-df-quickchart\" onclick=\"quickchart('df-62b26b6e-4660-4af5-8b1e-ecb2a44cb620')\"\n",
              "            title=\"Suggest charts\"\n",
              "            style=\"display:none;\">\n",
              "\n",
              "<svg xmlns=\"http://www.w3.org/2000/svg\" height=\"24px\"viewBox=\"0 0 24 24\"\n",
              "     width=\"24px\">\n",
              "    <g>\n",
              "        <path d=\"M19 3H5c-1.1 0-2 .9-2 2v14c0 1.1.9 2 2 2h14c1.1 0 2-.9 2-2V5c0-1.1-.9-2-2-2zM9 17H7v-7h2v7zm4 0h-2V7h2v10zm4 0h-2v-4h2v4z\"/>\n",
              "    </g>\n",
              "</svg>\n",
              "  </button>\n",
              "\n",
              "<style>\n",
              "  .colab-df-quickchart {\n",
              "      --bg-color: #E8F0FE;\n",
              "      --fill-color: #1967D2;\n",
              "      --hover-bg-color: #E2EBFA;\n",
              "      --hover-fill-color: #174EA6;\n",
              "      --disabled-fill-color: #AAA;\n",
              "      --disabled-bg-color: #DDD;\n",
              "  }\n",
              "\n",
              "  [theme=dark] .colab-df-quickchart {\n",
              "      --bg-color: #3B4455;\n",
              "      --fill-color: #D2E3FC;\n",
              "      --hover-bg-color: #434B5C;\n",
              "      --hover-fill-color: #FFFFFF;\n",
              "      --disabled-bg-color: #3B4455;\n",
              "      --disabled-fill-color: #666;\n",
              "  }\n",
              "\n",
              "  .colab-df-quickchart {\n",
              "    background-color: var(--bg-color);\n",
              "    border: none;\n",
              "    border-radius: 50%;\n",
              "    cursor: pointer;\n",
              "    display: none;\n",
              "    fill: var(--fill-color);\n",
              "    height: 32px;\n",
              "    padding: 0;\n",
              "    width: 32px;\n",
              "  }\n",
              "\n",
              "  .colab-df-quickchart:hover {\n",
              "    background-color: var(--hover-bg-color);\n",
              "    box-shadow: 0 1px 2px rgba(60, 64, 67, 0.3), 0 1px 3px 1px rgba(60, 64, 67, 0.15);\n",
              "    fill: var(--button-hover-fill-color);\n",
              "  }\n",
              "\n",
              "  .colab-df-quickchart-complete:disabled,\n",
              "  .colab-df-quickchart-complete:disabled:hover {\n",
              "    background-color: var(--disabled-bg-color);\n",
              "    fill: var(--disabled-fill-color);\n",
              "    box-shadow: none;\n",
              "  }\n",
              "\n",
              "  .colab-df-spinner {\n",
              "    border: 2px solid var(--fill-color);\n",
              "    border-color: transparent;\n",
              "    border-bottom-color: var(--fill-color);\n",
              "    animation:\n",
              "      spin 1s steps(1) infinite;\n",
              "  }\n",
              "\n",
              "  @keyframes spin {\n",
              "    0% {\n",
              "      border-color: transparent;\n",
              "      border-bottom-color: var(--fill-color);\n",
              "      border-left-color: var(--fill-color);\n",
              "    }\n",
              "    20% {\n",
              "      border-color: transparent;\n",
              "      border-left-color: var(--fill-color);\n",
              "      border-top-color: var(--fill-color);\n",
              "    }\n",
              "    30% {\n",
              "      border-color: transparent;\n",
              "      border-left-color: var(--fill-color);\n",
              "      border-top-color: var(--fill-color);\n",
              "      border-right-color: var(--fill-color);\n",
              "    }\n",
              "    40% {\n",
              "      border-color: transparent;\n",
              "      border-right-color: var(--fill-color);\n",
              "      border-top-color: var(--fill-color);\n",
              "    }\n",
              "    60% {\n",
              "      border-color: transparent;\n",
              "      border-right-color: var(--fill-color);\n",
              "    }\n",
              "    80% {\n",
              "      border-color: transparent;\n",
              "      border-right-color: var(--fill-color);\n",
              "      border-bottom-color: var(--fill-color);\n",
              "    }\n",
              "    90% {\n",
              "      border-color: transparent;\n",
              "      border-bottom-color: var(--fill-color);\n",
              "    }\n",
              "  }\n",
              "</style>\n",
              "\n",
              "  <script>\n",
              "    async function quickchart(key) {\n",
              "      const quickchartButtonEl =\n",
              "        document.querySelector('#' + key + ' button');\n",
              "      quickchartButtonEl.disabled = true;  // To prevent multiple clicks.\n",
              "      quickchartButtonEl.classList.add('colab-df-spinner');\n",
              "      try {\n",
              "        const charts = await google.colab.kernel.invokeFunction(\n",
              "            'suggestCharts', [key], {});\n",
              "      } catch (error) {\n",
              "        console.error('Error during call to suggestCharts:', error);\n",
              "      }\n",
              "      quickchartButtonEl.classList.remove('colab-df-spinner');\n",
              "      quickchartButtonEl.classList.add('colab-df-quickchart-complete');\n",
              "    }\n",
              "    (() => {\n",
              "      let quickchartButtonEl =\n",
              "        document.querySelector('#df-62b26b6e-4660-4af5-8b1e-ecb2a44cb620 button');\n",
              "      quickchartButtonEl.style.display =\n",
              "        google.colab.kernel.accessAllowed ? 'block' : 'none';\n",
              "    })();\n",
              "  </script>\n",
              "</div>\n",
              "\n",
              "  <div id=\"id_ca9cb6f0-7186-426c-a469-e756e3f0f856\">\n",
              "    <style>\n",
              "      .colab-df-generate {\n",
              "        background-color: #E8F0FE;\n",
              "        border: none;\n",
              "        border-radius: 50%;\n",
              "        cursor: pointer;\n",
              "        display: none;\n",
              "        fill: #1967D2;\n",
              "        height: 32px;\n",
              "        padding: 0 0 0 0;\n",
              "        width: 32px;\n",
              "      }\n",
              "\n",
              "      .colab-df-generate:hover {\n",
              "        background-color: #E2EBFA;\n",
              "        box-shadow: 0px 1px 2px rgba(60, 64, 67, 0.3), 0px 1px 3px 1px rgba(60, 64, 67, 0.15);\n",
              "        fill: #174EA6;\n",
              "      }\n",
              "\n",
              "      [theme=dark] .colab-df-generate {\n",
              "        background-color: #3B4455;\n",
              "        fill: #D2E3FC;\n",
              "      }\n",
              "\n",
              "      [theme=dark] .colab-df-generate:hover {\n",
              "        background-color: #434B5C;\n",
              "        box-shadow: 0px 1px 3px 1px rgba(0, 0, 0, 0.15);\n",
              "        filter: drop-shadow(0px 1px 2px rgba(0, 0, 0, 0.3));\n",
              "        fill: #FFFFFF;\n",
              "      }\n",
              "    </style>\n",
              "    <button class=\"colab-df-generate\" onclick=\"generateWithVariable('filled_data')\"\n",
              "            title=\"Generate code using this dataframe.\"\n",
              "            style=\"display:none;\">\n",
              "\n",
              "  <svg xmlns=\"http://www.w3.org/2000/svg\" height=\"24px\"viewBox=\"0 0 24 24\"\n",
              "       width=\"24px\">\n",
              "    <path d=\"M7,19H8.4L18.45,9,17,7.55,7,17.6ZM5,21V16.75L18.45,3.32a2,2,0,0,1,2.83,0l1.4,1.43a1.91,1.91,0,0,1,.58,1.4,1.91,1.91,0,0,1-.58,1.4L9.25,21ZM18.45,9,17,7.55Zm-12,3A5.31,5.31,0,0,0,4.9,8.1,5.31,5.31,0,0,0,1,6.5,5.31,5.31,0,0,0,4.9,4.9,5.31,5.31,0,0,0,6.5,1,5.31,5.31,0,0,0,8.1,4.9,5.31,5.31,0,0,0,12,6.5,5.46,5.46,0,0,0,6.5,12Z\"/>\n",
              "  </svg>\n",
              "    </button>\n",
              "    <script>\n",
              "      (() => {\n",
              "      const buttonEl =\n",
              "        document.querySelector('#id_ca9cb6f0-7186-426c-a469-e756e3f0f856 button.colab-df-generate');\n",
              "      buttonEl.style.display =\n",
              "        google.colab.kernel.accessAllowed ? 'block' : 'none';\n",
              "\n",
              "      buttonEl.onclick = () => {\n",
              "        google.colab.notebook.generateWithVariable('filled_data');\n",
              "      }\n",
              "      })();\n",
              "    </script>\n",
              "  </div>\n",
              "\n",
              "    </div>\n",
              "  </div>\n"
            ],
            "application/vnd.google.colaboratory.intrinsic+json": {
              "type": "dataframe",
              "variable_name": "filled_data"
            }
          },
          "metadata": {},
          "execution_count": 6
        }
      ]
    },
    {
      "cell_type": "code",
      "source": [
        "rmse = utils.rmse(df_test_encoded.to_numpy(), filled_data.to_numpy(), mask_test_open)\n",
        "print(\"rmse :\", rmse)"
      ],
      "metadata": {
        "id": "WMBKO89MAe2V",
        "colab": {
          "base_uri": "https://localhost:8080/"
        },
        "outputId": "8c2666ab-99f0-4c61-9141-ce4766f9fb43"
      },
      "execution_count": null,
      "outputs": [
        {
          "output_type": "stream",
          "name": "stdout",
          "text": [
            "rmse : 15137.151001106482\n"
          ]
        }
      ]
    },
    {
      "cell_type": "code",
      "source": [
        "df_test_encoded, filled_data = utils.obtener_df_imputados(df_test_encoded, filled_data, mask_test_open)"
      ],
      "metadata": {
        "id": "6q6PJVkHG7_s"
      },
      "execution_count": null,
      "outputs": []
    },
    {
      "cell_type": "code",
      "execution_count": null,
      "metadata": {
        "id": "B_cbxgC0mRJd",
        "colab": {
          "base_uri": "https://localhost:8080/"
        },
        "outputId": "1779b5f1-bad3-433e-e3ba-b63d7dc15634"
      },
      "outputs": [
        {
          "metadata": {
            "tags": null
          },
          "name": "stdout",
          "output_type": "stream",
          "text": [
            "inicio de decoding\n"
          ]
        },
        {
          "output_type": "stream",
          "name": "stderr",
          "text": [
            "897667it [01:52, 7960.39it/s]\n"
          ]
        },
        {
          "output_type": "stream",
          "name": "stdout",
          "text": [
            "imputed_data_decoded.head(5)\n",
            "  Province_State Country_Region          Last_Update        Lat    Long_  \\\n",
            "0          Texas             US  2021-01-02 05:22:33  41.123513 -83.1278   \n",
            "1          Texas             US  2021-01-02 05:22:33  38.577446 -75.2996   \n",
            "2          Texas             US  2021-01-02 05:22:33  35.780773 -91.7169   \n",
            "3          Texas             US  2021-01-02 05:22:33  33.618867 -95.3556   \n",
            "4          Texas             US  2021-01-02 05:22:33  43.720997 -87.9458   \n",
            "\n",
            "   Confirmed  Deaths  Incident_Rate  Case_Fatality_Ratio        date  \n",
            "0      12750     230   23107.035413             1.788235  01-01-2021  \n",
            "1      10041     167   19549.853001             1.663181  01-01-2021  \n",
            "2      49159     406   30784.732824             1.325795  01-01-2021  \n",
            "3        543      27    4167.013225             5.389222  01-01-2021  \n",
            "4      15026     171   13027.570661             1.138027  01-01-2021  \n",
            "imputed_data_decoded.to_csv\n",
            "fin de decoding\n"
          ]
        }
      ],
      "source": [
        "print(\"inicio de decoding\")\n",
        "\n",
        "imputed_data_decoded=utils.decode(filled_data, df_train_encoded, PATH_DATA_PROCESADA)\n",
        "\n",
        "print(\"imputed_data_decoded.head(5)\")\n",
        "print(imputed_data_decoded.head(5))\n",
        "\n",
        "print(\"imputed_data_decoded.to_csv\")\n",
        "imputed_data_decoded.to_csv(PATH_DATA_PROCESADA+'/csse_covid_19_data_Transformer_final_Desarrollo='+str(MODO_DESARROLLO)+'.csv', index=False)\n",
        "\n",
        "print(\"fin de decoding\")"
      ]
    }
  ],
  "metadata": {
    "accelerator": "GPU",
    "colab": {
      "gpuType": "A100",
      "toc_visible": true,
      "provenance": [],
      "include_colab_link": true
    },
    "kernelspec": {
      "display_name": "Python 3",
      "name": "python3"
    },
    "language_info": {
      "codemirror_mode": {
        "name": "ipython",
        "version": 3
      },
      "file_extension": ".py",
      "mimetype": "text/x-python",
      "name": "python",
      "nbconvert_exporter": "python",
      "pygments_lexer": "ipython3",
      "version": "3.6.4"
    },
    "varInspector": {
      "cols": {
        "lenName": 16,
        "lenType": 16,
        "lenVar": 40
      },
      "kernels_config": {
        "python": {
          "delete_cmd_postfix": "",
          "delete_cmd_prefix": "del ",
          "library": "var_list.py",
          "varRefreshCmd": "print(var_dic_list())"
        },
        "r": {
          "delete_cmd_postfix": ") ",
          "delete_cmd_prefix": "rm(",
          "library": "var_list.r",
          "varRefreshCmd": "cat(var_dic_list()) "
        }
      },
      "types_to_exclude": [
        "module",
        "function",
        "builtin_function_or_method",
        "instance",
        "_Feature"
      ],
      "window_display": false
    }
  },
  "nbformat": 4,
  "nbformat_minor": 0
}